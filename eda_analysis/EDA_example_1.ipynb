{
 "cells": [
  {
   "cell_type": "code",
   "execution_count": 18,
   "metadata": {},
   "outputs": [],
   "source": [
    "import pandas as pd\n",
    "import seaborn as sns\n",
    "import matplotlib.pyplot as plt\n",
    "sns.set(rc={'figure.figsize' : (12, 5)}, font='verdana')\n",
    "plt.style.use('dark_background')\n",
    "df_customers  = pd.read_csv('https://drive.google.com/uc?id=1P7oRu4FiJM2Vp8pd0YnmDybb-k2NYZuM') \n",
    "df_orders     = pd.read_csv('https://drive.google.com/uc?id=1YImQmfaKE5hM-k1jhczuGhj4jycc5Rmh')\n",
    "df_items      = pd.read_csv('https://drive.google.com/uc?id=1q_mVm-lkLQU1fj0CSCY-j8ru5lzauFNb')"
   ]
  },
  {
   "cell_type": "code",
   "execution_count": 2,
   "metadata": {},
   "outputs": [
    {
     "data": {
      "text/html": [
       "<div>\n",
       "<style scoped>\n",
       "    .dataframe tbody tr th:only-of-type {\n",
       "        vertical-align: middle;\n",
       "    }\n",
       "\n",
       "    .dataframe tbody tr th {\n",
       "        vertical-align: top;\n",
       "    }\n",
       "\n",
       "    .dataframe thead th {\n",
       "        text-align: right;\n",
       "    }\n",
       "</style>\n",
       "<table border=\"1\" class=\"dataframe\">\n",
       "  <thead>\n",
       "    <tr style=\"text-align: right;\">\n",
       "      <th></th>\n",
       "      <th>customer_id</th>\n",
       "      <th>customer_unique_id</th>\n",
       "      <th>customer_zip_code_prefix</th>\n",
       "      <th>customer_city</th>\n",
       "      <th>customer_state</th>\n",
       "    </tr>\n",
       "  </thead>\n",
       "  <tbody>\n",
       "    <tr>\n",
       "      <th>0</th>\n",
       "      <td>06b8999e2fba1a1fbc88172c00ba8bc7</td>\n",
       "      <td>861eff4711a542e4b93843c6dd7febb0</td>\n",
       "      <td>14409</td>\n",
       "      <td>franca</td>\n",
       "      <td>SP</td>\n",
       "    </tr>\n",
       "  </tbody>\n",
       "</table>\n",
       "</div>"
      ],
      "text/plain": [
       "                        customer_id                customer_unique_id  \\\n",
       "0  06b8999e2fba1a1fbc88172c00ba8bc7  861eff4711a542e4b93843c6dd7febb0   \n",
       "\n",
       "   customer_zip_code_prefix customer_city customer_state  \n",
       "0                     14409        franca             SP  "
      ]
     },
     "execution_count": 2,
     "metadata": {},
     "output_type": "execute_result"
    }
   ],
   "source": [
    "df_customers.head(1)"
   ]
  },
  {
   "cell_type": "code",
   "execution_count": 3,
   "metadata": {},
   "outputs": [
    {
     "data": {
      "text/html": [
       "<div>\n",
       "<style scoped>\n",
       "    .dataframe tbody tr th:only-of-type {\n",
       "        vertical-align: middle;\n",
       "    }\n",
       "\n",
       "    .dataframe tbody tr th {\n",
       "        vertical-align: top;\n",
       "    }\n",
       "\n",
       "    .dataframe thead th {\n",
       "        text-align: right;\n",
       "    }\n",
       "</style>\n",
       "<table border=\"1\" class=\"dataframe\">\n",
       "  <thead>\n",
       "    <tr style=\"text-align: right;\">\n",
       "      <th></th>\n",
       "      <th>order_id</th>\n",
       "      <th>customer_id</th>\n",
       "      <th>order_status</th>\n",
       "      <th>order_purchase_timestamp</th>\n",
       "      <th>order_approved_at</th>\n",
       "      <th>order_delivered_carrier_date</th>\n",
       "      <th>order_delivered_customer_date</th>\n",
       "      <th>order_estimated_delivery_date</th>\n",
       "    </tr>\n",
       "  </thead>\n",
       "  <tbody>\n",
       "    <tr>\n",
       "      <th>0</th>\n",
       "      <td>e481f51cbdc54678b7cc49136f2d6af7</td>\n",
       "      <td>9ef432eb6251297304e76186b10a928d</td>\n",
       "      <td>delivered</td>\n",
       "      <td>2017-10-02 10:56:33</td>\n",
       "      <td>2017-10-02 11:07:15</td>\n",
       "      <td>2017-10-04 19:55:00</td>\n",
       "      <td>2017-10-10 21:25:13</td>\n",
       "      <td>2017-10-18 00:00:00</td>\n",
       "    </tr>\n",
       "  </tbody>\n",
       "</table>\n",
       "</div>"
      ],
      "text/plain": [
       "                           order_id                       customer_id  \\\n",
       "0  e481f51cbdc54678b7cc49136f2d6af7  9ef432eb6251297304e76186b10a928d   \n",
       "\n",
       "  order_status order_purchase_timestamp    order_approved_at  \\\n",
       "0    delivered      2017-10-02 10:56:33  2017-10-02 11:07:15   \n",
       "\n",
       "  order_delivered_carrier_date order_delivered_customer_date  \\\n",
       "0          2017-10-04 19:55:00           2017-10-10 21:25:13   \n",
       "\n",
       "  order_estimated_delivery_date  \n",
       "0           2017-10-18 00:00:00  "
      ]
     },
     "execution_count": 3,
     "metadata": {},
     "output_type": "execute_result"
    }
   ],
   "source": [
    "df_orders.head(1)"
   ]
  },
  {
   "cell_type": "code",
   "execution_count": 4,
   "metadata": {},
   "outputs": [
    {
     "data": {
      "text/html": [
       "<div>\n",
       "<style scoped>\n",
       "    .dataframe tbody tr th:only-of-type {\n",
       "        vertical-align: middle;\n",
       "    }\n",
       "\n",
       "    .dataframe tbody tr th {\n",
       "        vertical-align: top;\n",
       "    }\n",
       "\n",
       "    .dataframe thead th {\n",
       "        text-align: right;\n",
       "    }\n",
       "</style>\n",
       "<table border=\"1\" class=\"dataframe\">\n",
       "  <thead>\n",
       "    <tr style=\"text-align: right;\">\n",
       "      <th></th>\n",
       "      <th>order_id</th>\n",
       "      <th>order_item_id</th>\n",
       "      <th>product_id</th>\n",
       "      <th>seller_id</th>\n",
       "      <th>shipping_limit_date</th>\n",
       "      <th>price</th>\n",
       "      <th>freight_value</th>\n",
       "    </tr>\n",
       "  </thead>\n",
       "  <tbody>\n",
       "    <tr>\n",
       "      <th>0</th>\n",
       "      <td>00010242fe8c5a6d1ba2dd792cb16214</td>\n",
       "      <td>1</td>\n",
       "      <td>4244733e06e7ecb4970a6e2683c13e61</td>\n",
       "      <td>48436dade18ac8b2bce089ec2a041202</td>\n",
       "      <td>2017-09-19 09:45:35</td>\n",
       "      <td>58.9</td>\n",
       "      <td>13.29</td>\n",
       "    </tr>\n",
       "  </tbody>\n",
       "</table>\n",
       "</div>"
      ],
      "text/plain": [
       "                           order_id  order_item_id  \\\n",
       "0  00010242fe8c5a6d1ba2dd792cb16214              1   \n",
       "\n",
       "                         product_id                         seller_id  \\\n",
       "0  4244733e06e7ecb4970a6e2683c13e61  48436dade18ac8b2bce089ec2a041202   \n",
       "\n",
       "   shipping_limit_date  price  freight_value  \n",
       "0  2017-09-19 09:45:35   58.9          13.29  "
      ]
     },
     "execution_count": 4,
     "metadata": {},
     "output_type": "execute_result"
    }
   ],
   "source": [
    "df_items.head(1)"
   ]
  },
  {
   "cell_type": "markdown",
   "metadata": {},
   "source": [
    "Посмотрим: чем отличаются customer_id и customer_unique_id"
   ]
  },
  {
   "cell_type": "code",
   "execution_count": 5,
   "metadata": {},
   "outputs": [
    {
     "data": {
      "text/plain": [
       "customer_unique_id\n",
       "8d50f5eadf50201ccdcedfb9e2ac8455    17\n",
       "3e43e6105506432c953e165fb2acf44c     9\n",
       "1b6c7548a2a1f9037c1fd3ddfed95f33     7\n",
       "6469f99c1f9dfae7733b25662e7f1782     7\n",
       "ca77025e7201e3b30c44b472ff346268     7\n",
       "                                    ..\n",
       "ffe7752edcf14b5819058b1948e02f3a     1\n",
       "ffe780a8995715d9560ca10f3351710f     1\n",
       "ffe8f2fc0cee48f79934bd2c506fafc0     1\n",
       "ffe9102bb78a76921ba0ff3c4659616a     1\n",
       "ffe96201d466b0e0dc8139850be29d5d     1\n",
       "Name: customer_zip_code_prefix, Length: 96096, dtype: int64"
      ]
     },
     "execution_count": 5,
     "metadata": {},
     "output_type": "execute_result"
    }
   ],
   "source": [
    "df_customers.groupby('customer_unique_id')\\\n",
    "            .customer_zip_code_prefix\\\n",
    "            .count()\\\n",
    "            .sort_values(ascending = False)"
   ]
  },
  {
   "cell_type": "markdown",
   "metadata": {},
   "source": [
    "customer_unique_id - уникальны для пользователей, но не для таблицы пользователей"
   ]
  },
  {
   "cell_type": "code",
   "execution_count": 6,
   "metadata": {
    "scrolled": true
   },
   "outputs": [
    {
     "data": {
      "text/html": [
       "<div>\n",
       "<style scoped>\n",
       "    .dataframe tbody tr th:only-of-type {\n",
       "        vertical-align: middle;\n",
       "    }\n",
       "\n",
       "    .dataframe tbody tr th {\n",
       "        vertical-align: top;\n",
       "    }\n",
       "\n",
       "    .dataframe thead th {\n",
       "        text-align: right;\n",
       "    }\n",
       "</style>\n",
       "<table border=\"1\" class=\"dataframe\">\n",
       "  <thead>\n",
       "    <tr style=\"text-align: right;\">\n",
       "      <th></th>\n",
       "      <th>customer_id</th>\n",
       "      <th>customer_unique_id</th>\n",
       "      <th>customer_zip_code_prefix</th>\n",
       "      <th>customer_city</th>\n",
       "      <th>customer_state</th>\n",
       "    </tr>\n",
       "  </thead>\n",
       "  <tbody>\n",
       "    <tr>\n",
       "      <th>14186</th>\n",
       "      <td>1bd3585471932167ab72a84955ebefea</td>\n",
       "      <td>8d50f5eadf50201ccdcedfb9e2ac8455</td>\n",
       "      <td>4045</td>\n",
       "      <td>sao paulo</td>\n",
       "      <td>SP</td>\n",
       "    </tr>\n",
       "    <tr>\n",
       "      <th>15321</th>\n",
       "      <td>a8fabc805e9a10a3c93ae5bff642b86b</td>\n",
       "      <td>8d50f5eadf50201ccdcedfb9e2ac8455</td>\n",
       "      <td>4045</td>\n",
       "      <td>sao paulo</td>\n",
       "      <td>SP</td>\n",
       "    </tr>\n",
       "    <tr>\n",
       "      <th>16654</th>\n",
       "      <td>897b7f72042714efaa64ac306ba0cafc</td>\n",
       "      <td>8d50f5eadf50201ccdcedfb9e2ac8455</td>\n",
       "      <td>4045</td>\n",
       "      <td>sao paulo</td>\n",
       "      <td>SP</td>\n",
       "    </tr>\n",
       "  </tbody>\n",
       "</table>\n",
       "</div>"
      ],
      "text/plain": [
       "                            customer_id                customer_unique_id  \\\n",
       "14186  1bd3585471932167ab72a84955ebefea  8d50f5eadf50201ccdcedfb9e2ac8455   \n",
       "15321  a8fabc805e9a10a3c93ae5bff642b86b  8d50f5eadf50201ccdcedfb9e2ac8455   \n",
       "16654  897b7f72042714efaa64ac306ba0cafc  8d50f5eadf50201ccdcedfb9e2ac8455   \n",
       "\n",
       "       customer_zip_code_prefix customer_city customer_state  \n",
       "14186                      4045     sao paulo             SP  \n",
       "15321                      4045     sao paulo             SP  \n",
       "16654                      4045     sao paulo             SP  "
      ]
     },
     "execution_count": 6,
     "metadata": {},
     "output_type": "execute_result"
    }
   ],
   "source": [
    "df_customers.loc[df_customers.customer_unique_id == '8d50f5eadf50201ccdcedfb9e2ac8455'].head(3)"
   ]
  },
  {
   "cell_type": "markdown",
   "metadata": {},
   "source": [
    "Видим, что для одного пользователя может быть несколько customer_id\n",
    "Посмотрим что такое customer_id"
   ]
  },
  {
   "cell_type": "code",
   "execution_count": 7,
   "metadata": {},
   "outputs": [
    {
     "data": {
      "text/plain": [
       "99441"
      ]
     },
     "execution_count": 7,
     "metadata": {},
     "output_type": "execute_result"
    }
   ],
   "source": [
    "df_customers.customer_id.nunique()"
   ]
  },
  {
   "cell_type": "code",
   "execution_count": 8,
   "metadata": {},
   "outputs": [
    {
     "data": {
      "text/plain": [
       "True"
      ]
     },
     "execution_count": 8,
     "metadata": {},
     "output_type": "execute_result"
    }
   ],
   "source": [
    "df_customers.customer_id.nunique() == len(df_customers) "
   ]
  },
  {
   "cell_type": "markdown",
   "metadata": {},
   "source": [
    "customer_id уникальны для таблицы заказчиков"
   ]
  },
  {
   "cell_type": "code",
   "execution_count": 9,
   "metadata": {},
   "outputs": [
    {
     "data": {
      "text/plain": [
       "True"
      ]
     },
     "execution_count": 9,
     "metadata": {},
     "output_type": "execute_result"
    }
   ],
   "source": [
    "df_orders.order_id.nunique() == df_orders.customer_id.nunique() == len(df_orders)"
   ]
  },
  {
   "cell_type": "markdown",
   "metadata": {},
   "source": [
    "То есть в каждом заказе есть уникальный id заказа (order_id) и уникальный id заказчика (customer_id) и это суть одно и тоже - уникальный id заказа. Только в таблицу customers передается customer_id, а в таблицу items передается order_id. \n",
    "Сравним таблицы заказов и заказчиков"
   ]
  },
  {
   "cell_type": "code",
   "execution_count": 10,
   "metadata": {},
   "outputs": [
    {
     "data": {
      "text/plain": [
       "True"
      ]
     },
     "execution_count": 10,
     "metadata": {},
     "output_type": "execute_result"
    }
   ],
   "source": [
    "len(df_orders) == len(df_customers)"
   ]
  },
  {
   "cell_type": "markdown",
   "metadata": {},
   "source": [
    "<a id=\"merge\"></a>Число записей в таблицах orders и customers одинаковое. А точнее **эти две таблицы - это одна и также таблица, разделенная на две части со связью через customer_id**. Для будущих целей соотнесения заказчиков с заказами их позже можно будет объединить."
   ]
  },
  {
   "cell_type": "code",
   "execution_count": 12,
   "metadata": {},
   "outputs": [
    {
     "data": {
      "text/plain": [
       "order_id                         object\n",
       "customer_id                      object\n",
       "order_status                     object\n",
       "order_purchase_timestamp         object\n",
       "order_approved_at                object\n",
       "order_delivered_carrier_date     object\n",
       "order_delivered_customer_date    object\n",
       "order_estimated_delivery_date    object\n",
       "dtype: object"
      ]
     },
     "execution_count": 12,
     "metadata": {},
     "output_type": "execute_result"
    }
   ],
   "source": [
    "df_orders.dtypes"
   ]
  },
  {
   "cell_type": "markdown",
   "metadata": {},
   "source": [
    "Поправим формат времени"
   ]
  },
  {
   "cell_type": "code",
   "execution_count": 14,
   "metadata": {},
   "outputs": [],
   "source": [
    "df_orders[['order_purchase_timestamp',\n",
    "           'order_approved_at',\n",
    "           'order_delivered_carrier_date',\n",
    "           'order_delivered_customer_date',\n",
    "           'order_estimated_delivery_date']] = df_orders[['order_purchase_timestamp',\n",
    "                                                           'order_approved_at',\n",
    "                                                           'order_delivered_carrier_date',\n",
    "                                                           'order_delivered_customer_date',\n",
    "                                                           'order_estimated_delivery_date']]\\\n",
    "                                                           .apply(pd.to_datetime)\n"
   ]
  },
  {
   "cell_type": "code",
   "execution_count": 15,
   "metadata": {},
   "outputs": [
    {
     "data": {
      "text/plain": [
       "order_id                                 object\n",
       "customer_id                              object\n",
       "order_status                             object\n",
       "order_purchase_timestamp         datetime64[ns]\n",
       "order_approved_at                datetime64[ns]\n",
       "order_delivered_carrier_date     datetime64[ns]\n",
       "order_delivered_customer_date    datetime64[ns]\n",
       "order_estimated_delivery_date    datetime64[ns]\n",
       "dtype: object"
      ]
     },
     "execution_count": 15,
     "metadata": {},
     "output_type": "execute_result"
    }
   ],
   "source": [
    "df_orders.dtypes"
   ]
  },
  {
   "cell_type": "markdown",
   "metadata": {},
   "source": [
    "Посмотрим на все созданные заказы по дням"
   ]
  },
  {
   "cell_type": "code",
   "execution_count": 16,
   "metadata": {},
   "outputs": [],
   "source": [
    "df_for_plots = df_orders"
   ]
  },
  {
   "cell_type": "code",
   "execution_count": 27,
   "metadata": {},
   "outputs": [
    {
     "data": {
      "image/png": "[encoded data removed]",
      "text/plain": [
       "<Figure size 1000x400 with 1 Axes>"
      ]
     },
     "metadata": {},
     "output_type": "display_data"
    }
   ],
   "source": [
    "plt.figure(figsize=(10,4))\n",
    "df_for_plots_orders_cnt = df_for_plots.groupby(df_for_plots.order_purchase_timestamp.dt.date).order_id.count()\n",
    "sns.lineplot(x = df_for_plots_orders_cnt.index, y = df_for_plots_orders_cnt.values, color='green',linewidth=1)\n",
    "plt.tick_params(axis='both', colors='#8b8a84')\n",
    "plt.xlabel(\"\", labelpad = 5, fontsize= 11,color='#8b8a84')\n",
    "plt.ylabel(\"Количество заказов\", labelpad = 5, fontsize= 11,color='#8b8a84')\n",
    "for pos in ['right', 'top', 'bottom', 'left']: \n",
    "    plt.gca().spines[pos].set_visible(False)\n",
    "plt.grid(color='darkgray', linestyle='-', linewidth=0.1)\n",
    "\n",
    "plt.show()"
   ]
  },
  {
   "cell_type": "markdown",
   "metadata": {},
   "source": [
    "какая-то аномалия была 24.11.2017"
   ]
  },
  {
   "cell_type": "code",
   "execution_count": 25,
   "metadata": {},
   "outputs": [
    {
     "data": {
      "text/plain": [
       "order_purchase_timestamp\n",
       "2017-11-24    1176\n",
       "2017-11-25     499\n",
       "2017-11-27     403\n",
       "Name: order_id, dtype: int64"
      ]
     },
     "execution_count": 25,
     "metadata": {},
     "output_type": "execute_result"
    }
   ],
   "source": [
    "df_for_plots_orders_cnt.sort_values(ascending = False).head(3)"
   ]
  },
  {
   "cell_type": "markdown",
   "metadata": {},
   "source": [
    "Проверим какие бывают статусы заказов"
   ]
  },
  {
   "cell_type": "code",
   "execution_count": 18,
   "metadata": {},
   "outputs": [
    {
     "data": {
      "text/plain": [
       "order_status\n",
       "approved           2\n",
       "canceled         625\n",
       "created            5\n",
       "delivered      96478\n",
       "invoiced         314\n",
       "processing       301\n",
       "shipped         1107\n",
       "unavailable      609\n",
       "Name: order_id, dtype: int64"
      ]
     },
     "execution_count": 18,
     "metadata": {},
     "output_type": "execute_result"
    }
   ],
   "source": [
    "df_for_plots.groupby('order_status').order_id.count()"
   ]
  },
  {
   "cell_type": "markdown",
   "metadata": {},
   "source": [
    "Глянем графики заказов по разным статусам"
   ]
  },
  {
   "cell_type": "code",
   "execution_count": 28,
   "metadata": {},
   "outputs": [
    {
     "data": {
      "image/png": "[encoded data removed]",
      "text/plain": [
       "<Figure size 1000x400 with 1 Axes>"
      ]
     },
     "metadata": {},
     "output_type": "display_data"
    }
   ],
   "source": [
    "plt.figure(figsize=(10,4))\n",
    "df_for_plots_orders_delivered = df_for_plots.query(\"order_status == 'delivered'\").groupby(df_for_plots.order_purchase_timestamp.dt.date).order_id.count()\n",
    "sns.lineplot(x = df_for_plots_orders_delivered.index, y = df_for_plots_orders_delivered.values, color='green',linewidth=1)\n",
    "plt.tick_params(axis='both', colors='#8b8a84')\n",
    "plt.xlabel(\"\", labelpad = 5, fontsize= 11,color='#8b8a84')\n",
    "plt.ylabel(\"Количество заказов\", labelpad = 5, fontsize= 11,color='#8b8a84')\n",
    "for pos in ['right', 'top', 'bottom', 'left']: \n",
    "    plt.gca().spines[pos].set_visible(False)\n",
    "plt.grid(color='darkgray', linestyle='-', linewidth=0.1)\n",
    "\n",
    "plt.show()"
   ]
  },
  {
   "cell_type": "markdown",
   "metadata": {},
   "source": [
    "График доставленных заказов очень близок к графику созданных заказов. Почти все что было создано - было получено покупателями, то есть, заказы в аномалии реальные"
   ]
  },
  {
   "cell_type": "code",
   "execution_count": 35,
   "metadata": {},
   "outputs": [
    {
     "data": {
      "text/plain": [
       "<Figure size 1300x600 with 0 Axes>"
      ]
     },
     "metadata": {},
     "output_type": "display_data"
    },
    {
     "data": {
      "image/png": "[encoded data removed]",
      "text/plain": [
       "<Figure size 1200x500 with 2 Axes>"
      ]
     },
     "metadata": {},
     "output_type": "display_data"
    }
   ],
   "source": [
    "df_for_plots_orders_canceled = df_for_plots.query(\"order_status == 'canceled'\").groupby(df_for_plots.order_purchase_timestamp.dt.date).order_id.count().sort_values()\n",
    "df_for_plots_orders_unavailable = df_for_plots.query(\"order_status == 'unavailable'\").groupby(df_for_plots.order_purchase_timestamp.dt.date).order_id.count().sort_values()\n",
    "\n",
    "plt.figure(figsize=(13,6))\n",
    "fig, ax = plt.subplots(2, 1, sharex=True)\n",
    "plt.subplots_adjust(wspace= 0.2, \n",
    "                    hspace= 0.4)\n",
    "\n",
    "plt.subplot(2, 1, 1)\n",
    "sns.lineplot(x = df_for_plots_orders_canceled.index, y = df_for_plots_orders_canceled.values, linewidth=0.6)\n",
    "plt.tick_params(axis='both', colors='#8b8a84')\n",
    "plt.title('Отмененные', fontsize=12, y=1.02,color='#8b8a84')\n",
    "plt.ylabel(\"\", labelpad = 5, fontsize= 11, color='#8b8a84')\n",
    "plt.xlabel(\"\", labelpad = 5, fontsize= 11, color='#8b8a84')\n",
    "\n",
    "\n",
    "for pos in ['right', 'top', 'bottom', 'left']: \n",
    "    plt.gca().spines[pos].set_visible(False)\n",
    "plt.grid(color='darkgray', linestyle='-', linewidth=0.1) \n",
    "\n",
    "plt.subplot(2, 1, 2)\n",
    "sns.lineplot(x = df_for_plots_orders_unavailable.index, y = df_for_plots_orders_unavailable.values, linewidth=0.6)\n",
    "plt.tick_params(axis='both', colors='#8b8a84')\n",
    "plt.title('Недоступные к заказу', fontsize=12, y=1.02,color='#8b8a84')\n",
    "plt.ylabel(\"\", labelpad = 5, fontsize= 11, color='#8b8a84')\n",
    "plt.xlabel(\"\", labelpad = 5, fontsize= 11, color='#8b8a84')\n",
    "\n",
    "for pos in ['right', 'top', 'bottom', 'left']: \n",
    "    plt.gca().spines[pos].set_visible(False)\n",
    "plt.grid(color='darkgray', linestyle='-', linewidth=0.1) \n",
    "\n",
    "plt.show()"
   ]
  },
  {
   "cell_type": "markdown",
   "metadata": {},
   "source": [
    "Отмененные и недоступные заказы распределены более-менее ровно"
   ]
  },
  {
   "cell_type": "code",
   "execution_count": 40,
   "metadata": {},
   "outputs": [
    {
     "name": "stdout",
     "output_type": "stream",
     "text": [
      " Всего покупателей 96096 \n",
      " Из них разместили более 1 заказа 2997\n"
     ]
    }
   ],
   "source": [
    "df_cstms_unq = len(df_customers.groupby('customer_unique_id',as_index = False))\n",
    "df_cstms_more_than_ones = df_customers.groupby('customer_unique_id',as_index = False)\\\n",
    "                      .agg({'customer_id':'count'})\\\n",
    "                      .sort_values('customer_id', ascending = False)\\\n",
    "                      .query('customer_id > 1')\\\n",
    "                      .customer_id.count()\n",
    "print(f' Всего покупателей {df_cstms_unq} \\n Из них разместили более 1 заказа {df_cstms_more_than_ones}')"
   ]
  },
  {
   "cell_type": "markdown",
   "metadata": {},
   "source": [
    "Очень небольшое число покупателей заказы повторно."
   ]
  },
  {
   "cell_type": "code",
   "execution_count": 41,
   "metadata": {},
   "outputs": [
    {
     "data": {
      "text/html": [
       "<div>\n",
       "<style scoped>\n",
       "    .dataframe tbody tr th:only-of-type {\n",
       "        vertical-align: middle;\n",
       "    }\n",
       "\n",
       "    .dataframe tbody tr th {\n",
       "        vertical-align: top;\n",
       "    }\n",
       "\n",
       "    .dataframe thead th {\n",
       "        text-align: right;\n",
       "    }\n",
       "</style>\n",
       "<table border=\"1\" class=\"dataframe\">\n",
       "  <thead>\n",
       "    <tr style=\"text-align: right;\">\n",
       "      <th></th>\n",
       "      <th>customer_id</th>\n",
       "    </tr>\n",
       "    <tr>\n",
       "      <th>customer_state</th>\n",
       "      <th></th>\n",
       "    </tr>\n",
       "  </thead>\n",
       "  <tbody>\n",
       "    <tr>\n",
       "      <th>SP</th>\n",
       "      <td>41746</td>\n",
       "    </tr>\n",
       "    <tr>\n",
       "      <th>RJ</th>\n",
       "      <td>12852</td>\n",
       "    </tr>\n",
       "    <tr>\n",
       "      <th>MG</th>\n",
       "      <td>11635</td>\n",
       "    </tr>\n",
       "    <tr>\n",
       "      <th>RS</th>\n",
       "      <td>5466</td>\n",
       "    </tr>\n",
       "    <tr>\n",
       "      <th>PR</th>\n",
       "      <td>5045</td>\n",
       "    </tr>\n",
       "  </tbody>\n",
       "</table>\n",
       "</div>"
      ],
      "text/plain": [
       "                customer_id\n",
       "customer_state             \n",
       "SP                    41746\n",
       "RJ                    12852\n",
       "MG                    11635\n",
       "RS                     5466\n",
       "PR                     5045"
      ]
     },
     "execution_count": 41,
     "metadata": {},
     "output_type": "execute_result"
    }
   ],
   "source": [
    "df_customers.groupby(['customer_state']).agg({'customer_id' : 'count'}).sort_values('customer_id', ascending = False).head(5)"
   ]
  },
  {
   "cell_type": "markdown",
   "metadata": {},
   "source": [
    "Явно выраженный штат-лидер по числу заказов, а с учетом небольшого числа повторных заказов - и по числу заказчиков."
   ]
  },
  {
   "cell_type": "code",
   "execution_count": 42,
   "metadata": {},
   "outputs": [
    {
     "data": {
      "text/html": [
       "<div>\n",
       "<style scoped>\n",
       "    .dataframe tbody tr th:only-of-type {\n",
       "        vertical-align: middle;\n",
       "    }\n",
       "\n",
       "    .dataframe tbody tr th {\n",
       "        vertical-align: top;\n",
       "    }\n",
       "\n",
       "    .dataframe thead th {\n",
       "        text-align: right;\n",
       "    }\n",
       "</style>\n",
       "<table border=\"1\" class=\"dataframe\">\n",
       "  <thead>\n",
       "    <tr style=\"text-align: right;\">\n",
       "      <th></th>\n",
       "      <th></th>\n",
       "      <th>customer_id</th>\n",
       "    </tr>\n",
       "    <tr>\n",
       "      <th>customer_state</th>\n",
       "      <th>customer_city</th>\n",
       "      <th></th>\n",
       "    </tr>\n",
       "  </thead>\n",
       "  <tbody>\n",
       "    <tr>\n",
       "      <th>SP</th>\n",
       "      <th>sao paulo</th>\n",
       "      <td>15540</td>\n",
       "    </tr>\n",
       "    <tr>\n",
       "      <th>RJ</th>\n",
       "      <th>rio de janeiro</th>\n",
       "      <td>6882</td>\n",
       "    </tr>\n",
       "    <tr>\n",
       "      <th>MG</th>\n",
       "      <th>belo horizonte</th>\n",
       "      <td>2773</td>\n",
       "    </tr>\n",
       "    <tr>\n",
       "      <th>DF</th>\n",
       "      <th>brasilia</th>\n",
       "      <td>2131</td>\n",
       "    </tr>\n",
       "    <tr>\n",
       "      <th>PR</th>\n",
       "      <th>curitiba</th>\n",
       "      <td>1521</td>\n",
       "    </tr>\n",
       "  </tbody>\n",
       "</table>\n",
       "</div>"
      ],
      "text/plain": [
       "                               customer_id\n",
       "customer_state customer_city              \n",
       "SP             sao paulo             15540\n",
       "RJ             rio de janeiro         6882\n",
       "MG             belo horizonte         2773\n",
       "DF             brasilia               2131\n",
       "PR             curitiba               1521"
      ]
     },
     "execution_count": 42,
     "metadata": {},
     "output_type": "execute_result"
    }
   ],
   "source": [
    "df_customers.groupby(['customer_state', 'customer_city']).agg({'customer_id' : 'count'}).sort_values('customer_id', ascending = False).head(5)"
   ]
  },
  {
   "cell_type": "markdown",
   "metadata": {},
   "source": [
    "А так же выдающийся город-чемпион"
   ]
  },
  {
   "cell_type": "code",
   "execution_count": 43,
   "metadata": {},
   "outputs": [
    {
     "data": {
      "text/plain": [
       "seller_id\n",
       "6560211a19b47992c3666cc44a7e94c0    2033\n",
       "4a3ca9315b744ce9f8e9374361493884    1987\n",
       "1f50f920176fa81dab994f9023523100    1931\n",
       "cc419e0650a3c5ba77189a1882b7556a    1775\n",
       "da8622b14eb17ae2831f4ac5b9dab84a    1551\n",
       "                                    ... \n",
       "fc4751cfe3b279c419615b9b00c1abb4       1\n",
       "003554e2dce176b5555353e4f3555ac8       1\n",
       "001e6ad469a905060d959994f1b41e4f       1\n",
       "ffcfefa19b08742c5d315f2791395ee5       1\n",
       "b86a47b3366e3b5424a7b225781f4908       1\n",
       "Name: seller_id, Length: 3095, dtype: int64"
      ]
     },
     "execution_count": 43,
     "metadata": {},
     "output_type": "execute_result"
    }
   ],
   "source": [
    "df_items.groupby('seller_id').seller_id.count().sort_values(ascending = False)"
   ]
  },
  {
   "cell_type": "markdown",
   "metadata": {},
   "source": [
    "Выраженных лидеров поставщиков нет"
   ]
  },
  {
   "cell_type": "code",
   "execution_count": 44,
   "metadata": {},
   "outputs": [
    {
     "data": {
      "text/html": [
       "<div>\n",
       "<style scoped>\n",
       "    .dataframe tbody tr th:only-of-type {\n",
       "        vertical-align: middle;\n",
       "    }\n",
       "\n",
       "    .dataframe tbody tr th {\n",
       "        vertical-align: top;\n",
       "    }\n",
       "\n",
       "    .dataframe thead th {\n",
       "        text-align: right;\n",
       "    }\n",
       "</style>\n",
       "<table border=\"1\" class=\"dataframe\">\n",
       "  <thead>\n",
       "    <tr style=\"text-align: right;\">\n",
       "      <th></th>\n",
       "      <th>order_id</th>\n",
       "      <th>order_item_id</th>\n",
       "      <th>product_id</th>\n",
       "      <th>seller_id</th>\n",
       "      <th>shipping_limit_date</th>\n",
       "      <th>price</th>\n",
       "      <th>freight_value</th>\n",
       "    </tr>\n",
       "  </thead>\n",
       "  <tbody>\n",
       "    <tr>\n",
       "      <th>3556</th>\n",
       "      <td>0812eb902a67711a1cb742b3cdaa65ae</td>\n",
       "      <td>1</td>\n",
       "      <td>489ae2aa008f021502940f251d4cce7f</td>\n",
       "      <td>e3b4998c7a498169dc7bce44e6bb6277</td>\n",
       "      <td>2017-02-16 20:37:36</td>\n",
       "      <td>6735.0</td>\n",
       "      <td>194.31</td>\n",
       "    </tr>\n",
       "  </tbody>\n",
       "</table>\n",
       "</div>"
      ],
      "text/plain": [
       "                              order_id  order_item_id  \\\n",
       "3556  0812eb902a67711a1cb742b3cdaa65ae              1   \n",
       "\n",
       "                            product_id                         seller_id  \\\n",
       "3556  489ae2aa008f021502940f251d4cce7f  e3b4998c7a498169dc7bce44e6bb6277   \n",
       "\n",
       "      shipping_limit_date   price  freight_value  \n",
       "3556  2017-02-16 20:37:36  6735.0         194.31  "
      ]
     },
     "execution_count": 44,
     "metadata": {},
     "output_type": "execute_result"
    }
   ],
   "source": [
    "df_items.sort_values('price', ascending = False).head(1)"
   ]
  },
  {
   "cell_type": "code",
   "execution_count": 45,
   "metadata": {
    "scrolled": true
   },
   "outputs": [
    {
     "data": {
      "text/html": [
       "<div>\n",
       "<style scoped>\n",
       "    .dataframe tbody tr th:only-of-type {\n",
       "        vertical-align: middle;\n",
       "    }\n",
       "\n",
       "    .dataframe tbody tr th {\n",
       "        vertical-align: top;\n",
       "    }\n",
       "\n",
       "    .dataframe thead th {\n",
       "        text-align: right;\n",
       "    }\n",
       "</style>\n",
       "<table border=\"1\" class=\"dataframe\">\n",
       "  <thead>\n",
       "    <tr style=\"text-align: right;\">\n",
       "      <th></th>\n",
       "      <th>order_id</th>\n",
       "      <th>order_item_id</th>\n",
       "      <th>product_id</th>\n",
       "      <th>seller_id</th>\n",
       "      <th>shipping_limit_date</th>\n",
       "      <th>price</th>\n",
       "      <th>freight_value</th>\n",
       "    </tr>\n",
       "  </thead>\n",
       "  <tbody>\n",
       "    <tr>\n",
       "      <th>73486</th>\n",
       "      <td>a77e1550db865202c56b19ddc6dc4d53</td>\n",
       "      <td>1</td>\n",
       "      <td>ec31d2a17b299511e7c8627be9337b9b</td>\n",
       "      <td>257e61d3251fb5efb9daadddbc2cf7ca</td>\n",
       "      <td>2018-04-25 06:55:13</td>\n",
       "      <td>979.0</td>\n",
       "      <td>409.68</td>\n",
       "    </tr>\n",
       "  </tbody>\n",
       "</table>\n",
       "</div>"
      ],
      "text/plain": [
       "                               order_id  order_item_id  \\\n",
       "73486  a77e1550db865202c56b19ddc6dc4d53              1   \n",
       "\n",
       "                             product_id                         seller_id  \\\n",
       "73486  ec31d2a17b299511e7c8627be9337b9b  257e61d3251fb5efb9daadddbc2cf7ca   \n",
       "\n",
       "       shipping_limit_date  price  freight_value  \n",
       "73486  2018-04-25 06:55:13  979.0         409.68  "
      ]
     },
     "execution_count": 45,
     "metadata": {},
     "output_type": "execute_result"
    }
   ],
   "source": [
    "df_items.sort_values('freight_value', ascending = False).head(1)"
   ]
  },
  {
   "cell_type": "markdown",
   "metadata": {},
   "source": [
    "нет ничего дороже 7000 и тяжелее 410"
   ]
  },
  {
   "cell_type": "code",
   "execution_count": 49,
   "metadata": {},
   "outputs": [
    {
     "data": {
      "text/plain": [
       "order_id\n",
       "8272b63d03f5f79c56e9e4120aec44ef    21\n",
       "1b15974a0141d54e36626dca3fdc731a    20\n",
       "ab14fdcfbe524636d65ee38360e22ce8    20\n",
       "428a2f660dc84138d969ccd69a0ab6d5    15\n",
       "9ef13efd6949e4573a18964dd1bbe7f5    15\n",
       "Name: product_id, dtype: int64"
      ]
     },
     "execution_count": 49,
     "metadata": {},
     "output_type": "execute_result"
    }
   ],
   "source": [
    "df_items.groupby('order_id').product_id.count().sort_values(ascending = False).head(5)"
   ]
  },
  {
   "cell_type": "markdown",
   "metadata": {},
   "source": [
    "Максимальное число позиций в одном заказе - 21 шт\n",
    "Но самое странное что в таблице нет колнки количество.\n",
    "Посмотрим внимательно на чемпионский по ассортименту заказ"
   ]
  },
  {
   "cell_type": "code",
   "execution_count": 48,
   "metadata": {},
   "outputs": [
    {
     "data": {
      "text/plain": [
       "product_id\n",
       "05b515fdc76e888aada3c6d66c201dff    10\n",
       "270516a3f41dc035aa87d220228f844c    10\n",
       "79ce45dbc2ea29b22b5a261bbb7b7ee7     1\n",
       "Name: seller_id, dtype: int64"
      ]
     },
     "execution_count": 48,
     "metadata": {},
     "output_type": "execute_result"
    }
   ],
   "source": [
    "df_items.loc[df_items.order_id == '8272b63d03f5f79c56e9e4120aec44ef'].groupby('product_id').seller_id.count()"
   ]
  },
  {
   "cell_type": "markdown",
   "metadata": {},
   "source": [
    "Оказывается он состоит всего из трех товаров, а проблема отсутствия колонки с количеством решается по принципу - одна строка - 1 шт\n",
    "\n",
    "Посмотрим сколько же реально товаров входит в заказы"
   ]
  },
  {
   "cell_type": "code",
   "execution_count": 50,
   "metadata": {},
   "outputs": [
    {
     "data": {
      "text/html": [
       "<div>\n",
       "<style scoped>\n",
       "    .dataframe tbody tr th:only-of-type {\n",
       "        vertical-align: middle;\n",
       "    }\n",
       "\n",
       "    .dataframe tbody tr th {\n",
       "        vertical-align: top;\n",
       "    }\n",
       "\n",
       "    .dataframe thead th {\n",
       "        text-align: right;\n",
       "    }\n",
       "</style>\n",
       "<table border=\"1\" class=\"dataframe\">\n",
       "  <thead>\n",
       "    <tr style=\"text-align: right;\">\n",
       "      <th></th>\n",
       "      <th>order_id</th>\n",
       "      <th>cnt</th>\n",
       "    </tr>\n",
       "  </thead>\n",
       "  <tbody>\n",
       "    <tr>\n",
       "      <th>77909</th>\n",
       "      <td>ca3625898fbd48669d50701aba51cd5f</td>\n",
       "      <td>8</td>\n",
       "    </tr>\n",
       "    <tr>\n",
       "      <th>48309</th>\n",
       "      <td>7d8f5bfd5aff648220374a2df62e84d5</td>\n",
       "      <td>7</td>\n",
       "    </tr>\n",
       "    <tr>\n",
       "      <th>46116</th>\n",
       "      <td>77df84f9195be22a4e9cb72ca9e8b4c2</td>\n",
       "      <td>7</td>\n",
       "    </tr>\n",
       "    <tr>\n",
       "      <th>66653</th>\n",
       "      <td>ad850e69fce9a512ada84086651a2e7d</td>\n",
       "      <td>7</td>\n",
       "    </tr>\n",
       "    <tr>\n",
       "      <th>65312</th>\n",
       "      <td>aa0b425987bdeae4a29c616a2bc3a08a</td>\n",
       "      <td>6</td>\n",
       "    </tr>\n",
       "    <tr>\n",
       "      <th>...</th>\n",
       "      <td>...</td>\n",
       "      <td>...</td>\n",
       "    </tr>\n",
       "    <tr>\n",
       "      <th>98555</th>\n",
       "      <td>ffb18bf111fa70edf316eb0390427986</td>\n",
       "      <td>2</td>\n",
       "    </tr>\n",
       "    <tr>\n",
       "      <th>10392</th>\n",
       "      <td>1ae8a88bf94d02224f932e18297baa64</td>\n",
       "      <td>2</td>\n",
       "    </tr>\n",
       "    <tr>\n",
       "      <th>39834</th>\n",
       "      <td>676997dac4c289c241276214efc7839e</td>\n",
       "      <td>2</td>\n",
       "    </tr>\n",
       "    <tr>\n",
       "      <th>98575</th>\n",
       "      <td>ffc16cecff8dc037f60458f28d1c1ba5</td>\n",
       "      <td>2</td>\n",
       "    </tr>\n",
       "    <tr>\n",
       "      <th>98596</th>\n",
       "      <td>ffd543c2b60842e148a86870dc60e212</td>\n",
       "      <td>2</td>\n",
       "    </tr>\n",
       "  </tbody>\n",
       "</table>\n",
       "<p>3236 rows × 2 columns</p>\n",
       "</div>"
      ],
      "text/plain": [
       "                               order_id  cnt\n",
       "77909  ca3625898fbd48669d50701aba51cd5f    8\n",
       "48309  7d8f5bfd5aff648220374a2df62e84d5    7\n",
       "46116  77df84f9195be22a4e9cb72ca9e8b4c2    7\n",
       "66653  ad850e69fce9a512ada84086651a2e7d    7\n",
       "65312  aa0b425987bdeae4a29c616a2bc3a08a    6\n",
       "...                                 ...  ...\n",
       "98555  ffb18bf111fa70edf316eb0390427986    2\n",
       "10392  1ae8a88bf94d02224f932e18297baa64    2\n",
       "39834  676997dac4c289c241276214efc7839e    2\n",
       "98575  ffc16cecff8dc037f60458f28d1c1ba5    2\n",
       "98596  ffd543c2b60842e148a86870dc60e212    2\n",
       "\n",
       "[3236 rows x 2 columns]"
      ]
     },
     "execution_count": 50,
     "metadata": {},
     "output_type": "execute_result"
    }
   ],
   "source": [
    "t = df_items.groupby(['order_id','product_id'],as_index = False)\\\n",
    "        .agg({'seller_id':'count'})\\\n",
    "        .sort_values(['order_id', 'product_id','seller_id'], ascending = True)\n",
    "t.groupby('order_id', as_index = False)\\\n",
    " .agg({'seller_id':'count'})\\\n",
    " .sort_values('seller_id', ascending = False)\\\n",
    " .rename(columns = {'seller_id':'cnt'})\\\n",
    " .query('cnt > 1')"
   ]
  },
  {
   "cell_type": "markdown",
   "metadata": {},
   "source": [
    "В заказ с самым широким ассортиментов вошло всего 8 позиций.\n",
    "Заказов содержащих болеее 1 товара - 3236 из около 100 000\n",
    "Проверим себя, посмотрим на самый ассортиментный заказ"
   ]
  },
  {
   "cell_type": "code",
   "execution_count": 51,
   "metadata": {},
   "outputs": [
    {
     "data": {
      "text/html": [
       "<div>\n",
       "<style scoped>\n",
       "    .dataframe tbody tr th:only-of-type {\n",
       "        vertical-align: middle;\n",
       "    }\n",
       "\n",
       "    .dataframe tbody tr th {\n",
       "        vertical-align: top;\n",
       "    }\n",
       "\n",
       "    .dataframe thead th {\n",
       "        text-align: right;\n",
       "    }\n",
       "</style>\n",
       "<table border=\"1\" class=\"dataframe\">\n",
       "  <thead>\n",
       "    <tr style=\"text-align: right;\">\n",
       "      <th></th>\n",
       "      <th>order_id</th>\n",
       "      <th>order_item_id</th>\n",
       "      <th>product_id</th>\n",
       "      <th>seller_id</th>\n",
       "      <th>shipping_limit_date</th>\n",
       "      <th>price</th>\n",
       "      <th>freight_value</th>\n",
       "    </tr>\n",
       "  </thead>\n",
       "  <tbody>\n",
       "    <tr>\n",
       "      <th>89007</th>\n",
       "      <td>ca3625898fbd48669d50701aba51cd5f</td>\n",
       "      <td>1</td>\n",
       "      <td>1065e0ebef073787a7bf691924c60eeb</td>\n",
       "      <td>0b35c634521043bf4b47e21547b99ab5</td>\n",
       "      <td>2018-08-16 02:25:07</td>\n",
       "      <td>309.0</td>\n",
       "      <td>1.84</td>\n",
       "    </tr>\n",
       "    <tr>\n",
       "      <th>89008</th>\n",
       "      <td>ca3625898fbd48669d50701aba51cd5f</td>\n",
       "      <td>2</td>\n",
       "      <td>0cf2faf9749f53924cea652a09d8e327</td>\n",
       "      <td>0b35c634521043bf4b47e21547b99ab5</td>\n",
       "      <td>2018-08-16 02:25:07</td>\n",
       "      <td>33.9</td>\n",
       "      <td>1.84</td>\n",
       "    </tr>\n",
       "    <tr>\n",
       "      <th>89009</th>\n",
       "      <td>ca3625898fbd48669d50701aba51cd5f</td>\n",
       "      <td>3</td>\n",
       "      <td>0de59eddc63167215c972b0d785ffa7b</td>\n",
       "      <td>0b35c634521043bf4b47e21547b99ab5</td>\n",
       "      <td>2018-08-16 02:25:07</td>\n",
       "      <td>159.0</td>\n",
       "      <td>3.67</td>\n",
       "    </tr>\n",
       "    <tr>\n",
       "      <th>89010</th>\n",
       "      <td>ca3625898fbd48669d50701aba51cd5f</td>\n",
       "      <td>4</td>\n",
       "      <td>0de59eddc63167215c972b0d785ffa7b</td>\n",
       "      <td>0b35c634521043bf4b47e21547b99ab5</td>\n",
       "      <td>2018-08-16 02:25:07</td>\n",
       "      <td>159.0</td>\n",
       "      <td>3.67</td>\n",
       "    </tr>\n",
       "    <tr>\n",
       "      <th>89011</th>\n",
       "      <td>ca3625898fbd48669d50701aba51cd5f</td>\n",
       "      <td>5</td>\n",
       "      <td>5dae498eff2d80057f56122235a36aff</td>\n",
       "      <td>888faa8bfb0b159c37de6d898b961c31</td>\n",
       "      <td>2018-08-17 02:25:07</td>\n",
       "      <td>95.9</td>\n",
       "      <td>0.15</td>\n",
       "    </tr>\n",
       "    <tr>\n",
       "      <th>89012</th>\n",
       "      <td>ca3625898fbd48669d50701aba51cd5f</td>\n",
       "      <td>6</td>\n",
       "      <td>4a5c3967bfd3629fe07ef4d0cc8c3818</td>\n",
       "      <td>0b35c634521043bf4b47e21547b99ab5</td>\n",
       "      <td>2018-08-16 02:25:07</td>\n",
       "      <td>109.9</td>\n",
       "      <td>0.15</td>\n",
       "    </tr>\n",
       "    <tr>\n",
       "      <th>89013</th>\n",
       "      <td>ca3625898fbd48669d50701aba51cd5f</td>\n",
       "      <td>7</td>\n",
       "      <td>678c229b41c0e497d35a25a8be1cc631</td>\n",
       "      <td>888faa8bfb0b159c37de6d898b961c31</td>\n",
       "      <td>2018-08-17 02:25:07</td>\n",
       "      <td>95.9</td>\n",
       "      <td>0.15</td>\n",
       "    </tr>\n",
       "    <tr>\n",
       "      <th>89014</th>\n",
       "      <td>ca3625898fbd48669d50701aba51cd5f</td>\n",
       "      <td>8</td>\n",
       "      <td>21b524c4c060169fa75ccf08c7da4627</td>\n",
       "      <td>0b35c634521043bf4b47e21547b99ab5</td>\n",
       "      <td>2018-08-16 02:25:07</td>\n",
       "      <td>63.7</td>\n",
       "      <td>0.15</td>\n",
       "    </tr>\n",
       "    <tr>\n",
       "      <th>89015</th>\n",
       "      <td>ca3625898fbd48669d50701aba51cd5f</td>\n",
       "      <td>9</td>\n",
       "      <td>309dd69eb83cea38c51709d62befe1a4</td>\n",
       "      <td>0b35c634521043bf4b47e21547b99ab5</td>\n",
       "      <td>2018-08-16 02:25:07</td>\n",
       "      <td>56.0</td>\n",
       "      <td>3.68</td>\n",
       "    </tr>\n",
       "    <tr>\n",
       "      <th>89016</th>\n",
       "      <td>ca3625898fbd48669d50701aba51cd5f</td>\n",
       "      <td>10</td>\n",
       "      <td>309dd69eb83cea38c51709d62befe1a4</td>\n",
       "      <td>0b35c634521043bf4b47e21547b99ab5</td>\n",
       "      <td>2018-08-16 02:25:07</td>\n",
       "      <td>56.0</td>\n",
       "      <td>3.68</td>\n",
       "    </tr>\n",
       "  </tbody>\n",
       "</table>\n",
       "</div>"
      ],
      "text/plain": [
       "                               order_id  order_item_id  \\\n",
       "89007  ca3625898fbd48669d50701aba51cd5f              1   \n",
       "89008  ca3625898fbd48669d50701aba51cd5f              2   \n",
       "89009  ca3625898fbd48669d50701aba51cd5f              3   \n",
       "89010  ca3625898fbd48669d50701aba51cd5f              4   \n",
       "89011  ca3625898fbd48669d50701aba51cd5f              5   \n",
       "89012  ca3625898fbd48669d50701aba51cd5f              6   \n",
       "89013  ca3625898fbd48669d50701aba51cd5f              7   \n",
       "89014  ca3625898fbd48669d50701aba51cd5f              8   \n",
       "89015  ca3625898fbd48669d50701aba51cd5f              9   \n",
       "89016  ca3625898fbd48669d50701aba51cd5f             10   \n",
       "\n",
       "                             product_id                         seller_id  \\\n",
       "89007  1065e0ebef073787a7bf691924c60eeb  0b35c634521043bf4b47e21547b99ab5   \n",
       "89008  0cf2faf9749f53924cea652a09d8e327  0b35c634521043bf4b47e21547b99ab5   \n",
       "89009  0de59eddc63167215c972b0d785ffa7b  0b35c634521043bf4b47e21547b99ab5   \n",
       "89010  0de59eddc63167215c972b0d785ffa7b  0b35c634521043bf4b47e21547b99ab5   \n",
       "89011  5dae498eff2d80057f56122235a36aff  888faa8bfb0b159c37de6d898b961c31   \n",
       "89012  4a5c3967bfd3629fe07ef4d0cc8c3818  0b35c634521043bf4b47e21547b99ab5   \n",
       "89013  678c229b41c0e497d35a25a8be1cc631  888faa8bfb0b159c37de6d898b961c31   \n",
       "89014  21b524c4c060169fa75ccf08c7da4627  0b35c634521043bf4b47e21547b99ab5   \n",
       "89015  309dd69eb83cea38c51709d62befe1a4  0b35c634521043bf4b47e21547b99ab5   \n",
       "89016  309dd69eb83cea38c51709d62befe1a4  0b35c634521043bf4b47e21547b99ab5   \n",
       "\n",
       "       shipping_limit_date  price  freight_value  \n",
       "89007  2018-08-16 02:25:07  309.0           1.84  \n",
       "89008  2018-08-16 02:25:07   33.9           1.84  \n",
       "89009  2018-08-16 02:25:07  159.0           3.67  \n",
       "89010  2018-08-16 02:25:07  159.0           3.67  \n",
       "89011  2018-08-17 02:25:07   95.9           0.15  \n",
       "89012  2018-08-16 02:25:07  109.9           0.15  \n",
       "89013  2018-08-17 02:25:07   95.9           0.15  \n",
       "89014  2018-08-16 02:25:07   63.7           0.15  \n",
       "89015  2018-08-16 02:25:07   56.0           3.68  \n",
       "89016  2018-08-16 02:25:07   56.0           3.68  "
      ]
     },
     "execution_count": 51,
     "metadata": {},
     "output_type": "execute_result"
    }
   ],
   "source": [
    "df_items.loc[df_items.order_id == 'ca3625898fbd48669d50701aba51cd5f']"
   ]
  },
  {
   "cell_type": "markdown",
   "metadata": {},
   "source": [
    "Похоже, все так и есть. \n",
    "\n",
    "Получается, что таблица items содержит построчную раскладку каждого заказа из orders."
   ]
  },
  {
   "cell_type": "markdown",
   "metadata": {},
   "source": [
    "А значит мы можем через группировки посчитать сумму по каждому заказу и суммарный вес заказа\n",
    "Сначала посчитаем суммы для одинаковых товаров в одинаковых заказах"
   ]
  },
  {
   "cell_type": "code",
   "execution_count": 55,
   "metadata": {},
   "outputs": [
    {
     "data": {
      "text/html": [
       "<div>\n",
       "<style scoped>\n",
       "    .dataframe tbody tr th:only-of-type {\n",
       "        vertical-align: middle;\n",
       "    }\n",
       "\n",
       "    .dataframe tbody tr th {\n",
       "        vertical-align: top;\n",
       "    }\n",
       "\n",
       "    .dataframe thead th {\n",
       "        text-align: right;\n",
       "    }\n",
       "</style>\n",
       "<table border=\"1\" class=\"dataframe\">\n",
       "  <thead>\n",
       "    <tr style=\"text-align: right;\">\n",
       "      <th></th>\n",
       "      <th>order_id</th>\n",
       "      <th>product_id</th>\n",
       "      <th>price</th>\n",
       "      <th>freight_value</th>\n",
       "    </tr>\n",
       "  </thead>\n",
       "  <tbody>\n",
       "    <tr>\n",
       "      <th>79096</th>\n",
       "      <td>c5bdd8ef3c0ec420232e668302179113</td>\n",
       "      <td>8a3254bee785a526d548a81a9bc3c9be</td>\n",
       "      <td>0.85</td>\n",
       "      <td>22.30</td>\n",
       "    </tr>\n",
       "    <tr>\n",
       "      <th>44154</th>\n",
       "      <td>6e864b3f0ec71031117ad4cf46b7f2a1</td>\n",
       "      <td>8a3254bee785a526d548a81a9bc3c9be</td>\n",
       "      <td>0.85</td>\n",
       "      <td>18.23</td>\n",
       "    </tr>\n",
       "    <tr>\n",
       "      <th>25085</th>\n",
       "      <td>3ee6513ae7ea23bdfab5b9ab60bffcb5</td>\n",
       "      <td>8a3254bee785a526d548a81a9bc3c9be</td>\n",
       "      <td>0.85</td>\n",
       "      <td>18.23</td>\n",
       "    </tr>\n",
       "    <tr>\n",
       "      <th>96770</th>\n",
       "      <td>f1d5c2e6867fa93ceee9ef9b34a53cbf</td>\n",
       "      <td>46fce52cef5caa7cc225a5531c946c8b</td>\n",
       "      <td>2.20</td>\n",
       "      <td>7.39</td>\n",
       "    </tr>\n",
       "    <tr>\n",
       "      <th>93193</th>\n",
       "      <td>e8bbc1d69fee39eee4c72cb5c969e39d</td>\n",
       "      <td>310dc32058903b6416c71faff132df9e</td>\n",
       "      <td>2.29</td>\n",
       "      <td>7.78</td>\n",
       "    </tr>\n",
       "    <tr>\n",
       "      <th>...</th>\n",
       "      <td>...</td>\n",
       "      <td>...</td>\n",
       "      <td>...</td>\n",
       "      <td>...</td>\n",
       "    </tr>\n",
       "    <tr>\n",
       "      <th>98056</th>\n",
       "      <td>f5136e38d1a14a4dbd87dff67da82701</td>\n",
       "      <td>1bdf5e6731585cf01aa8169c7028d6ad</td>\n",
       "      <td>6499.00</td>\n",
       "      <td>227.66</td>\n",
       "    </tr>\n",
       "    <tr>\n",
       "      <th>102041</th>\n",
       "      <td>fefacc66af859508bf1a7934eab1e97f</td>\n",
       "      <td>69c590f7ffc7bf8db97190b6cb6ed62e</td>\n",
       "      <td>6729.00</td>\n",
       "      <td>193.21</td>\n",
       "    </tr>\n",
       "    <tr>\n",
       "      <th>3243</th>\n",
       "      <td>0812eb902a67711a1cb742b3cdaa65ae</td>\n",
       "      <td>489ae2aa008f021502940f251d4cce7f</td>\n",
       "      <td>6735.00</td>\n",
       "      <td>194.31</td>\n",
       "    </tr>\n",
       "    <tr>\n",
       "      <th>46140</th>\n",
       "      <td>736e1922ae60d0d6a89247b851902527</td>\n",
       "      <td>19936fa4f614ee0590d3b77ac83fd648</td>\n",
       "      <td>7160.00</td>\n",
       "      <td>114.88</td>\n",
       "    </tr>\n",
       "    <tr>\n",
       "      <th>1503</th>\n",
       "      <td>03caa2c082116e1d31e67e9ae3700499</td>\n",
       "      <td>5769ef0a239114ac3a854af00df129e4</td>\n",
       "      <td>13440.00</td>\n",
       "      <td>224.08</td>\n",
       "    </tr>\n",
       "  </tbody>\n",
       "</table>\n",
       "<p>102425 rows × 4 columns</p>\n",
       "</div>"
      ],
      "text/plain": [
       "                                order_id                        product_id  \\\n",
       "79096   c5bdd8ef3c0ec420232e668302179113  8a3254bee785a526d548a81a9bc3c9be   \n",
       "44154   6e864b3f0ec71031117ad4cf46b7f2a1  8a3254bee785a526d548a81a9bc3c9be   \n",
       "25085   3ee6513ae7ea23bdfab5b9ab60bffcb5  8a3254bee785a526d548a81a9bc3c9be   \n",
       "96770   f1d5c2e6867fa93ceee9ef9b34a53cbf  46fce52cef5caa7cc225a5531c946c8b   \n",
       "93193   e8bbc1d69fee39eee4c72cb5c969e39d  310dc32058903b6416c71faff132df9e   \n",
       "...                                  ...                               ...   \n",
       "98056   f5136e38d1a14a4dbd87dff67da82701  1bdf5e6731585cf01aa8169c7028d6ad   \n",
       "102041  fefacc66af859508bf1a7934eab1e97f  69c590f7ffc7bf8db97190b6cb6ed62e   \n",
       "3243    0812eb902a67711a1cb742b3cdaa65ae  489ae2aa008f021502940f251d4cce7f   \n",
       "46140   736e1922ae60d0d6a89247b851902527  19936fa4f614ee0590d3b77ac83fd648   \n",
       "1503    03caa2c082116e1d31e67e9ae3700499  5769ef0a239114ac3a854af00df129e4   \n",
       "\n",
       "           price  freight_value  \n",
       "79096       0.85          22.30  \n",
       "44154       0.85          18.23  \n",
       "25085       0.85          18.23  \n",
       "96770       2.20           7.39  \n",
       "93193       2.29           7.78  \n",
       "...          ...            ...  \n",
       "98056    6499.00         227.66  \n",
       "102041   6729.00         193.21  \n",
       "3243     6735.00         194.31  \n",
       "46140    7160.00         114.88  \n",
       "1503    13440.00         224.08  \n",
       "\n",
       "[102425 rows x 4 columns]"
      ]
     },
     "execution_count": 55,
     "metadata": {},
     "output_type": "execute_result"
    }
   ],
   "source": [
    "df_sum_and_wght = df_items.groupby(['order_id','product_id'],as_index = False)[['price','freight_value']]\\\n",
    "        .sum()\\\n",
    "        .sort_values('price', ascending = True)\n",
    "df_sum_and_wght"
   ]
  },
  {
   "cell_type": "markdown",
   "metadata": {},
   "source": [
    "А теперь посчитаем суммы стоимости и веса для всех товаров в одинаковых заказах"
   ]
  },
  {
   "cell_type": "code",
   "execution_count": 53,
   "metadata": {},
   "outputs": [
    {
     "data": {
      "text/html": [
       "<div>\n",
       "<style scoped>\n",
       "    .dataframe tbody tr th:only-of-type {\n",
       "        vertical-align: middle;\n",
       "    }\n",
       "\n",
       "    .dataframe tbody tr th {\n",
       "        vertical-align: top;\n",
       "    }\n",
       "\n",
       "    .dataframe thead th {\n",
       "        text-align: right;\n",
       "    }\n",
       "</style>\n",
       "<table border=\"1\" class=\"dataframe\">\n",
       "  <thead>\n",
       "    <tr style=\"text-align: right;\">\n",
       "      <th></th>\n",
       "      <th>order_id</th>\n",
       "      <th>price</th>\n",
       "      <th>freight_value</th>\n",
       "    </tr>\n",
       "  </thead>\n",
       "  <tbody>\n",
       "    <tr>\n",
       "      <th>24174</th>\n",
       "      <td>3ee6513ae7ea23bdfab5b9ab60bffcb5</td>\n",
       "      <td>0.85</td>\n",
       "      <td>18.23</td>\n",
       "    </tr>\n",
       "    <tr>\n",
       "      <th>42562</th>\n",
       "      <td>6e864b3f0ec71031117ad4cf46b7f2a1</td>\n",
       "      <td>0.85</td>\n",
       "      <td>18.23</td>\n",
       "    </tr>\n",
       "    <tr>\n",
       "      <th>93208</th>\n",
       "      <td>f1d5c2e6867fa93ceee9ef9b34a53cbf</td>\n",
       "      <td>2.20</td>\n",
       "      <td>7.39</td>\n",
       "    </tr>\n",
       "    <tr>\n",
       "      <th>89758</th>\n",
       "      <td>e8bbc1d69fee39eee4c72cb5c969e39d</td>\n",
       "      <td>2.29</td>\n",
       "      <td>7.78</td>\n",
       "    </tr>\n",
       "    <tr>\n",
       "      <th>21805</th>\n",
       "      <td>38bcb524e1c38c2c1b60600a80fc8999</td>\n",
       "      <td>2.90</td>\n",
       "      <td>8.72</td>\n",
       "    </tr>\n",
       "    <tr>\n",
       "      <th>...</th>\n",
       "      <td>...</td>\n",
       "      <td>...</td>\n",
       "      <td>...</td>\n",
       "    </tr>\n",
       "    <tr>\n",
       "      <th>94439</th>\n",
       "      <td>f5136e38d1a14a4dbd87dff67da82701</td>\n",
       "      <td>6499.00</td>\n",
       "      <td>227.66</td>\n",
       "    </tr>\n",
       "    <tr>\n",
       "      <th>98298</th>\n",
       "      <td>fefacc66af859508bf1a7934eab1e97f</td>\n",
       "      <td>6729.00</td>\n",
       "      <td>193.21</td>\n",
       "    </tr>\n",
       "    <tr>\n",
       "      <th>3130</th>\n",
       "      <td>0812eb902a67711a1cb742b3cdaa65ae</td>\n",
       "      <td>6735.00</td>\n",
       "      <td>194.31</td>\n",
       "    </tr>\n",
       "    <tr>\n",
       "      <th>44467</th>\n",
       "      <td>736e1922ae60d0d6a89247b851902527</td>\n",
       "      <td>7160.00</td>\n",
       "      <td>114.88</td>\n",
       "    </tr>\n",
       "    <tr>\n",
       "      <th>1455</th>\n",
       "      <td>03caa2c082116e1d31e67e9ae3700499</td>\n",
       "      <td>13440.00</td>\n",
       "      <td>224.08</td>\n",
       "    </tr>\n",
       "  </tbody>\n",
       "</table>\n",
       "<p>98666 rows × 3 columns</p>\n",
       "</div>"
      ],
      "text/plain": [
       "                               order_id     price  freight_value\n",
       "24174  3ee6513ae7ea23bdfab5b9ab60bffcb5      0.85          18.23\n",
       "42562  6e864b3f0ec71031117ad4cf46b7f2a1      0.85          18.23\n",
       "93208  f1d5c2e6867fa93ceee9ef9b34a53cbf      2.20           7.39\n",
       "89758  e8bbc1d69fee39eee4c72cb5c969e39d      2.29           7.78\n",
       "21805  38bcb524e1c38c2c1b60600a80fc8999      2.90           8.72\n",
       "...                                 ...       ...            ...\n",
       "94439  f5136e38d1a14a4dbd87dff67da82701   6499.00         227.66\n",
       "98298  fefacc66af859508bf1a7934eab1e97f   6729.00         193.21\n",
       "3130   0812eb902a67711a1cb742b3cdaa65ae   6735.00         194.31\n",
       "44467  736e1922ae60d0d6a89247b851902527   7160.00         114.88\n",
       "1455   03caa2c082116e1d31e67e9ae3700499  13440.00         224.08\n",
       "\n",
       "[98666 rows x 3 columns]"
      ]
     },
     "execution_count": 53,
     "metadata": {},
     "output_type": "execute_result"
    }
   ],
   "source": [
    "df_sum_and_wght = df_sum_and_wght.groupby('order_id', as_index = False)[['price','freight_value']]\\\n",
    " .sum()\\\n",
    " .sort_values('price', ascending = True)\n",
    "df_sum_and_wght"
   ]
  },
  {
   "cell_type": "markdown",
   "metadata": {},
   "source": [
    "Как видим, у нас преобладают легкие и недорогие заказы. При этом графики настолько похожи, что кажется, что цена товара зависит от его веса."
   ]
  }
 ],
 "metadata": {
  "kernelspec": {
   "display_name": "Python 3",
   "language": "python",
   "name": "python3"
  },
  "language_info": {
   "codemirror_mode": {
    "name": "ipython",
    "version": 3
   },
   "file_extension": ".py",
   "mimetype": "text/x-python",
   "name": "python",
   "nbconvert_exporter": "python",
   "pygments_lexer": "ipython3",
   "version": "3.13.0"
  }
 },
 "nbformat": 4,
 "nbformat_minor": 4
}
