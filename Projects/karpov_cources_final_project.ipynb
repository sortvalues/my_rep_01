{
 "cells": [
  {
   "cell_type": "markdown",
   "metadata": {},
   "source": [
    "Анализ данных не примере первого варианта финального проекта курса \"Аналитик данных\" karpov.courses\n",
    "\n",
    "[0. Retention – один из самых важных показателей в компании. Ваша задача – написать функцию, которая будет считать retention игроков (по дням от даты регистрации игрока).](#0)\n",
    "\n",
    "[1. Имеются результаты A/B теста, в котором двум группам пользователей предлагались различные наборы акционных предложений. Известно, что ARPU в тестовой группе выше на 5%, чем в контрольной. При этом в контрольной группе 1928 игроков из 202103 оказались платящими, а в тестовой – 1805 из 202667. Какой набор предложений можно считать лучшим? Какие метрики стоит проанализировать для принятия правильного решения и как?](#1)\n",
    "\n",
    "[2. В игре Plants & Gardens каждый месяц проводятся тематические события, ограниченные по времени. В них игроки могут получить уникальные предметы для сада и персонажей, дополнительные монеты или бонусы. Для получения награды требуется пройти ряд уровней за определенное время. С помощью каких метрик можно оценить результаты последнего прошедшего события?\n",
    "\n",
    "Предположим, в другом событии мы усложнили механику событий так, что при каждой неудачной попытке выполнения уровня игрок будет откатываться на несколько уровней назад. Изменится ли набор метрик оценки результата? Если да, то как?](#2)\n",
    "\n",
    "<a id=\"1\"></a>\n"
   ]
  },
  {
   "cell_type": "code",
   "execution_count": 593,
   "metadata": {},
   "outputs": [],
   "source": [
    "import pandas as pd\n",
    "import numpy as np\n",
    "import seaborn as sns\n",
    "import matplotlib.pyplot as plt\n",
    "from datetime import timedelta\n",
    "from datetime import datetime\n",
    "sns.set(rc={'figure.figsize' : (12, 5)}, font='verdana')\n",
    "plt.style.use('dark_background')"
   ]
  },
  {
   "cell_type": "markdown",
   "metadata": {},
   "source": [
    "<a id=\"0\"></a> Retention – один из самых важных показателей в компании. Ваша задача – написать функцию, которая будет считать retention игроков (по дням от даты регистрации игрока)"
   ]
  },
  {
   "cell_type": "code",
   "execution_count": 594,
   "metadata": {},
   "outputs": [
    {
     "data": {
      "text/html": [
       "<div>\n",
       "<style scoped>\n",
       "    .dataframe tbody tr th:only-of-type {\n",
       "        vertical-align: middle;\n",
       "    }\n",
       "\n",
       "    .dataframe tbody tr th {\n",
       "        vertical-align: top;\n",
       "    }\n",
       "\n",
       "    .dataframe thead th {\n",
       "        text-align: right;\n",
       "    }\n",
       "</style>\n",
       "<table border=\"1\" class=\"dataframe\">\n",
       "  <thead>\n",
       "    <tr style=\"text-align: right;\">\n",
       "      <th></th>\n",
       "      <th>reg_ts</th>\n",
       "      <th>uid</th>\n",
       "    </tr>\n",
       "  </thead>\n",
       "  <tbody>\n",
       "    <tr>\n",
       "      <th>0</th>\n",
       "      <td>911382223</td>\n",
       "      <td>1</td>\n",
       "    </tr>\n",
       "    <tr>\n",
       "      <th>1</th>\n",
       "      <td>932683089</td>\n",
       "      <td>2</td>\n",
       "    </tr>\n",
       "    <tr>\n",
       "      <th>2</th>\n",
       "      <td>947802447</td>\n",
       "      <td>3</td>\n",
       "    </tr>\n",
       "    <tr>\n",
       "      <th>3</th>\n",
       "      <td>959523541</td>\n",
       "      <td>4</td>\n",
       "    </tr>\n",
       "    <tr>\n",
       "      <th>4</th>\n",
       "      <td>969103313</td>\n",
       "      <td>5</td>\n",
       "    </tr>\n",
       "    <tr>\n",
       "      <th>...</th>\n",
       "      <td>...</td>\n",
       "      <td>...</td>\n",
       "    </tr>\n",
       "    <tr>\n",
       "      <th>999995</th>\n",
       "      <td>1600874034</td>\n",
       "      <td>1110618</td>\n",
       "    </tr>\n",
       "    <tr>\n",
       "      <th>999996</th>\n",
       "      <td>1600874086</td>\n",
       "      <td>1110619</td>\n",
       "    </tr>\n",
       "    <tr>\n",
       "      <th>999997</th>\n",
       "      <td>1600874139</td>\n",
       "      <td>1110620</td>\n",
       "    </tr>\n",
       "    <tr>\n",
       "      <th>999998</th>\n",
       "      <td>1600874191</td>\n",
       "      <td>1110621</td>\n",
       "    </tr>\n",
       "    <tr>\n",
       "      <th>999999</th>\n",
       "      <td>1600874244</td>\n",
       "      <td>1110622</td>\n",
       "    </tr>\n",
       "  </tbody>\n",
       "</table>\n",
       "<p>1000000 rows × 2 columns</p>\n",
       "</div>"
      ],
      "text/plain": [
       "            reg_ts      uid\n",
       "0        911382223        1\n",
       "1        932683089        2\n",
       "2        947802447        3\n",
       "3        959523541        4\n",
       "4        969103313        5\n",
       "...            ...      ...\n",
       "999995  1600874034  1110618\n",
       "999996  1600874086  1110619\n",
       "999997  1600874139  1110620\n",
       "999998  1600874191  1110621\n",
       "999999  1600874244  1110622\n",
       "\n",
       "[1000000 rows x 2 columns]"
      ]
     },
     "execution_count": 594,
     "metadata": {},
     "output_type": "execute_result"
    }
   ],
   "source": [
    "url='https://drive.google.com/file/d/18Fa0cDVGq7bf8O7KEb23CFgU0w5qsMaD/view?usp=sharing'\n",
    "url='https://drive.google.com/uc?id=' + url.split('/')[-2]\n",
    "df_r = pd.read_csv(url, sep=\";\")\n",
    "df_r"
   ]
  },
  {
   "cell_type": "code",
   "execution_count": 595,
   "metadata": {},
   "outputs": [
    {
     "data": {
      "text/html": [
       "<div>\n",
       "<style scoped>\n",
       "    .dataframe tbody tr th:only-of-type {\n",
       "        vertical-align: middle;\n",
       "    }\n",
       "\n",
       "    .dataframe tbody tr th {\n",
       "        vertical-align: top;\n",
       "    }\n",
       "\n",
       "    .dataframe thead th {\n",
       "        text-align: right;\n",
       "    }\n",
       "</style>\n",
       "<table border=\"1\" class=\"dataframe\">\n",
       "  <thead>\n",
       "    <tr style=\"text-align: right;\">\n",
       "      <th></th>\n",
       "      <th>auth_ts</th>\n",
       "      <th>uid</th>\n",
       "    </tr>\n",
       "  </thead>\n",
       "  <tbody>\n",
       "    <tr>\n",
       "      <th>0</th>\n",
       "      <td>911382223</td>\n",
       "      <td>1</td>\n",
       "    </tr>\n",
       "    <tr>\n",
       "      <th>1</th>\n",
       "      <td>932683089</td>\n",
       "      <td>2</td>\n",
       "    </tr>\n",
       "    <tr>\n",
       "      <th>2</th>\n",
       "      <td>932921206</td>\n",
       "      <td>2</td>\n",
       "    </tr>\n",
       "    <tr>\n",
       "      <th>3</th>\n",
       "      <td>933393015</td>\n",
       "      <td>2</td>\n",
       "    </tr>\n",
       "    <tr>\n",
       "      <th>4</th>\n",
       "      <td>933875379</td>\n",
       "      <td>2</td>\n",
       "    </tr>\n",
       "    <tr>\n",
       "      <th>...</th>\n",
       "      <td>...</td>\n",
       "      <td>...</td>\n",
       "    </tr>\n",
       "    <tr>\n",
       "      <th>9601008</th>\n",
       "      <td>1600874034</td>\n",
       "      <td>1110618</td>\n",
       "    </tr>\n",
       "    <tr>\n",
       "      <th>9601009</th>\n",
       "      <td>1600874086</td>\n",
       "      <td>1110619</td>\n",
       "    </tr>\n",
       "    <tr>\n",
       "      <th>9601010</th>\n",
       "      <td>1600874139</td>\n",
       "      <td>1110620</td>\n",
       "    </tr>\n",
       "    <tr>\n",
       "      <th>9601011</th>\n",
       "      <td>1600874191</td>\n",
       "      <td>1110621</td>\n",
       "    </tr>\n",
       "    <tr>\n",
       "      <th>9601012</th>\n",
       "      <td>1600874244</td>\n",
       "      <td>1110622</td>\n",
       "    </tr>\n",
       "  </tbody>\n",
       "</table>\n",
       "<p>9601013 rows × 2 columns</p>\n",
       "</div>"
      ],
      "text/plain": [
       "            auth_ts      uid\n",
       "0         911382223        1\n",
       "1         932683089        2\n",
       "2         932921206        2\n",
       "3         933393015        2\n",
       "4         933875379        2\n",
       "...             ...      ...\n",
       "9601008  1600874034  1110618\n",
       "9601009  1600874086  1110619\n",
       "9601010  1600874139  1110620\n",
       "9601011  1600874191  1110621\n",
       "9601012  1600874244  1110622\n",
       "\n",
       "[9601013 rows x 2 columns]"
      ]
     },
     "execution_count": 595,
     "metadata": {},
     "output_type": "execute_result"
    }
   ],
   "source": [
    "url='https://drive.usercontent.google.com/download?id=12xLu8LW-RvixxIPkourv73x4IUbqpYow&export=download&authuser=0&confirm=t&uuid=d43e5d1c-cec3-4518-84ae-d49b30d9c527&at=AENtkXYRTcBqWPAkd3eLSmLq1DSN%3A1733307676786'\n",
    "df_a = pd.read_csv(url, sep=\";\")\n",
    "df_a"
   ]
  },
  {
   "cell_type": "markdown",
   "metadata": {},
   "source": [
    "Подготовка и знакомство с данными"
   ]
  },
  {
   "cell_type": "code",
   "execution_count": 596,
   "metadata": {},
   "outputs": [],
   "source": [
    "#Таймстэмпы оказались импортированы как целые числа, переведем их даты и переименуем колонки в привычные, простые и запоминающиеся\n",
    "\n",
    "df_r.reg_ts = pd.to_datetime(df_r.reg_ts, unit='s')\n",
    "df_r = df_r.rename(columns = {'reg_ts' : 'r_date',\n",
    "                     'uid' : 'id'})\n",
    "df_a.auth_ts = pd.to_datetime(df_a.auth_ts, unit='s')\n",
    "df_a = df_a.rename(columns = {'auth_ts' : 'a_date',\n",
    "                     'uid' : 'id'})"
   ]
  },
  {
   "cell_type": "code",
   "execution_count": 597,
   "metadata": {},
   "outputs": [
    {
     "data": {
      "text/plain": [
       "True"
      ]
     },
     "execution_count": 597,
     "metadata": {},
     "output_type": "execute_result"
    }
   ],
   "source": [
    "df_r.id.nunique() == len (df_r)"
   ]
  },
  {
   "cell_type": "markdown",
   "metadata": {},
   "source": [
    "В регистрациях у нас только уникальные id"
   ]
  },
  {
   "cell_type": "code",
   "execution_count": 598,
   "metadata": {},
   "outputs": [
    {
     "name": "stdout",
     "output_type": "stream",
     "text": [
      " в авторизациях у нас 1000000 уникальных id в 9601013 авторизациях\n"
     ]
    }
   ],
   "source": [
    "print(f' в авторизациях у нас {df_a.id.nunique()} уникальных id в {len(df_a)} авторизациях')"
   ]
  },
  {
   "cell_type": "markdown",
   "metadata": {},
   "source": [
    "Все зарегистрированные id авторизовались хотя бы 1 раз"
   ]
  },
  {
   "cell_type": "markdown",
   "metadata": {},
   "source": [
    "Соберем два набора данных в один по id - допишем в каждую авторизацию дату регистрации этого id."
   ]
  },
  {
   "cell_type": "code",
   "execution_count": 599,
   "metadata": {},
   "outputs": [],
   "source": [
    "df = pd.merge(df_a, df_r, how = 'left', on='id')"
   ]
  },
  {
   "cell_type": "markdown",
   "metadata": {},
   "source": [
    "Посмотрим на данные"
   ]
  },
  {
   "cell_type": "code",
   "execution_count": 600,
   "metadata": {},
   "outputs": [
    {
     "data": {
      "image/png": "[encoded data removed]",
      "text/plain": [
       "<Figure size 800x600 with 2 Axes>"
      ]
     },
     "metadata": {},
     "output_type": "display_data"
    }
   ],
   "source": [
    "plt.figure(figsize=(8,6))\n",
    "plt.subplots_adjust(wspace= 0.2, \n",
    "                    hspace= 0.4)\n",
    "plt.subplot(2, 1, 1)\n",
    "sns.histplot(df.r_date, color='#171e2f')\n",
    "plt.title('Регистрации', fontsize=12, y=1.02, color='#8b8a84')\n",
    "plt.xlabel(\"Дата\", labelpad = 5, fontsize= 11,color='#8b8a84')\n",
    "plt.ylabel(\"Количество\", labelpad = 5, fontsize= 11,color='#8b8a84')\n",
    "plt.tick_params(axis='both', colors='#8b8a84')\n",
    "for pos in ['right', 'top', 'bottom', 'left']: \n",
    "    plt.gca().spines[pos].set_visible(False)\n",
    "plt.grid(color='darkgray', linestyle='-', linewidth=0.1) \n",
    "\n",
    "plt.subplot(2, 1, 2)\n",
    "sns.histplot(df.a_date, color='#171e2f')\n",
    "plt.tick_params(axis='both', colors='#8b8a84')\n",
    "plt.title('Авторизации', fontsize=12, y=1.02,color='#8b8a84')\n",
    "plt.xlabel(\"Дата\", labelpad = 5, fontsize= 11,color='#8b8a84')\n",
    "plt.ylabel(\"Количество\", labelpad = 5, fontsize= 11,color='#8b8a84')\n",
    "for pos in ['right', 'top', 'bottom', 'left']: \n",
    "    plt.gca().spines[pos].set_visible(False)\n",
    "plt.grid(color='darkgray', linestyle='-', linewidth=0.1)\n",
    "\n",
    "plt.show()"
   ]
  },
  {
   "cell_type": "markdown",
   "metadata": {},
   "source": [
    "Данные выглядят оборванными, а авторизации - искусственно созданными. Давайте поковыряем распределение числа авторизаций по дням"
   ]
  },
  {
   "cell_type": "code",
   "execution_count": 601,
   "metadata": {},
   "outputs": [
    {
     "data": {
      "text/html": [
       "<div>\n",
       "<style scoped>\n",
       "    .dataframe tbody tr th:only-of-type {\n",
       "        vertical-align: middle;\n",
       "    }\n",
       "\n",
       "    .dataframe tbody tr th {\n",
       "        vertical-align: top;\n",
       "    }\n",
       "\n",
       "    .dataframe thead th {\n",
       "        text-align: right;\n",
       "    }\n",
       "</style>\n",
       "<table border=\"1\" class=\"dataframe\">\n",
       "  <thead>\n",
       "    <tr style=\"text-align: right;\">\n",
       "      <th></th>\n",
       "      <th>a_date</th>\n",
       "      <th>cnt</th>\n",
       "    </tr>\n",
       "  </thead>\n",
       "  <tbody>\n",
       "    <tr>\n",
       "      <th>0</th>\n",
       "      <td>1998-11-18</td>\n",
       "      <td>1</td>\n",
       "    </tr>\n",
       "  </tbody>\n",
       "</table>\n",
       "</div>"
      ],
      "text/plain": [
       "       a_date  cnt\n",
       "0  1998-11-18    1"
      ]
     },
     "execution_count": 601,
     "metadata": {},
     "output_type": "execute_result"
    }
   ],
   "source": [
    "df_tmp = df.a_date.dt.date.value_counts().sort_index().reset_index()\n",
    "df_tmp.columns = ['a_date','cnt']\n",
    "df_tmp.head(1)"
   ]
  },
  {
   "cell_type": "markdown",
   "metadata": {},
   "source": [
    "График авторизаций сильно похож на экспоненту, что если это она и есть?"
   ]
  },
  {
   "cell_type": "code",
   "execution_count": 602,
   "metadata": {},
   "outputs": [
    {
     "data": {
      "image/png": "[encoded data removed]",
      "text/plain": [
       "<Figure size 1000x400 with 1 Axes>"
      ]
     },
     "metadata": {},
     "output_type": "display_data"
    }
   ],
   "source": [
    "plt.figure(figsize=(10,4))\n",
    "sns.lineplot(x = df_tmp.index, y = df_tmp.cnt, color='green',linewidth=1, label='авторизации')\n",
    "\n",
    "tmp = pd.Series([1.001564**x for x in range(1, 6169)])\n",
    "\n",
    "sns.lineplot(x = tmp.index, y = tmp.values, linewidth=0.8, color = ('red'), label='экспонента')\n",
    "plt.tick_params(axis='both', colors='#8b8a84')\n",
    "plt.xlabel(\"индекс\", labelpad = 5, fontsize= 11,color='#8b8a84')\n",
    "plt.ylabel(\"количество\", labelpad = 5, fontsize= 11,color='#8b8a84')\n",
    "for pos in ['right', 'top', 'bottom', 'left']: \n",
    "    plt.gca().spines[pos].set_visible(False)\n",
    "plt.grid(color='darkgray', linestyle='-', linewidth=0.1)\n",
    "\n",
    "plt.show()"
   ]
  },
  {
   "cell_type": "markdown",
   "metadata": {},
   "source": [
    "График функции 1.001564**x поразительно совпадает с распределеним авторизаций. Что касается оборванности, то либо приложение вырубили - и с 24 сентября уже нельзя было ни авторизоваться ни зарегистрироваться, либо данные неполные, либо для этой задачи взяли или сгенерировали произвольный набор данных. Посмотрим на основные метрики набора данных."
   ]
  },
  {
   "cell_type": "code",
   "execution_count": 604,
   "metadata": {},
   "outputs": [
    {
     "name": "stdout",
     "output_type": "stream",
     "text": [
      "1. Временной интервал набора данных:    начало:  1998-11-18 09:43:43 \n",
      "                                        конец:   2020-09-23 15:17:24 \n",
      "2. Уникальных пользователей:                     1000000 \n",
      "3. Зарегистрировались, но в игру так и не зашли: 0\n",
      "4. Зашли в игру один раз                         761622 пользователей  (76.2%) \n",
      "5. Зашли в игру больше одного раза:              238378 пользователей  (23.8%) \n",
      "6. NaN в наборе данных                           0 \n",
      "\n"
     ]
    }
   ],
   "source": [
    "df_tmp=df.groupby('id').a_date.count().sort_values(ascending = False)\n",
    "print(f'\\\n",
    "1. Временной интервал набора данных:    начало:  {df['r_date'].min()} \\n\\\n",
    "                                        конец:   {df['r_date'].max()} \\n\\\n",
    "2. Уникальных пользователей:                     {df_r.id.nunique()} \\n\\\n",
    "3. Зарегистрировались, но в игру так и не зашли: {pd.merge(df_r, df_a, how='left', on='id').a_date.isna().sum()}\\n\\\n",
    "4. Зашли в игру один раз                         {df_tmp[df_tmp.values == 1].count()} пользователей  ({round(100*df_tmp[df_tmp.values == 1].count()/len(df_r), 1)}%) \\n\\\n",
    "5. Зашли в игру больше одного раза:              {df_tmp[df_tmp.values > 1].count()} пользователей  ({round(100*df_tmp[df_tmp.values > 1].count()/len(df_r), 1)}%) \\n\\\n",
    "6. NaN в наборе данных                           {df.isna().a_date.sum()+df.isna().r_date.sum()+df.isna().id.sum()} \\n\\\n",
    "')\n"
   ]
  },
  {
   "cell_type": "markdown",
   "metadata": {},
   "source": [
    "Проверим, совпадает ли первая авторизация с регистрацией"
   ]
  },
  {
   "cell_type": "code",
   "execution_count": 605,
   "metadata": {},
   "outputs": [
    {
     "data": {
      "text/plain": [
       "check\n",
       "True    1000000\n",
       "Name: count, dtype: int64"
      ]
     },
     "execution_count": 605,
     "metadata": {},
     "output_type": "execute_result"
    }
   ],
   "source": [
    "df_check = df.groupby('id', as_index = False).agg({'a_date': 'min', 'r_date': 'min'})\n",
    "df_check['check'] = df_check.a_date == df_check.r_date\n",
    "df_check.check.value_counts()"
   ]
  },
  {
   "cell_type": "markdown",
   "metadata": {},
   "source": [
    "Совпадает для всех пользователей"
   ]
  },
  {
   "cell_type": "markdown",
   "metadata": {},
   "source": [
    "Вернемся к изначальным данным и retention игроков \"по дням от даты регистрации игрока\". То есть, нас интресует возврат игроков, зарегистрировавшихся в определенный день, в игру в течение определенного временного интервала в днях. А значит в функции будет два аргумента: \n",
    "\n",
    "- День регистрации - reg_day\n",
    "\n",
    "- Число дней на возврат в игру - days_to_get_back\n",
    "\n",
    "- Источник данных (для разных целей можно предварительно готовить его различными способами)"
   ]
  },
  {
   "cell_type": "code",
   "execution_count": 607,
   "metadata": {},
   "outputs": [],
   "source": [
    "def rtn(reg_day, days_to_be_back, df_rgd):\n",
    "    \n",
    "    # Готовим дату если нужно - зависит от способа дальнейшего использования функции\n",
    "    # reg_day = datetime.strptime(reg_day, '%Y-%m-%d')\n",
    "\n",
    "    #Вырезаем нужный интервал из источника данных, чтобы не крутить лишний объем данных\n",
    "    df_tmp = df_rgd[(df_rgd.r_date >= reg_day) & (df_rgd.r_date <= reg_day + timedelta(days = days_to_be_back))].copy()\n",
    "\n",
    "    # Собираем пользователей, зарегистрировавшихся в указанный день\n",
    "    df_tmp.r_date = df_tmp.r_date.dt.date\n",
    "    df_tmp.r_date = pd.to_datetime(df_tmp.r_date)\n",
    "    rgd_users     = df_tmp[df_tmp.r_date == np.datetime64(reg_day.date())]\\\n",
    "                          .groupby('id',as_index = False)\\\n",
    "                          .agg({'r_date':'nunique'})\\\n",
    "                          .id\n",
    "    coh_cnt       = rgd_users.count()\n",
    "\n",
    "    # Считаем последний день диапазона для возврата\n",
    "    last_day      = reg_day + timedelta(days = days_to_be_back)\n",
    "\n",
    "    # Считаем активных пользователей за период из числа зарегистрировавшихся в указанный день\n",
    "    df_active     = df_tmp[(df_tmp.a_date > reg_day) & (df_tmp.a_date <= last_day) & (df_tmp.id.isin(rgd_users))]\\\n",
    "                          .groupby('id', as_index = False)\\\n",
    "                          .agg({'r_date':'count'})\n",
    "    active_users  = df_active[df_active.r_date > 1].r_date.count()\n",
    "    return [reg_day.date(), days_to_be_back, round(active_users / coh_cnt, 3)]"
   ]
  },
  {
   "cell_type": "markdown",
   "metadata": {},
   "source": [
    "Итак, у нас есть функция, которой на вход подается дата регистрации, временной итервал в днях и датафрейм - источник данных.\n",
    "Функция считает, какое количество пользователей, зарегистрировавшихся в поданную дату - заходили повторно за поданный промежуток времени.\n",
    "\n",
    "Теперь мы можем ее использовать как для одиночного вычисления, так и для сбора данных по конкретным датам. Например, так"
   ]
  },
  {
   "cell_type": "code",
   "execution_count": 651,
   "metadata": {},
   "outputs": [],
   "source": [
    "# АХТУНГ - 5 минут считается на моем компе\n",
    "\n",
    "t = pd.DataFrame({'reg_date': [1], 'retention' : [3]})\n",
    "for i in range(1,3676):\n",
    "    r = pd.Series(rtn(datetime.strptime('2010-09-01', '%Y-%m-%d') + timedelta(days = i), 10, df))\n",
    "    r1 = pd.DataFrame({'reg_date': [r[0]], 'retention' : [r[2]]})\n",
    "    t = pd.concat([t, r1], axis = 0 ).reset_index(drop = True)\n",
    "t = t.drop(index = 0, axis = 1)\n",
    "t.reg_date = pd.to_datetime(t.reg_date)"
   ]
  },
  {
   "cell_type": "markdown",
   "metadata": {},
   "source": [
    "За 10 лет для каждой дневной когорты мы посчитали десятидневный retention и собрали в массив. Теперь можно посмотреть на график."
   ]
  },
  {
   "cell_type": "code",
   "execution_count": 652,
   "metadata": {},
   "outputs": [
    {
     "data": {
      "image/png": "[encoded data removed]",
      "text/plain": [
       "<Figure size 1000x400 with 1 Axes>"
      ]
     },
     "metadata": {},
     "output_type": "display_data"
    }
   ],
   "source": [
    "df_cnt = df.groupby('id').r_date.min().to_frame().reset_index()\n",
    "plt.figure(figsize=(10,4))\n",
    "sns.lineplot(x = df_cnt.r_date, y = df_cnt.index/1000000, linewidth=0.5, color='red', label='нормированное число пользователей')\n",
    "sns.lineplot(x = t.reg_date, y = t.retention, linewidth=0.2, color='green', label='retention')\n",
    "plt.title('10 дневный retention за 10 лет по однодневным когортам', fontsize=10, y=1.02)\n",
    "plt.xlim(datetime.strptime('2010-09-01', '%Y-%m-%d'), datetime.strptime('2020-09-23', '%Y-%m-%d'))\n",
    "plt.xlabel(\"дата\", labelpad = 5, fontsize= 10,color='#8b8a84')\n",
    "plt.ylabel('retention', labelpad = 15, fontsize= 10)\n",
    "for pos in ['right', 'top', 'bottom', 'left']: \n",
    "    plt.gca().spines[pos].set_visible(False)\n",
    "plt.grid(color='darkgray', linestyle='-', linewidth=0.1) \n",
    "plt.show()"
   ]
  },
  {
   "cell_type": "markdown",
   "metadata": {},
   "source": [
    "Артефакты на графике снова наводят на мысль об искусственном происхождении данных, как будто что-то нарисовади, но будем и дальше ковырять что дали и интерпретировать график как-будто это реальные данные.\n",
    "\n",
    "Видим, что на начальных этапах пользователями являлся узкий круг разработчиков, тестировщиков, энтузиастов сообщество раширялось скачкообразно по мере нововедений, которые сразу же проверялись - и ретеншн подскакивал почти до 100%. Но по мере роста числа обычных польхователей начало проявлятся истинное распределение и его среднее.\n",
    "\n",
    "Но теперь мы можем с помощью функции посмотреть не только историю определенного retention дневных когорт. Мы можем посмотреть и распределение retention разной периодичности для определенных когорт"
   ]
  },
  {
   "cell_type": "code",
   "execution_count": 669,
   "metadata": {},
   "outputs": [],
   "source": [
    "tt = pd.DataFrame({'reg date': [1], 'days_shift' : [2], 'retention' : [3]})\n",
    "for i in range(30):\n",
    "    rr = pd.Series(rtn(datetime.strptime('2018-04-09', '%Y-%m-%d'), 1+i, df))\n",
    "    rr1 = pd.DataFrame({'reg date': [rr[0]], 'days_shift' : [rr[1]], 'retention' : [rr[2]]})\n",
    "    tt = pd.concat([tt, rr1], axis = 0 ).reset_index(drop = True)\n",
    "tt = tt.drop(index = 0, axis = 1)"
   ]
  },
  {
   "cell_type": "code",
   "execution_count": 737,
   "metadata": {},
   "outputs": [
    {
     "data": {
      "image/png": "[encoded data removed]",
      "text/plain": [
       "<Figure size 1000x400 with 1 Axes>"
      ]
     },
     "metadata": {},
     "output_type": "display_data"
    }
   ],
   "source": [
    "plt.figure(figsize=(10,4))\n",
    "sns.lineplot(x = tt.days_shift, y = tt.retention, linewidth=1, color='green')\n",
    "plt.title('Для дня с максимальным числом регистраций за день', fontsize=10, y=1.02)\n",
    "plt.xlabel(\"интервал расчета retention\", labelpad = 5, fontsize= 10,color='#8b8a84')\n",
    "plt.ylabel('retention', labelpad = 15, fontsize= 10)\n",
    "for pos in ['right', 'top', 'bottom', 'left']: \n",
    "    plt.gca().spines[pos].set_visible(False)\n",
    "plt.grid(color='darkgray', linestyle='-', linewidth=0.1) \n",
    "plt.show()"
   ]
  },
  {
   "cell_type": "markdown",
   "metadata": {},
   "source": [
    "Как-будто, если пользователь не зашел повторно за 10 дней - то он скорее всего уже не зайдет никогда"
   ]
  },
  {
   "cell_type": "code",
   "execution_count": 688,
   "metadata": {},
   "outputs": [
    {
     "data": {
      "text/plain": [
       "days\n",
       "NaT       761622\n",
       "1 days     40202\n",
       "2 days     39955\n",
       "3 days     39732\n",
       "4 days     39605\n",
       "6 days     39577\n",
       "5 days     39306\n",
       "7 days         1\n",
       "Name: count, dtype: int64"
      ]
     },
     "execution_count": 688,
     "metadata": {},
     "output_type": "execute_result"
    }
   ],
   "source": [
    "days_to_get_back = df[df.r_date != df.a_date].groupby('id', as_index = False).agg({'a_date':'min'})\n",
    "df_back = pd.merge(df_r, days_to_get_back, how = 'left', on='id')\n",
    "df_back['days'] = (df_back.a_date - df_back.r_date).dt.floor('D')\n",
    "df_back.days.value_counts(dropna=False)"
   ]
  },
  {
   "cell_type": "markdown",
   "metadata": {},
   "source": [
    "Это довольно странно - пользователи забывают про игру через 7 дней. За двадцать лет никто не зашел в приложение через неделю. При этом остальные пользователи поделились почти одинаково по группам\n",
    "\n",
    "А еще можно собрать табличку по дням за некоторый период с динамикой изменения retention в зависимости от ширины временного интервала"
   ]
  },
  {
   "cell_type": "code",
   "execution_count": 736,
   "metadata": {},
   "outputs": [
    {
     "name": "stderr",
     "output_type": "stream",
     "text": [
      "C:\\Users\\mail\\AppData\\Local\\Temp\\ipykernel_19904\\3612937040.py:10: FutureWarning: ChainedAssignmentError: behaviour will change in pandas 3.0!\n",
      "You are setting values through chained assignment. Currently this works in certain cases, but when using Copy-on-Write (which will become the default behaviour in pandas 3.0) this will never work to update the original DataFrame or Series, because the intermediate object on which we are setting values will behave as a copy.\n",
      "A typical example is when you are setting values in a column of a DataFrame, like:\n",
      "\n",
      "df[\"col\"][row_indexer] = value\n",
      "\n",
      "Use `df.loc[row_indexer, \"col\"] = values` instead, to perform the assignment in a single step and ensure this keeps updating the original `df`.\n",
      "\n",
      "See the caveats in the documentation: https://pandas.pydata.org/pandas-docs/stable/user_guide/indexing.html#returning-a-view-versus-a-copy\n",
      "\n",
      "  table.reg_date[i] = table_r[0]\n",
      "C:\\Users\\mail\\AppData\\Local\\Temp\\ipykernel_19904\\3612937040.py:10: FutureWarning: Setting an item of incompatible dtype is deprecated and will raise an error in a future version of pandas. Value '2018-04-10' has dtype incompatible with float64, please explicitly cast to a compatible dtype first.\n",
      "  table.reg_date[i] = table_r[0]\n",
      "C:\\Users\\mail\\AppData\\Local\\Temp\\ipykernel_19904\\3612937040.py:10: FutureWarning: ChainedAssignmentError: behaviour will change in pandas 3.0!\n",
      "You are setting values through chained assignment. Currently this works in certain cases, but when using Copy-on-Write (which will become the default behaviour in pandas 3.0) this will never work to update the original DataFrame or Series, because the intermediate object on which we are setting values will behave as a copy.\n",
      "A typical example is when you are setting values in a column of a DataFrame, like:\n",
      "\n",
      "df[\"col\"][row_indexer] = value\n",
      "\n",
      "Use `df.loc[row_indexer, \"col\"] = values` instead, to perform the assignment in a single step and ensure this keeps updating the original `df`.\n",
      "\n",
      "See the caveats in the documentation: https://pandas.pydata.org/pandas-docs/stable/user_guide/indexing.html#returning-a-view-versus-a-copy\n",
      "\n",
      "  table.reg_date[i] = table_r[0]\n",
      "C:\\Users\\mail\\AppData\\Local\\Temp\\ipykernel_19904\\3612937040.py:10: SettingWithCopyWarning: \n",
      "A value is trying to be set on a copy of a slice from a DataFrame\n",
      "\n",
      "See the caveats in the documentation: https://pandas.pydata.org/pandas-docs/stable/user_guide/indexing.html#returning-a-view-versus-a-copy\n",
      "  table.reg_date[i] = table_r[0]\n",
      "C:\\Users\\mail\\AppData\\Local\\Temp\\ipykernel_19904\\3612937040.py:10: FutureWarning: ChainedAssignmentError: behaviour will change in pandas 3.0!\n",
      "You are setting values through chained assignment. Currently this works in certain cases, but when using Copy-on-Write (which will become the default behaviour in pandas 3.0) this will never work to update the original DataFrame or Series, because the intermediate object on which we are setting values will behave as a copy.\n",
      "A typical example is when you are setting values in a column of a DataFrame, like:\n",
      "\n",
      "df[\"col\"][row_indexer] = value\n",
      "\n",
      "Use `df.loc[row_indexer, \"col\"] = values` instead, to perform the assignment in a single step and ensure this keeps updating the original `df`.\n",
      "\n",
      "See the caveats in the documentation: https://pandas.pydata.org/pandas-docs/stable/user_guide/indexing.html#returning-a-view-versus-a-copy\n",
      "\n",
      "  table.reg_date[i] = table_r[0]\n",
      "C:\\Users\\mail\\AppData\\Local\\Temp\\ipykernel_19904\\3612937040.py:10: SettingWithCopyWarning: \n",
      "A value is trying to be set on a copy of a slice from a DataFrame\n",
      "\n",
      "See the caveats in the documentation: https://pandas.pydata.org/pandas-docs/stable/user_guide/indexing.html#returning-a-view-versus-a-copy\n",
      "  table.reg_date[i] = table_r[0]\n",
      "C:\\Users\\mail\\AppData\\Local\\Temp\\ipykernel_19904\\3612937040.py:10: FutureWarning: ChainedAssignmentError: behaviour will change in pandas 3.0!\n",
      "You are setting values through chained assignment. Currently this works in certain cases, but when using Copy-on-Write (which will become the default behaviour in pandas 3.0) this will never work to update the original DataFrame or Series, because the intermediate object on which we are setting values will behave as a copy.\n",
      "A typical example is when you are setting values in a column of a DataFrame, like:\n",
      "\n",
      "df[\"col\"][row_indexer] = value\n",
      "\n",
      "Use `df.loc[row_indexer, \"col\"] = values` instead, to perform the assignment in a single step and ensure this keeps updating the original `df`.\n",
      "\n",
      "See the caveats in the documentation: https://pandas.pydata.org/pandas-docs/stable/user_guide/indexing.html#returning-a-view-versus-a-copy\n",
      "\n",
      "  table.reg_date[i] = table_r[0]\n",
      "C:\\Users\\mail\\AppData\\Local\\Temp\\ipykernel_19904\\3612937040.py:10: SettingWithCopyWarning: \n",
      "A value is trying to be set on a copy of a slice from a DataFrame\n",
      "\n",
      "See the caveats in the documentation: https://pandas.pydata.org/pandas-docs/stable/user_guide/indexing.html#returning-a-view-versus-a-copy\n",
      "  table.reg_date[i] = table_r[0]\n",
      "C:\\Users\\mail\\AppData\\Local\\Temp\\ipykernel_19904\\3612937040.py:10: FutureWarning: ChainedAssignmentError: behaviour will change in pandas 3.0!\n",
      "You are setting values through chained assignment. Currently this works in certain cases, but when using Copy-on-Write (which will become the default behaviour in pandas 3.0) this will never work to update the original DataFrame or Series, because the intermediate object on which we are setting values will behave as a copy.\n",
      "A typical example is when you are setting values in a column of a DataFrame, like:\n",
      "\n",
      "df[\"col\"][row_indexer] = value\n",
      "\n",
      "Use `df.loc[row_indexer, \"col\"] = values` instead, to perform the assignment in a single step and ensure this keeps updating the original `df`.\n",
      "\n",
      "See the caveats in the documentation: https://pandas.pydata.org/pandas-docs/stable/user_guide/indexing.html#returning-a-view-versus-a-copy\n",
      "\n",
      "  table.reg_date[i] = table_r[0]\n",
      "C:\\Users\\mail\\AppData\\Local\\Temp\\ipykernel_19904\\3612937040.py:10: SettingWithCopyWarning: \n",
      "A value is trying to be set on a copy of a slice from a DataFrame\n",
      "\n",
      "See the caveats in the documentation: https://pandas.pydata.org/pandas-docs/stable/user_guide/indexing.html#returning-a-view-versus-a-copy\n",
      "  table.reg_date[i] = table_r[0]\n",
      "C:\\Users\\mail\\AppData\\Local\\Temp\\ipykernel_19904\\3612937040.py:10: FutureWarning: ChainedAssignmentError: behaviour will change in pandas 3.0!\n",
      "You are setting values through chained assignment. Currently this works in certain cases, but when using Copy-on-Write (which will become the default behaviour in pandas 3.0) this will never work to update the original DataFrame or Series, because the intermediate object on which we are setting values will behave as a copy.\n",
      "A typical example is when you are setting values in a column of a DataFrame, like:\n",
      "\n",
      "df[\"col\"][row_indexer] = value\n",
      "\n",
      "Use `df.loc[row_indexer, \"col\"] = values` instead, to perform the assignment in a single step and ensure this keeps updating the original `df`.\n",
      "\n",
      "See the caveats in the documentation: https://pandas.pydata.org/pandas-docs/stable/user_guide/indexing.html#returning-a-view-versus-a-copy\n",
      "\n",
      "  table.reg_date[i] = table_r[0]\n",
      "C:\\Users\\mail\\AppData\\Local\\Temp\\ipykernel_19904\\3612937040.py:10: SettingWithCopyWarning: \n",
      "A value is trying to be set on a copy of a slice from a DataFrame\n",
      "\n",
      "See the caveats in the documentation: https://pandas.pydata.org/pandas-docs/stable/user_guide/indexing.html#returning-a-view-versus-a-copy\n",
      "  table.reg_date[i] = table_r[0]\n",
      "C:\\Users\\mail\\AppData\\Local\\Temp\\ipykernel_19904\\3612937040.py:10: FutureWarning: ChainedAssignmentError: behaviour will change in pandas 3.0!\n",
      "You are setting values through chained assignment. Currently this works in certain cases, but when using Copy-on-Write (which will become the default behaviour in pandas 3.0) this will never work to update the original DataFrame or Series, because the intermediate object on which we are setting values will behave as a copy.\n",
      "A typical example is when you are setting values in a column of a DataFrame, like:\n",
      "\n",
      "df[\"col\"][row_indexer] = value\n",
      "\n",
      "Use `df.loc[row_indexer, \"col\"] = values` instead, to perform the assignment in a single step and ensure this keeps updating the original `df`.\n",
      "\n",
      "See the caveats in the documentation: https://pandas.pydata.org/pandas-docs/stable/user_guide/indexing.html#returning-a-view-versus-a-copy\n",
      "\n",
      "  table.reg_date[i] = table_r[0]\n",
      "C:\\Users\\mail\\AppData\\Local\\Temp\\ipykernel_19904\\3612937040.py:10: SettingWithCopyWarning: \n",
      "A value is trying to be set on a copy of a slice from a DataFrame\n",
      "\n",
      "See the caveats in the documentation: https://pandas.pydata.org/pandas-docs/stable/user_guide/indexing.html#returning-a-view-versus-a-copy\n",
      "  table.reg_date[i] = table_r[0]\n",
      "C:\\Users\\mail\\AppData\\Local\\Temp\\ipykernel_19904\\3612937040.py:10: FutureWarning: ChainedAssignmentError: behaviour will change in pandas 3.0!\n",
      "You are setting values through chained assignment. Currently this works in certain cases, but when using Copy-on-Write (which will become the default behaviour in pandas 3.0) this will never work to update the original DataFrame or Series, because the intermediate object on which we are setting values will behave as a copy.\n",
      "A typical example is when you are setting values in a column of a DataFrame, like:\n",
      "\n",
      "df[\"col\"][row_indexer] = value\n",
      "\n",
      "Use `df.loc[row_indexer, \"col\"] = values` instead, to perform the assignment in a single step and ensure this keeps updating the original `df`.\n",
      "\n",
      "See the caveats in the documentation: https://pandas.pydata.org/pandas-docs/stable/user_guide/indexing.html#returning-a-view-versus-a-copy\n",
      "\n",
      "  table.reg_date[i] = table_r[0]\n",
      "C:\\Users\\mail\\AppData\\Local\\Temp\\ipykernel_19904\\3612937040.py:10: SettingWithCopyWarning: \n",
      "A value is trying to be set on a copy of a slice from a DataFrame\n",
      "\n",
      "See the caveats in the documentation: https://pandas.pydata.org/pandas-docs/stable/user_guide/indexing.html#returning-a-view-versus-a-copy\n",
      "  table.reg_date[i] = table_r[0]\n",
      "C:\\Users\\mail\\AppData\\Local\\Temp\\ipykernel_19904\\3612937040.py:10: FutureWarning: ChainedAssignmentError: behaviour will change in pandas 3.0!\n",
      "You are setting values through chained assignment. Currently this works in certain cases, but when using Copy-on-Write (which will become the default behaviour in pandas 3.0) this will never work to update the original DataFrame or Series, because the intermediate object on which we are setting values will behave as a copy.\n",
      "A typical example is when you are setting values in a column of a DataFrame, like:\n",
      "\n",
      "df[\"col\"][row_indexer] = value\n",
      "\n",
      "Use `df.loc[row_indexer, \"col\"] = values` instead, to perform the assignment in a single step and ensure this keeps updating the original `df`.\n",
      "\n",
      "See the caveats in the documentation: https://pandas.pydata.org/pandas-docs/stable/user_guide/indexing.html#returning-a-view-versus-a-copy\n",
      "\n",
      "  table.reg_date[i] = table_r[0]\n",
      "C:\\Users\\mail\\AppData\\Local\\Temp\\ipykernel_19904\\3612937040.py:10: SettingWithCopyWarning: \n",
      "A value is trying to be set on a copy of a slice from a DataFrame\n",
      "\n",
      "See the caveats in the documentation: https://pandas.pydata.org/pandas-docs/stable/user_guide/indexing.html#returning-a-view-versus-a-copy\n",
      "  table.reg_date[i] = table_r[0]\n"
     ]
    },
    {
     "data": {
      "text/html": [
       "<div>\n",
       "<style scoped>\n",
       "    .dataframe tbody tr th:only-of-type {\n",
       "        vertical-align: middle;\n",
       "    }\n",
       "\n",
       "    .dataframe tbody tr th {\n",
       "        vertical-align: top;\n",
       "    }\n",
       "\n",
       "    .dataframe thead th {\n",
       "        text-align: right;\n",
       "    }\n",
       "</style>\n",
       "<table border=\"1\" class=\"dataframe\">\n",
       "  <thead>\n",
       "    <tr style=\"text-align: right;\">\n",
       "      <th></th>\n",
       "      <th>reg_date</th>\n",
       "      <th>2 day</th>\n",
       "      <th>3 day</th>\n",
       "      <th>4 day</th>\n",
       "      <th>5 day</th>\n",
       "      <th>6 day</th>\n",
       "      <th>7 day</th>\n",
       "      <th>8 day</th>\n",
       "      <th>9 day</th>\n",
       "    </tr>\n",
       "  </thead>\n",
       "  <tbody>\n",
       "    <tr>\n",
       "      <th>1</th>\n",
       "      <td>2018-04-10</td>\n",
       "      <td>0.013</td>\n",
       "      <td>0.059</td>\n",
       "      <td>0.106</td>\n",
       "      <td>0.138</td>\n",
       "      <td>0.176</td>\n",
       "      <td>0.213</td>\n",
       "      <td>0.231</td>\n",
       "      <td>0.231</td>\n",
       "    </tr>\n",
       "    <tr>\n",
       "      <th>2</th>\n",
       "      <td>2018-04-11</td>\n",
       "      <td>0.016</td>\n",
       "      <td>0.061</td>\n",
       "      <td>0.122</td>\n",
       "      <td>0.164</td>\n",
       "      <td>0.210</td>\n",
       "      <td>0.255</td>\n",
       "      <td>0.276</td>\n",
       "      <td>0.276</td>\n",
       "    </tr>\n",
       "    <tr>\n",
       "      <th>3</th>\n",
       "      <td>2018-04-12</td>\n",
       "      <td>0.008</td>\n",
       "      <td>0.050</td>\n",
       "      <td>0.080</td>\n",
       "      <td>0.114</td>\n",
       "      <td>0.143</td>\n",
       "      <td>0.172</td>\n",
       "      <td>0.202</td>\n",
       "      <td>0.202</td>\n",
       "    </tr>\n",
       "    <tr>\n",
       "      <th>4</th>\n",
       "      <td>2018-04-13</td>\n",
       "      <td>0.016</td>\n",
       "      <td>0.063</td>\n",
       "      <td>0.108</td>\n",
       "      <td>0.153</td>\n",
       "      <td>0.188</td>\n",
       "      <td>0.235</td>\n",
       "      <td>0.257</td>\n",
       "      <td>0.257</td>\n",
       "    </tr>\n",
       "    <tr>\n",
       "      <th>5</th>\n",
       "      <td>2018-04-14</td>\n",
       "      <td>0.018</td>\n",
       "      <td>0.042</td>\n",
       "      <td>0.095</td>\n",
       "      <td>0.127</td>\n",
       "      <td>0.169</td>\n",
       "      <td>0.203</td>\n",
       "      <td>0.211</td>\n",
       "      <td>0.211</td>\n",
       "    </tr>\n",
       "    <tr>\n",
       "      <th>6</th>\n",
       "      <td>2018-04-15</td>\n",
       "      <td>0.026</td>\n",
       "      <td>0.077</td>\n",
       "      <td>0.111</td>\n",
       "      <td>0.145</td>\n",
       "      <td>0.201</td>\n",
       "      <td>0.224</td>\n",
       "      <td>0.240</td>\n",
       "      <td>0.240</td>\n",
       "    </tr>\n",
       "    <tr>\n",
       "      <th>7</th>\n",
       "      <td>2018-04-16</td>\n",
       "      <td>0.034</td>\n",
       "      <td>0.063</td>\n",
       "      <td>0.095</td>\n",
       "      <td>0.121</td>\n",
       "      <td>0.171</td>\n",
       "      <td>0.205</td>\n",
       "      <td>0.224</td>\n",
       "      <td>0.224</td>\n",
       "    </tr>\n",
       "    <tr>\n",
       "      <th>8</th>\n",
       "      <td>2018-04-17</td>\n",
       "      <td>0.026</td>\n",
       "      <td>0.092</td>\n",
       "      <td>0.134</td>\n",
       "      <td>0.160</td>\n",
       "      <td>0.202</td>\n",
       "      <td>0.249</td>\n",
       "      <td>0.276</td>\n",
       "      <td>0.276</td>\n",
       "    </tr>\n",
       "    <tr>\n",
       "      <th>9</th>\n",
       "      <td>2018-04-18</td>\n",
       "      <td>0.018</td>\n",
       "      <td>0.068</td>\n",
       "      <td>0.094</td>\n",
       "      <td>0.144</td>\n",
       "      <td>0.160</td>\n",
       "      <td>0.223</td>\n",
       "      <td>0.241</td>\n",
       "      <td>0.241</td>\n",
       "    </tr>\n",
       "  </tbody>\n",
       "</table>\n",
       "</div>"
      ],
      "text/plain": [
       "     reg_date  2 day  3 day  4 day  5 day  6 day  7 day  8 day  9 day\n",
       "1  2018-04-10  0.013  0.059  0.106  0.138  0.176  0.213  0.231  0.231\n",
       "2  2018-04-11  0.016  0.061  0.122  0.164  0.210  0.255  0.276  0.276\n",
       "3  2018-04-12  0.008  0.050  0.080  0.114  0.143  0.172  0.202  0.202\n",
       "4  2018-04-13  0.016  0.063  0.108  0.153  0.188  0.235  0.257  0.257\n",
       "5  2018-04-14  0.018  0.042  0.095  0.127  0.169  0.203  0.211  0.211\n",
       "6  2018-04-15  0.026  0.077  0.111  0.145  0.201  0.224  0.240  0.240\n",
       "7  2018-04-16  0.034  0.063  0.095  0.121  0.171  0.205  0.224  0.224\n",
       "8  2018-04-17  0.026  0.092  0.134  0.160  0.202  0.249  0.276  0.276\n",
       "9  2018-04-18  0.018  0.068  0.094  0.144  0.160  0.223  0.241  0.241"
      ]
     },
     "execution_count": 736,
     "metadata": {},
     "output_type": "execute_result"
    }
   ],
   "source": [
    "table = pd.DataFrame({'reg_date': [1], '2 day' : [3], '3 day' : [3], '4 day' : [3], '5 day' : [3], '6 day' : [3], '7 day' : [3], '8 day' : [3], '9 day' : [3]})\n",
    "\n",
    "for i in range(1,10):\n",
    "    res = []\n",
    "    for n in range(2,10):\n",
    "        table_r = pd.Series(rtn(datetime.strptime('2018-04-09', '%Y-%m-%d') + timedelta(days = i), n, df))\n",
    "        res.append([table_r[2]])\n",
    "    table_r1 = pd.DataFrame({'2 day' : res[0], '3 day' : res[1], '4 day' : res[2], '5 day' : res[3], '6 day' : res[4], '7 day' : res[5], '8 day' : res[6], '9 day' : res[7]})\n",
    "    table = pd.concat([table, table_r1], axis = 0 ).reset_index(drop = True)\n",
    "    table.reg_date[i] = table_r[0]\n",
    "\n",
    "table = table.drop(index = 0, axis = 1)\n",
    "#table.reg_date = pd.to_datetime(table.reg_date)\n",
    "table"
   ]
  },
  {
   "cell_type": "markdown",
   "metadata": {},
   "source": [
    "<a id=\"1\"></a> Имеются результаты A/B теста, в котором двум группам пользователей предлагались различные наборы акционных предложений. \n",
    "\n",
    "Известно, что ARPU в тестовой группе выше на 5%, чем в контрольной. При этом в контрольной группе 1928 игроков из 202103 оказались платящими, а в тестовой – 1805 из 202667. \n",
    "\n",
    "Какой набор предложений можно считать лучшим? Какие метрики стоит проанализировать для принятия правильного решения и как?"
   ]
  },
  {
   "cell_type": "code",
   "execution_count": 740,
   "metadata": {},
   "outputs": [],
   "source": [
    "url='https://drive.google.com/file/d/1ZnhQzDliRiOlrADRJV_ZTlxOqqsMo4sc/view?usp=sharing'\n",
    "url='https://drive.google.com/uc?id=' + url.split('/')[-2]\n",
    "df = pd.read_csv(url,sep = ';')"
   ]
  },
  {
   "cell_type": "code",
   "execution_count": 837,
   "metadata": {},
   "outputs": [
    {
     "data": {
      "text/html": [
       "<div>\n",
       "<style scoped>\n",
       "    .dataframe tbody tr th:only-of-type {\n",
       "        vertical-align: middle;\n",
       "    }\n",
       "\n",
       "    .dataframe tbody tr th {\n",
       "        vertical-align: top;\n",
       "    }\n",
       "\n",
       "    .dataframe thead th {\n",
       "        text-align: right;\n",
       "    }\n",
       "</style>\n",
       "<table border=\"1\" class=\"dataframe\">\n",
       "  <thead>\n",
       "    <tr style=\"text-align: right;\">\n",
       "      <th></th>\n",
       "      <th>user_id</th>\n",
       "      <th>revenue</th>\n",
       "      <th>testgroup</th>\n",
       "    </tr>\n",
       "  </thead>\n",
       "  <tbody>\n",
       "    <tr>\n",
       "      <th>0</th>\n",
       "      <td>1</td>\n",
       "      <td>0</td>\n",
       "      <td>b</td>\n",
       "    </tr>\n",
       "    <tr>\n",
       "      <th>1</th>\n",
       "      <td>2</td>\n",
       "      <td>0</td>\n",
       "      <td>a</td>\n",
       "    </tr>\n",
       "    <tr>\n",
       "      <th>2</th>\n",
       "      <td>3</td>\n",
       "      <td>0</td>\n",
       "      <td>a</td>\n",
       "    </tr>\n",
       "    <tr>\n",
       "      <th>3</th>\n",
       "      <td>4</td>\n",
       "      <td>0</td>\n",
       "      <td>b</td>\n",
       "    </tr>\n",
       "    <tr>\n",
       "      <th>4</th>\n",
       "      <td>5</td>\n",
       "      <td>0</td>\n",
       "      <td>b</td>\n",
       "    </tr>\n",
       "    <tr>\n",
       "      <th>...</th>\n",
       "      <td>...</td>\n",
       "      <td>...</td>\n",
       "      <td>...</td>\n",
       "    </tr>\n",
       "    <tr>\n",
       "      <th>404765</th>\n",
       "      <td>404766</td>\n",
       "      <td>0</td>\n",
       "      <td>a</td>\n",
       "    </tr>\n",
       "    <tr>\n",
       "      <th>404766</th>\n",
       "      <td>404767</td>\n",
       "      <td>0</td>\n",
       "      <td>b</td>\n",
       "    </tr>\n",
       "    <tr>\n",
       "      <th>404767</th>\n",
       "      <td>404768</td>\n",
       "      <td>231</td>\n",
       "      <td>a</td>\n",
       "    </tr>\n",
       "    <tr>\n",
       "      <th>404768</th>\n",
       "      <td>404769</td>\n",
       "      <td>0</td>\n",
       "      <td>a</td>\n",
       "    </tr>\n",
       "    <tr>\n",
       "      <th>404769</th>\n",
       "      <td>404770</td>\n",
       "      <td>0</td>\n",
       "      <td>b</td>\n",
       "    </tr>\n",
       "  </tbody>\n",
       "</table>\n",
       "<p>404770 rows × 3 columns</p>\n",
       "</div>"
      ],
      "text/plain": [
       "        user_id  revenue testgroup\n",
       "0             1        0         b\n",
       "1             2        0         a\n",
       "2             3        0         a\n",
       "3             4        0         b\n",
       "4             5        0         b\n",
       "...         ...      ...       ...\n",
       "404765   404766        0         a\n",
       "404766   404767        0         b\n",
       "404767   404768      231         a\n",
       "404768   404769        0         a\n",
       "404769   404770        0         b\n",
       "\n",
       "[404770 rows x 3 columns]"
      ]
     },
     "execution_count": 837,
     "metadata": {},
     "output_type": "execute_result"
    }
   ],
   "source": [
    "df"
   ]
  },
  {
   "cell_type": "code",
   "execution_count": 838,
   "metadata": {},
   "outputs": [
    {
     "data": {
      "text/html": [
       "<div>\n",
       "<style scoped>\n",
       "    .dataframe tbody tr th:only-of-type {\n",
       "        vertical-align: middle;\n",
       "    }\n",
       "\n",
       "    .dataframe tbody tr th {\n",
       "        vertical-align: top;\n",
       "    }\n",
       "\n",
       "    .dataframe thead th {\n",
       "        text-align: right;\n",
       "    }\n",
       "</style>\n",
       "<table border=\"1\" class=\"dataframe\">\n",
       "  <thead>\n",
       "    <tr style=\"text-align: right;\">\n",
       "      <th></th>\n",
       "      <th>user_id</th>\n",
       "      <th>revenue</th>\n",
       "      <th>testgroup</th>\n",
       "    </tr>\n",
       "  </thead>\n",
       "  <tbody>\n",
       "    <tr>\n",
       "      <th>1</th>\n",
       "      <td>2</td>\n",
       "      <td>0</td>\n",
       "      <td>a</td>\n",
       "    </tr>\n",
       "  </tbody>\n",
       "</table>\n",
       "</div>"
      ],
      "text/plain": [
       "   user_id  revenue testgroup\n",
       "1        2        0         a"
      ]
     },
     "execution_count": 838,
     "metadata": {},
     "output_type": "execute_result"
    }
   ],
   "source": [
    "df_a = df[df.testgroup == 'a']\n",
    "df_a.head(1)"
   ]
  },
  {
   "cell_type": "code",
   "execution_count": 839,
   "metadata": {},
   "outputs": [
    {
     "data": {
      "text/html": [
       "<div>\n",
       "<style scoped>\n",
       "    .dataframe tbody tr th:only-of-type {\n",
       "        vertical-align: middle;\n",
       "    }\n",
       "\n",
       "    .dataframe tbody tr th {\n",
       "        vertical-align: top;\n",
       "    }\n",
       "\n",
       "    .dataframe thead th {\n",
       "        text-align: right;\n",
       "    }\n",
       "</style>\n",
       "<table border=\"1\" class=\"dataframe\">\n",
       "  <thead>\n",
       "    <tr style=\"text-align: right;\">\n",
       "      <th></th>\n",
       "      <th>user_id</th>\n",
       "      <th>revenue</th>\n",
       "      <th>testgroup</th>\n",
       "    </tr>\n",
       "  </thead>\n",
       "  <tbody>\n",
       "    <tr>\n",
       "      <th>0</th>\n",
       "      <td>1</td>\n",
       "      <td>0</td>\n",
       "      <td>b</td>\n",
       "    </tr>\n",
       "  </tbody>\n",
       "</table>\n",
       "</div>"
      ],
      "text/plain": [
       "   user_id  revenue testgroup\n",
       "0        1        0         b"
      ]
     },
     "execution_count": 839,
     "metadata": {},
     "output_type": "execute_result"
    }
   ],
   "source": [
    "df_b = df[df.testgroup == 'b']\n",
    "df_b.head(1)"
   ]
  },
  {
   "cell_type": "markdown",
   "metadata": {},
   "source": [
    "Проверим все ли записи в обеих группах уникальны"
   ]
  },
  {
   "cell_type": "code",
   "execution_count": 840,
   "metadata": {},
   "outputs": [
    {
     "data": {
      "text/plain": [
       "2"
      ]
     },
     "execution_count": 840,
     "metadata": {},
     "output_type": "execute_result"
    }
   ],
   "source": [
    "(df_a.user_id.nunique() == len(df_a))*1 + (df_b.user_id.nunique() == len(df_b))*1"
   ]
  },
  {
   "cell_type": "markdown",
   "metadata": {},
   "source": [
    "Посмотрим на общие метрики по группам"
   ]
  },
  {
   "cell_type": "code",
   "execution_count": 842,
   "metadata": {},
   "outputs": [
    {
     "name": "stdout",
     "output_type": "stream",
     "text": [
      "Группа А: \n",
      "Клиентов всего:       202103\n",
      "Заплативших клиентов: 1928    \n",
      "СR в оплату:          0.0095 \n",
      "Средний чек:          2664.0 \n",
      "Самый большой заказ:  37433\n",
      "    \n"
     ]
    }
   ],
   "source": [
    "print(f'Группа А: \\n\\\n",
    "Клиентов всего:       {len(df_a)}\\n\\\n",
    "Заплативших клиентов: {len(df_a[df_a.revenue > 0])}    \\n\\\n",
    "СR в оплату:          {round(len(df_a[df_a.revenue > 0]) / len(df_a), 4)} \\n\\\n",
    "Средний чек:          {round(df_a[df_a.revenue > 0].revenue.sum() / len(df_a[df_a.revenue > 0]),1)} \\n\\\n",
    "Самый большой заказ:  {df_a.revenue.max()}\\n\\\n",
    "    ')"
   ]
  },
  {
   "cell_type": "code",
   "execution_count": 775,
   "metadata": {},
   "outputs": [
    {
     "name": "stdout",
     "output_type": "stream",
     "text": [
      "Группа B: \n",
      "Клиентов всего:       202667\n",
      "Заплативших клиентов: 1805    \n",
      "СR в оплату:          0.0089 \n",
      "Средний чек:          3003.7 \n",
      "Самый большой заказ:  4000\n",
      "    \n"
     ]
    }
   ],
   "source": [
    "print(f'Группа B: \\n\\\n",
    "Клиентов всего:       {len(df_b)}\\n\\\n",
    "Заплативших клиентов: {len(df_b[df_b.revenue > 0])}    \\n\\\n",
    "СR в оплату:          {round(len(df_b[df_b.revenue > 0]) / len(df_b), 4)} \\n\\\n",
    "Средний чек:          {round(df_b[df_b.revenue > 0].revenue.sum() / len(df_b[df_b.revenue > 0]),1)} \\n\\\n",
    "Самый большой заказ:  {df_b.revenue.max()}\\n\\\n",
    "    ')"
   ]
  },
  {
   "cell_type": "markdown",
   "metadata": {},
   "source": [
    "Разница в сумме максимального заказа впечатляет. Посмотрим на распределение заказов по сумме"
   ]
  },
  {
   "cell_type": "code",
   "execution_count": 903,
   "metadata": {},
   "outputs": [
    {
     "data": {
      "text/plain": [
       "<Figure size 1300x600 with 0 Axes>"
      ]
     },
     "metadata": {},
     "output_type": "display_data"
    },
    {
     "data": {
      "image/png": "[encoded data removed]",
      "text/plain": [
       "<Figure size 1200x500 with 2 Axes>"
      ]
     },
     "metadata": {},
     "output_type": "display_data"
    }
   ],
   "source": [
    "plt.figure(figsize=(13,6))\n",
    "fig, ax = plt.subplots(2, 1, sharex=True)\n",
    "plt.subplots_adjust(wspace= 0.2, \n",
    "                    hspace= 0.4)\n",
    "\n",
    "plt.subplot(2, 1, 1)\n",
    "sns.histplot(df_a[df_a.revenue > 0].revenue, linewidth=0.5,color='#171e2f',bins = 100)\n",
    "plt.tick_params(axis='both', colors='#8b8a84')\n",
    "plt.title('A', fontsize=12, y=1.02,color='#8b8a84')\n",
    "plt.ylabel(\"\", labelpad = 5, fontsize= 11, color='#8b8a84')\n",
    "plt.xlabel(\"\", labelpad = 5, fontsize= 11, color='#8b8a84')\n",
    "\n",
    "\n",
    "for pos in ['right', 'top', 'bottom', 'left']: \n",
    "    plt.gca().spines[pos].set_visible(False)\n",
    "plt.grid(color='darkgray', linestyle='-', linewidth=0.1) \n",
    "\n",
    "plt.subplot(2, 1, 2)\n",
    "sns.histplot(df_b[df_b.revenue > 0].revenue, linewidth=0.5,color='#171e2f',bins = 100)\n",
    "plt.tick_params(axis='both', colors='#8b8a84')\n",
    "plt.title('B', fontsize=12, y=1.02,color='#8b8a84')\n",
    "plt.ylabel(\"\", labelpad = 5, fontsize= 11, color='#8b8a84')\n",
    "plt.xlabel(\"\", labelpad = 5, fontsize= 11, color='#8b8a84')\n",
    "\n",
    "for pos in ['right', 'top', 'bottom', 'left']: \n",
    "    plt.gca().spines[pos].set_visible(False)\n",
    "plt.grid(color='darkgray', linestyle='-', linewidth=0.1) \n",
    "\n",
    "plt.show()"
   ]
  },
  {
   "cell_type": "markdown",
   "metadata": {},
   "source": [
    "Вот этот \"пенечек\" в группе А в районе 40000 (далее - \"лакшери пенек\") - makes a difference. Давайте посмотрим сколько в нем заказов"
   ]
  },
  {
   "cell_type": "code",
   "execution_count": 844,
   "metadata": {},
   "outputs": [
    {
     "data": {
      "text/plain": [
       "revenue\n",
       "(162.767, 7646.6]     1805\n",
       "(29986.4, 37433.0]     123\n",
       "(7646.6, 15093.2]        0\n",
       "(15093.2, 22539.8]       0\n",
       "(22539.8, 29986.4]       0\n",
       "Name: count, dtype: int64"
      ]
     },
     "execution_count": 844,
     "metadata": {},
     "output_type": "execute_result"
    }
   ],
   "source": [
    "pd.cut(df_a[df_a.revenue > 0].revenue, bins = 5).value_counts()"
   ]
  },
  {
   "cell_type": "markdown",
   "metadata": {},
   "source": [
    "123 заказа в хвостовом лакшери пеньке"
   ]
  },
  {
   "cell_type": "code",
   "execution_count": 846,
   "metadata": {},
   "outputs": [
    {
     "data": {
      "text/plain": [
       "19495     37293\n",
       "254113    37294\n",
       "34534     37294\n",
       "235858    37294\n",
       "81477     37294\n",
       "          ...  \n",
       "142804    37379\n",
       "21585     37385\n",
       "65077     37394\n",
       "196601    37407\n",
       "101861    37433\n",
       "Name: revenue, Length: 123, dtype: int64"
      ]
     },
     "execution_count": 846,
     "metadata": {},
     "output_type": "execute_result"
    }
   ],
   "source": [
    "df_a.revenue.sort_values().tail(123)"
   ]
  },
  {
   "cell_type": "markdown",
   "metadata": {},
   "source": [
    "Все как на подбор"
   ]
  },
  {
   "cell_type": "code",
   "execution_count": 872,
   "metadata": {},
   "outputs": [
    {
     "name": "stdout",
     "output_type": "stream",
     "text": [
      "В группе А в бомжовом пеньке 548289, а в лакшери пеньке 4587900 \n",
      "                     то есть 11.0% и                    89.0%  соответственно\n"
     ]
    }
   ],
   "source": [
    "print(f'В группе А в бомжовом пеньке {df_a.revenue.sum() - 37300*123}, а в лакшери пеньке {37300*123} \\n \\\n",
    "                    то есть {round(100*(df_a.revenue.sum() - 37300*123)/df_a.revenue.sum(),0)}% и                    {round(100*(37300*123)/df_a.revenue.sum(),0)}%  соответственно')"
   ]
  },
  {
   "cell_type": "markdown",
   "metadata": {},
   "source": [
    "Как видим в групрпе А все деньги в лакшери пеньке. Вот бы узнать как получилось, что 1800 клиентов сделали заказы от 2000 до 4000, а 123 - по 37000 зарядили. Что это за акционное предложение такое? \n",
    "\n",
    "Заставь 12 друзей купить у нас по настолке и получи скидку 50% на плазменную панель?\n",
    "\n",
    "Короче, во-первых, состояние группы А вызывает вопросы. Как-будто бомжовый и лакшери пеньки гистограммы связаны между собой каким-то принудительным механизмом.\n",
    "\n",
    "- Толи неправильно подготовили данные и в розницу попали оптовики, но уж больно суммы больших заказов совпадают\n",
    "\n",
    "- Из-за близости сумм больших заказов можно подумать, что и в самом деле какой-то товар продается по акции, но суммы все же разнятся. Из-за курса ежедневно ценники меняют? Ну так вроде е 90-е же\n",
    "\n",
    "- А может параллельно ликвидацию телевизоров с повреждегной упаковкой начальство провело и сотрудники все разобрали, чтобы через авито потом обналичить?\n",
    "\n",
    "- А может смысл группы А был в том чтобы избавиться от дорогого неликвида и дело вобщене в деньгах, а в обналичивания мертвого складского остатка пусть и с потерями, но зато с живыми деньгами\n",
    "\n",
    "Загадки во тьме.\n",
    "\n",
    "А, во-вторых, среднее группы А не отражает вообще ничего..."
   ]
  },
  {
   "cell_type": "code",
   "execution_count": 885,
   "metadata": {},
   "outputs": [
    {
     "data": {
      "image/png": "[encoded data removed]",
      "text/plain": [
       "<Figure size 1000x400 with 1 Axes>"
      ]
     },
     "metadata": {},
     "output_type": "display_data"
    }
   ],
   "source": [
    "plt.figure(figsize=(10,4))\n",
    "boxplot_style = {\n",
    "    'medianprops':  {'linewidth': 4, 'color': '#571a18'},\n",
    "    'flierprops':   {'marker': 'o', 'markerfacecolor': 'green', 'markersize': 8},\n",
    "    'boxprops':     {'facecolor': 'none', 'edgecolor ': '#435975', 'linewidth': 1},\n",
    "    'capprops':     {'color': 'orange', 'linewidth': 1}}\n",
    "sns.boxplot(x = df[df.revenue>0].testgroup, y = df[df.revenue>0].revenue, \n",
    "                                                            whiskerprops = {'linewidth': 2, 'color': '#435975'},\n",
    "                                                            medianprops  = {'linewidth': 4, 'color': 'orange', 'linewidth': 0.5},\n",
    "                                                            flierprops   = {'marker': 'o', 'markeredgecolor': '#e0ce79', 'markersize': 5, 'markerfacecolor' :'none', 'linewidth': 0.1},\n",
    "                                                            boxprops     = {'facecolor': 'none', 'edgecolor': '#395a83', 'linewidth': 1},\n",
    "                                                            capprops     = {'color': 'orange', 'linewidth': 0.5})\n",
    "plt.tick_params(axis='both', colors='#8b8a84')\n",
    "for pos in ['right', 'top', 'bottom', 'left']: \n",
    "    plt.gca().spines[pos].set_visible(False)\n",
    "plt.grid(color='darkgray', linestyle='-', linewidth=0.1)\n",
    "plt.show()"
   ]
  },
  {
   "cell_type": "markdown",
   "metadata": {},
   "source": [
    "Как видим, медианы различаются драматически..."
   ]
  },
  {
   "cell_type": "code",
   "execution_count": 889,
   "metadata": {},
   "outputs": [
    {
     "data": {
      "text/plain": [
       "count     1928.000000\n",
       "mean      2663.998444\n",
       "std       9049.039763\n",
       "min        200.000000\n",
       "25%        257.000000\n",
       "50%        311.000000\n",
       "75%        361.000000\n",
       "max      37433.000000\n",
       "Name: revenue, dtype: float64"
      ]
     },
     "execution_count": 889,
     "metadata": {},
     "output_type": "execute_result"
    }
   ],
   "source": [
    "df[(df.revenue>0) & (df.testgroup == 'a')].revenue.describe()"
   ]
  },
  {
   "cell_type": "code",
   "execution_count": 890,
   "metadata": {},
   "outputs": [
    {
     "data": {
      "text/plain": [
       "count    1805.000000\n",
       "mean     3003.658172\n",
       "std       572.619709\n",
       "min      2000.000000\n",
       "25%      2513.000000\n",
       "50%      3022.000000\n",
       "75%      3478.000000\n",
       "max      4000.000000\n",
       "Name: revenue, dtype: float64"
      ]
     },
     "execution_count": 890,
     "metadata": {},
     "output_type": "execute_result"
    }
   ],
   "source": [
    "df[(df.revenue>0) & (df.testgroup == 'b')].revenue.describe()"
   ]
  },
  {
   "cell_type": "markdown",
   "metadata": {},
   "source": [
    "... ну да - в 10 раз, то есть, на порядок медиана группы В превышает медиану группы А. \n",
    "\n",
    "С точки зрения ответа на изначальный вопрос \"Какой набор предложений можно считать лучшим?\" все упирается в изучение природы лакшери пенька. Он слишком маленький по числу заказов для того, чтобы уверенно считать его системным фактороми и одновременно слишком большой по деньгам для того, чтобы исключать его из рассмотрения.\n",
    "\n",
    "При этом если в лакшери пеньком экономики А и В примерно сходятся, то без него группа А просто исчезает.\n"
   ]
  },
  {
   "cell_type": "code",
   "execution_count": 891,
   "metadata": {},
   "outputs": [
    {
     "data": {
      "text/plain": [
       "count    1805.000000\n",
       "mean      302.458172\n",
       "std        57.914246\n",
       "min       200.000000\n",
       "25%       254.000000\n",
       "50%       305.000000\n",
       "75%       352.000000\n",
       "max       400.000000\n",
       "Name: revenue, dtype: float64"
      ]
     },
     "execution_count": 891,
     "metadata": {},
     "output_type": "execute_result"
    }
   ],
   "source": [
    "df[(df.revenue>0) & (df.revenue < 37000) & (df.testgroup == 'a')].revenue.describe()"
   ]
  },
  {
   "cell_type": "code",
   "execution_count": 912,
   "metadata": {},
   "outputs": [
    {
     "name": "stdout",
     "output_type": "stream",
     "text": [
      "выручка группы А с лакшери пеньком                                    5136189 \n",
      "потеря всего 1 заказа из лакшери пенька уменьшает выручку группы А на 37000 или 0.7% \n",
      "выручка группы А без лакшери пенька                                   545937 \n",
      "выручка группы B                                                      5421603 \n"
     ]
    }
   ],
   "source": [
    "print(f'выручка группы А с лакшери пеньком                                    {df[(df.revenue>0) & (df.testgroup == 'a')].revenue.sum()} \\n\\\n",
    "потеря всего 1 заказа из лакшери пенька уменьшает выручку группы А на 37000 или {round(100*37000/df[(df.revenue>0) & (df.testgroup == 'a')].revenue.sum(),1)}% \\n\\\n",
    "выручка группы А без лакшери пенька                                   {df[(df.revenue>0) & (df.revenue < 37000) & (df.testgroup == 'a')].revenue.sum()} \\n\\\n",
    "выручка группы B                                                      {df[(df.revenue>0) & (df.testgroup == 'b')].revenue.sum()} ')"
   ]
  },
  {
   "cell_type": "markdown",
   "metadata": {},
   "source": [
    "Без лакшери пенька группа А - 10% от группы В.\n",
    "\n",
    "Заявлено, что группа В - тестовая, группа А - контрольная. То есть, группа А - это как все есть на сейчас, а В - это вариант, который тестируется.\n",
    "\n",
    "И если лакшери пенек - системная часть группы А, то тот факт что она не перешла в группу В ни в каком виде - ставит под вопрос дизайн эксперимента, как так получилось, что ключевая часть дохода не наследуется.\n",
    "\n",
    "При этом даже без этой части группа В соразмерна по результатам с группой А, предлагая стабильно более высокое среднее.\n"
   ]
  },
  {
   "cell_type": "markdown",
   "metadata": {},
   "source": [
    "Вывод: Для принятия окончательного решения следует понять природу лакшени пенька группы А и в новом эксперименте постараться учесть возможность наследования лакшери пенька и сохранения десятикратного роста среднего чека по основное массе заказов гурппы В. \n",
    "\n",
    "На данном же этапе группа В выглядит как более стабильная, предсказуемая и понятным образом масштабируемая"
   ]
  },
  {
   "cell_type": "markdown",
   "metadata": {},
   "source": []
  },
  {
   "cell_type": "markdown",
   "metadata": {},
   "source": [
    "<a id=\"2\"></a> ***В игре Plants & Gardens каждый месяц проводятся тематические события, ограниченные по времени. В них игроки могут получить уникальные предметы для сада и персонажей, дополнительные монеты или бонусы. Для получения награды требуется пройти ряд уровней за определенное время. С помощью каких метрик можно оценить результаты последнего прошедшего события?***"
   ]
  },
  {
   "cell_type": "markdown",
   "metadata": {},
   "source": [
    "Уникальные предметы, внутриигровая валюта и подобные вещи интересны тем, кто уже регулярно играет. Для тех кто не играл раньше ценность бонусов не существует и не является стимулом для регистрации. Для игроков, которые играли раньше, но ушли из игры - ценность бонусов существет только в контексте какого-то иного стимула (\"друг позвал в пати арканы полутать\", \"полгода не играл - зайду-ка гляну чо там вообще сейчас\").\n",
    "\n",
    "А значит retention старых полльзователей и число новых пользователей здесь не отражают ничего существенного. Тем более, что события ежемесячные и эффект привлечения новых пользователей скажется в основном через внешнюю рекламу события. Но это будет фактор рекламы, а не события как такового.\n",
    "\n",
    "Событие направлено на тех, кто уже играет. Целей несколько:\n",
    "\n",
    "1. Дух соперничества - подняться в социальной иерархии игровошго сообщества. \n",
    "2. Собрать внутриигровой клан, группу, гильдию для обмена опытом прохождения, совместного покорения вершин рейтинга события и таким образом привязаться к игре социально.\n",
    "3. Налутать шмоток, которые психологически будут иметь для игрока ценность и удерживать его в от ухода из игры\n",
    "4. Создать экономическое внутриигровое пространство - продажа шмоток, фарм шмоток на заказ, буст аккаунтов, тренерство и так далее. Так внутри игры одни игроки начут сами привязывать к игре других игроков\n",
    "5. Повод похвастаться достижением в соцсетях и привлечь внимание к игре\n",
    "\n",
    "Основные метрики:\n",
    "\n",
    "1. Средняя длительность сессии - должна увеличиться\n",
    "2. Среднее число сессий на пользователя в день - должно увеличиться\n",
    "3. Retention игроков по когортам этапов события или конверсионное окно - должен падать в рамках статистических данных с предыдущих событий, игроки не должны бросать прохождение события\n",
    "4. Retention игроков, начавших проходить событие по дням - должен падать в рамках статистических данных с предыдущих событий, игроки в целом должны пройти событие за отведенное время\n",
    "5. Конверсия участия в событии в расшаривание своих достижения во вне\n",
    "6. Retention игроков когорты участников события в последующие недели до следующего события - не должен падать сильное, события не должно изматывать, игроки не должны находиться в игре только во время события\n",
    "7. Обычно в событиях есть бесплатный и мучительный путь, а так же платный и комфортный. Соответственно, метрика - среднее число покупок платного пути на пользователя ARPU ARPPU\n",
    "8. Метрики оценки экономической эффективности события - ROI, ROMI, ROAS по событию\n",
    "\n",
    "\n",
    "\n"
   ]
  },
  {
   "cell_type": "markdown",
   "metadata": {},
   "source": [
    "***Предположим, в другом событии мы усложнили механику событий так, что при каждой неудачной попытке выполнения уровня игрок будет откатываться на несколько уровней назад. Изменится ли набор метрик оценки результата? Если да, то как?***"
   ]
  },
  {
   "cell_type": "markdown",
   "metadata": {},
   "source": [
    "Если введение нового правила прохождения вызывает беспокойство (что справедливо), то, очевидно, следует наблюдать как игроки справляются с заданием и сохраняется ил у них восприятие события как челенджа и не замещается ли оно ассоциациями с онанизмом.\n",
    "\n",
    "Основной контрольной метрикой здесь будет ежедневный retention по когортам непрошедших каждый уровень."
   ]
  }
 ],
 "metadata": {
  "kernelspec": {
   "display_name": "Python 3",
   "language": "python",
   "name": "python3"
  },
  "language_info": {
   "codemirror_mode": {
    "name": "ipython",
    "version": 3
   },
   "file_extension": ".py",
   "mimetype": "text/x-python",
   "name": "python",
   "nbconvert_exporter": "python",
   "pygments_lexer": "ipython3",
   "version": "3.13.0"
  }
 },
 "nbformat": 4,
 "nbformat_minor": 2
}
