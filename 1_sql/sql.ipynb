{
 "cells": [
  {
   "cell_type": "code",
   "execution_count": 12,
   "metadata": {},
   "outputs": [],
   "source": [
    "import pandas as pd\n",
    "import numpy as np\n",
    "import gdown\n",
    "import sqlite3 as sql3"
   ]
  },
  {
   "cell_type": "code",
   "execution_count": 5,
   "metadata": {},
   "outputs": [
    {
     "name": "stderr",
     "output_type": "stream",
     "text": [
      "Downloading...\n",
      "From: https://drive.google.com/uc?id=12vhXA__uaWSCvua2ROC2MompFS4LkV7D\n",
      "To: c:\\Users\\mail\\OneDrive\\Documents\\my_python\\1_sql\\commercial_data_generated_xls.xlsx\n",
      "100%|██████████| 662k/662k [00:00<00:00, 4.97MB/s]\n"
     ]
    }
   ],
   "source": [
    "url='https://docs.google.com/spreadsheets/d/12vhXA__uaWSCvua2ROC2MompFS4LkV7D/edit?usp=drive_link&ouid=116045163522511725897&rtpof=true&sd=true'\n",
    "url='https://drive.google.com/uc?id=' + url.split('/')[-2]\n",
    "gdown.download(url, 'commercial_data_generated_xls.xlsx', quiet=False)\n",
    "connection = sql3.connect('db')"
   ]
  },
  {
   "cell_type": "code",
   "execution_count": 29,
   "metadata": {},
   "outputs": [
    {
     "data": {
      "text/plain": [
       "17277"
      ]
     },
     "execution_count": 29,
     "metadata": {},
     "output_type": "execute_result"
    }
   ],
   "source": [
    "df = pd.read_excel('commercial_data_generated_xls.xlsx')\n",
    "df['flag'] = np.random.binomial(1, 0.3, len(df))\n",
    "len(df)"
   ]
  },
  {
   "cell_type": "code",
   "execution_count": 30,
   "metadata": {},
   "outputs": [
    {
     "data": {
      "text/plain": [
       "17277"
      ]
     },
     "execution_count": 30,
     "metadata": {},
     "output_type": "execute_result"
    }
   ],
   "source": [
    "df.to_sql('sales', connection, index = False, if_exists='replace' )"
   ]
  },
  {
   "cell_type": "code",
   "execution_count": 31,
   "metadata": {},
   "outputs": [
    {
     "data": {
      "text/html": [
       "<div>\n",
       "<style scoped>\n",
       "    .dataframe tbody tr th:only-of-type {\n",
       "        vertical-align: middle;\n",
       "    }\n",
       "\n",
       "    .dataframe tbody tr th {\n",
       "        vertical-align: top;\n",
       "    }\n",
       "\n",
       "    .dataframe thead th {\n",
       "        text-align: right;\n",
       "    }\n",
       "</style>\n",
       "<table border=\"1\" class=\"dataframe\">\n",
       "  <thead>\n",
       "    <tr style=\"text-align: right;\">\n",
       "      <th></th>\n",
       "      <th>datetime</th>\n",
       "      <th>order_id</th>\n",
       "      <th>customer_id</th>\n",
       "      <th>item</th>\n",
       "      <th>price</th>\n",
       "      <th>quantity</th>\n",
       "      <th>discount</th>\n",
       "      <th>bundle_discount</th>\n",
       "      <th>flag</th>\n",
       "    </tr>\n",
       "  </thead>\n",
       "  <tbody>\n",
       "    <tr>\n",
       "      <th>0</th>\n",
       "      <td>2024-11-03 12:19:45</td>\n",
       "      <td>2782292</td>\n",
       "      <td>0</td>\n",
       "      <td>item_36</td>\n",
       "      <td>716.0</td>\n",
       "      <td>2</td>\n",
       "      <td>0.0</td>\n",
       "      <td>0.0</td>\n",
       "      <td>0</td>\n",
       "    </tr>\n",
       "    <tr>\n",
       "      <th>1</th>\n",
       "      <td>2024-11-03 12:19:45</td>\n",
       "      <td>2782292</td>\n",
       "      <td>0</td>\n",
       "      <td>item_98</td>\n",
       "      <td>240.2</td>\n",
       "      <td>7</td>\n",
       "      <td>0.0</td>\n",
       "      <td>0.0</td>\n",
       "      <td>0</td>\n",
       "    </tr>\n",
       "    <tr>\n",
       "      <th>2</th>\n",
       "      <td>2024-11-03 12:19:45</td>\n",
       "      <td>2782292</td>\n",
       "      <td>0</td>\n",
       "      <td>item_96</td>\n",
       "      <td>260.3</td>\n",
       "      <td>8</td>\n",
       "      <td>0.0</td>\n",
       "      <td>0.0</td>\n",
       "      <td>1</td>\n",
       "    </tr>\n",
       "    <tr>\n",
       "      <th>3</th>\n",
       "      <td>2024-11-03 12:19:45</td>\n",
       "      <td>2782292</td>\n",
       "      <td>0</td>\n",
       "      <td>item_11</td>\n",
       "      <td>441.2</td>\n",
       "      <td>5</td>\n",
       "      <td>0.0</td>\n",
       "      <td>0.0</td>\n",
       "      <td>0</td>\n",
       "    </tr>\n",
       "    <tr>\n",
       "      <th>4</th>\n",
       "      <td>2024-11-03 12:19:45</td>\n",
       "      <td>2782292</td>\n",
       "      <td>0</td>\n",
       "      <td>item_13</td>\n",
       "      <td>297.3</td>\n",
       "      <td>1</td>\n",
       "      <td>0.0</td>\n",
       "      <td>0.0</td>\n",
       "      <td>0</td>\n",
       "    </tr>\n",
       "  </tbody>\n",
       "</table>\n",
       "</div>"
      ],
      "text/plain": [
       "              datetime  order_id  customer_id     item  price  quantity  \\\n",
       "0  2024-11-03 12:19:45   2782292            0  item_36  716.0         2   \n",
       "1  2024-11-03 12:19:45   2782292            0  item_98  240.2         7   \n",
       "2  2024-11-03 12:19:45   2782292            0  item_96  260.3         8   \n",
       "3  2024-11-03 12:19:45   2782292            0  item_11  441.2         5   \n",
       "4  2024-11-03 12:19:45   2782292            0  item_13  297.3         1   \n",
       "\n",
       "   discount  bundle_discount  flag  \n",
       "0       0.0              0.0     0  \n",
       "1       0.0              0.0     0  \n",
       "2       0.0              0.0     1  \n",
       "3       0.0              0.0     0  \n",
       "4       0.0              0.0     0  "
      ]
     },
     "execution_count": 31,
     "metadata": {},
     "output_type": "execute_result"
    }
   ],
   "source": [
    "query = \"\"\"\n",
    "        SELECT      *\n",
    "        FROM        sales\n",
    "        LIMIT 5\n",
    "        \"\"\"\n",
    "pd.read_sql_query(query, connection)"
   ]
  },
  {
   "cell_type": "markdown",
   "metadata": {},
   "source": [
    "Задача: расчитать медианные значения суммарных месячных трат постоянных клиентов"
   ]
  },
  {
   "cell_type": "code",
   "execution_count": 55,
   "metadata": {},
   "outputs": [
    {
     "data": {
      "text/html": [
       "<div>\n",
       "<style scoped>\n",
       "    .dataframe tbody tr th:only-of-type {\n",
       "        vertical-align: middle;\n",
       "    }\n",
       "\n",
       "    .dataframe tbody tr th {\n",
       "        vertical-align: top;\n",
       "    }\n",
       "\n",
       "    .dataframe thead th {\n",
       "        text-align: right;\n",
       "    }\n",
       "</style>\n",
       "<table border=\"1\" class=\"dataframe\">\n",
       "  <thead>\n",
       "    <tr style=\"text-align: right;\">\n",
       "      <th></th>\n",
       "      <th>month</th>\n",
       "      <th>customer_id</th>\n",
       "      <th>sum</th>\n",
       "    </tr>\n",
       "  </thead>\n",
       "  <tbody>\n",
       "    <tr>\n",
       "      <th>0</th>\n",
       "      <td>05</td>\n",
       "      <td>93834</td>\n",
       "      <td>5578.8</td>\n",
       "    </tr>\n",
       "    <tr>\n",
       "      <th>1</th>\n",
       "      <td>05</td>\n",
       "      <td>11859</td>\n",
       "      <td>3483.7</td>\n",
       "    </tr>\n",
       "    <tr>\n",
       "      <th>2</th>\n",
       "      <td>05</td>\n",
       "      <td>39398</td>\n",
       "      <td>4265.6</td>\n",
       "    </tr>\n",
       "    <tr>\n",
       "      <th>3</th>\n",
       "      <td>05</td>\n",
       "      <td>88656</td>\n",
       "      <td>15961.2</td>\n",
       "    </tr>\n",
       "    <tr>\n",
       "      <th>4</th>\n",
       "      <td>05</td>\n",
       "      <td>86138</td>\n",
       "      <td>962.4</td>\n",
       "    </tr>\n",
       "    <tr>\n",
       "      <th>...</th>\n",
       "      <td>...</td>\n",
       "      <td>...</td>\n",
       "      <td>...</td>\n",
       "    </tr>\n",
       "    <tr>\n",
       "      <th>2210</th>\n",
       "      <td>12</td>\n",
       "      <td>19353</td>\n",
       "      <td>5887.7</td>\n",
       "    </tr>\n",
       "    <tr>\n",
       "      <th>2211</th>\n",
       "      <td>12</td>\n",
       "      <td>87420</td>\n",
       "      <td>5675.5</td>\n",
       "    </tr>\n",
       "    <tr>\n",
       "      <th>2212</th>\n",
       "      <td>12</td>\n",
       "      <td>91770</td>\n",
       "      <td>3995.2</td>\n",
       "    </tr>\n",
       "    <tr>\n",
       "      <th>2213</th>\n",
       "      <td>12</td>\n",
       "      <td>22094</td>\n",
       "      <td>11659.6</td>\n",
       "    </tr>\n",
       "    <tr>\n",
       "      <th>2214</th>\n",
       "      <td>12</td>\n",
       "      <td>64533</td>\n",
       "      <td>1826.3</td>\n",
       "    </tr>\n",
       "  </tbody>\n",
       "</table>\n",
       "<p>2215 rows × 3 columns</p>\n",
       "</div>"
      ],
      "text/plain": [
       "     month  customer_id      sum\n",
       "0       05        93834   5578.8\n",
       "1       05        11859   3483.7\n",
       "2       05        39398   4265.6\n",
       "3       05        88656  15961.2\n",
       "4       05        86138    962.4\n",
       "...    ...          ...      ...\n",
       "2210    12        19353   5887.7\n",
       "2211    12        87420   5675.5\n",
       "2212    12        91770   3995.2\n",
       "2213    12        22094  11659.6\n",
       "2214    12        64533   1826.3\n",
       "\n",
       "[2215 rows x 3 columns]"
      ]
     },
     "execution_count": 55,
     "metadata": {},
     "output_type": "execute_result"
    }
   ],
   "source": [
    "query = \"\"\"\n",
    "        SELECT      strftime('%m', datetime) as month, customer_id, sum(price*quantity) as sum\n",
    "        FROM        sales\n",
    "        WHERE       customer_id != 0\n",
    "        GROUP BY    month, order_id\n",
    "\n",
    "        \"\"\"\n",
    "pd.read_sql_query(query, connection)"
   ]
  },
  {
   "cell_type": "code",
   "execution_count": null,
   "metadata": {},
   "outputs": [],
   "source": []
  },
  {
   "cell_type": "code",
   "execution_count": 1,
   "metadata": {},
   "outputs": [],
   "source": [
    "import numpy as np"
   ]
  },
  {
   "cell_type": "code",
   "execution_count": 39,
   "metadata": {},
   "outputs": [
    {
     "data": {
      "text/plain": [
       "array([12], dtype=int32)"
      ]
     },
     "execution_count": 39,
     "metadata": {},
     "output_type": "execute_result"
    }
   ],
   "source": [
    "np.random.randint(1,101, 1)"
   ]
  },
  {
   "cell_type": "code",
   "execution_count": null,
   "metadata": {},
   "outputs": [],
   "source": []
  }
 ],
 "metadata": {
  "kernelspec": {
   "display_name": "Python 3",
   "language": "python",
   "name": "python3"
  },
  "language_info": {
   "codemirror_mode": {
    "name": "ipython",
    "version": 3
   },
   "file_extension": ".py",
   "mimetype": "text/x-python",
   "name": "python",
   "nbconvert_exporter": "python",
   "pygments_lexer": "ipython3",
   "version": "3.13.0"
  }
 },
 "nbformat": 4,
 "nbformat_minor": 2
}
