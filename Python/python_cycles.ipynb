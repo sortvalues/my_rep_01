{
 "cells": [
  {
   "cell_type": "markdown",
   "metadata": {},
   "source": [
    "SHORT IF - ELSE"
   ]
  },
  {
   "cell_type": "code",
   "execution_count": 5,
   "metadata": {},
   "outputs": [
    {
     "name": "stdout",
     "output_type": "stream",
     "text": [
      "<5\n"
     ]
    }
   ],
   "source": [
    "print ('>5') if int(input()) > 5 else print ('<5')"
   ]
  },
  {
   "cell_type": "markdown",
   "metadata": {},
   "source": [
    "IF - ELIF - ELSE"
   ]
  },
  {
   "cell_type": "code",
   "execution_count": 6,
   "metadata": {},
   "outputs": [],
   "source": [
    "def calc(a: int, sign: str, b: int):\n",
    "    result = 0 \n",
    "    if sign == '+':\n",
    "        result = a+b\n",
    "    elif sign == '-':\n",
    "        result = a-b\n",
    "    elif sign == '*': \n",
    "        result = a*b\n",
    "    elif sign == '/':\n",
    "        if b == 0:\n",
    "            result = 'На ноль делить нельзя'\n",
    "        else:\n",
    "            result = a/b\n",
    "    else: \n",
    "        result = \"Неверная операция\"\n",
    "    return result"
   ]
  },
  {
   "cell_type": "markdown",
   "metadata": {},
   "source": [
    "MATCH-CASE"
   ]
  },
  {
   "cell_type": "code",
   "execution_count": 17,
   "metadata": {},
   "outputs": [
    {
     "name": "stdout",
     "output_type": "stream",
     "text": [
      "рыбалка\n"
     ]
    }
   ],
   "source": [
    "x = input()\n",
    "match x:\n",
    "    case 'fishing':\n",
    "        print('рыбалка')\n",
    "    case 'hunting':\n",
    "        print('охота')\n",
    "    case 'beer':\n",
    "        print('охота крепкое')\n",
    "    case 'sex' | 'freedom':\n",
    "        print('счастье')"
   ]
  },
  {
   "cell_type": "markdown",
   "metadata": {},
   "source": [
    "WHILE"
   ]
  },
  {
   "cell_type": "code",
   "execution_count": 19,
   "metadata": {},
   "outputs": [
    {
     "data": {
      "text/plain": [
       "[0, 1, 2, 3, 4, 5, 6, 7, 8, 9, 10]"
      ]
     },
     "execution_count": 19,
     "metadata": {},
     "output_type": "execute_result"
    }
   ],
   "source": [
    "i = 0\n",
    "r = []\n",
    "while i <= 10:\n",
    "    r.append(i)\n",
    "    i += 1\n",
    "r"
   ]
  },
  {
   "cell_type": "markdown",
   "metadata": {},
   "source": [
    "FOR"
   ]
  },
  {
   "cell_type": "code",
   "execution_count": 21,
   "metadata": {},
   "outputs": [
    {
     "data": {
      "text/plain": [
       "11"
      ]
     },
     "execution_count": 21,
     "metadata": {},
     "output_type": "execute_result"
    }
   ],
   "source": [
    "count = 0\n",
    "for _ in r:\n",
    "    count += 1\n",
    "count"
   ]
  },
  {
   "cell_type": "markdown",
   "metadata": {},
   "source": [
    "WHILE - BREAK"
   ]
  },
  {
   "cell_type": "code",
   "execution_count": 29,
   "metadata": {},
   "outputs": [],
   "source": [
    "i = 1\n",
    "while i == 1:\n",
    "    x = input()\n",
    "    if x == '0':\n",
    "        break"
   ]
  },
  {
   "cell_type": "markdown",
   "metadata": {},
   "source": [
    "WHILE - CONTINUE"
   ]
  },
  {
   "cell_type": "code",
   "execution_count": 35,
   "metadata": {},
   "outputs": [
    {
     "data": {
      "text/plain": [
       "[0, 2, 4, 6, 8, 10]"
      ]
     },
     "execution_count": 35,
     "metadata": {},
     "output_type": "execute_result"
    }
   ],
   "source": [
    "count = int(input('Длина массива'))\n",
    "i = -1\n",
    "r = []\n",
    "while i <= count:\n",
    "    i = i+1\n",
    "    if i % 2 != 0:\n",
    "        continue\n",
    "    r.append(i)\n",
    "\n",
    "r"
   ]
  },
  {
   "cell_type": "markdown",
   "metadata": {},
   "source": [
    "WHILE - ELSE"
   ]
  },
  {
   "cell_type": "code",
   "execution_count": 38,
   "metadata": {},
   "outputs": [
    {
     "name": "stdout",
     "output_type": "stream",
     "text": [
      "0\n",
      "0\n",
      "2\n",
      "Наконец-то ты остановил это безумие!\n"
     ]
    }
   ],
   "source": [
    "x = 0\n",
    "while x == 0:\n",
    "    x = int(input('?'))\n",
    "    print(x)\n",
    "else:\n",
    "    print('Наконец-то ты остановил это безумие!')"
   ]
  }
 ],
 "metadata": {
  "kernelspec": {
   "display_name": "Python 3",
   "language": "python",
   "name": "python3"
  },
  "language_info": {
   "codemirror_mode": {
    "name": "ipython",
    "version": 3
   },
   "file_extension": ".py",
   "mimetype": "text/x-python",
   "name": "python",
   "nbconvert_exporter": "python",
   "pygments_lexer": "ipython3",
   "version": "3.13.0"
  }
 },
 "nbformat": 4,
 "nbformat_minor": 2
}
