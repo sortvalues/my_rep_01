{
 "cells": [
  {
   "cell_type": "code",
   "execution_count": 45,
   "metadata": {},
   "outputs": [],
   "source": [
    "import pandas as pd\n",
    "\n",
    "df_ptk = pd.read_csv('/mnt/HC_Volume_18315164/home-jupyter/jupyter-v-gavristov/allweld/items.csv', sep=';')"
   ]
  },
  {
   "cell_type": "code",
   "execution_count": 46,
   "metadata": {},
   "outputs": [
    {
     "data": {
      "text/html": [
       "<div>\n",
       "<style scoped>\n",
       "    .dataframe tbody tr th:only-of-type {\n",
       "        vertical-align: middle;\n",
       "    }\n",
       "\n",
       "    .dataframe tbody tr th {\n",
       "        vertical-align: top;\n",
       "    }\n",
       "\n",
       "    .dataframe thead th {\n",
       "        text-align: right;\n",
       "    }\n",
       "</style>\n",
       "<table border=\"1\" class=\"dataframe\">\n",
       "  <thead>\n",
       "    <tr style=\"text-align: right;\">\n",
       "      <th></th>\n",
       "      <th>ID</th>\n",
       "      <th>Наименование продукции</th>\n",
       "      <th>art</th>\n",
       "      <th>РРЦ</th>\n",
       "      <th>Наличие в МСК СВОБОДНЫЙ</th>\n",
       "      <th>Наличие в МСК В РЕЗЕРВЕ</th>\n",
       "      <th>Наличие в СПБ СВОБОДНЫЙ</th>\n",
       "      <th>Наличие в СПБ В РЕЗЕРВЕ</th>\n",
       "      <th>КИУ</th>\n",
       "      <th>КТУ</th>\n",
       "      <th>Краткое описание</th>\n",
       "      <th>Полное описание</th>\n",
       "      <th>Техническая информация</th>\n",
       "      <th>Категория</th>\n",
       "      <th>Производитель</th>\n",
       "      <th>Ссылка на товар</th>\n",
       "      <th>Руководство по эксплуатации</th>\n",
       "      <th>Фотографии</th>\n",
       "    </tr>\n",
       "  </thead>\n",
       "  <tbody>\n",
       "    <tr>\n",
       "      <th>0</th>\n",
       "      <td>4</td>\n",
       "      <td>Манометр с поверкой 4,0 МПа, ацетилен</td>\n",
       "      <td>001.050.907</td>\n",
       "      <td>499</td>\n",
       "      <td>0</td>\n",
       "      <td>7</td>\n",
       "      <td>13</td>\n",
       "      <td>1.0</td>\n",
       "      <td>NaN</td>\n",
       "      <td>Сварочный манометр для ацетилена с диапазоном ...</td>\n",
       "      <td>Сварочный манометр типа ТМ, серия 10. Применяе...</td>\n",
       "      <td>Тип сварочного манометра: ТМ-210\\nИзмеряемая с...</td>\n",
       "      <td>0</td>\n",
       "      <td>Товары для газосварочных работ / Манометры</td>\n",
       "      <td>ПТК</td>\n",
       "      <td>https://ptk-svarka.ru/product/manometr-40-mpa-...</td>\n",
       "      <td>NaN</td>\n",
       "      <td>https://ptk-svarka.ru/storage/app/uploads/publ...</td>\n",
       "    </tr>\n",
       "  </tbody>\n",
       "</table>\n",
       "</div>"
      ],
      "text/plain": [
       "   ID                 Наименование продукции          art  РРЦ  \\\n",
       "0   4  Манометр с поверкой 4,0 МПа, ацетилен  001.050.907  499   \n",
       "\n",
       "   Наличие в МСК СВОБОДНЫЙ  Наличие в МСК В РЕЗЕРВЕ  Наличие в СПБ СВОБОДНЫЙ  \\\n",
       "0                        0                        7                       13   \n",
       "\n",
       "   Наличие в СПБ В РЕЗЕРВЕ  КИУ  \\\n",
       "0                      1.0  NaN   \n",
       "\n",
       "                                                 КТУ  \\\n",
       "0  Сварочный манометр для ацетилена с диапазоном ...   \n",
       "\n",
       "                                    Краткое описание  \\\n",
       "0  Сварочный манометр типа ТМ, серия 10. Применяе...   \n",
       "\n",
       "                                     Полное описание  Техническая информация  \\\n",
       "0  Тип сварочного манометра: ТМ-210\\nИзмеряемая с...                       0   \n",
       "\n",
       "                                    Категория Производитель  \\\n",
       "0  Товары для газосварочных работ / Манометры           ПТК   \n",
       "\n",
       "                                     Ссылка на товар  \\\n",
       "0  https://ptk-svarka.ru/product/manometr-40-mpa-...   \n",
       "\n",
       "  Руководство по эксплуатации  \\\n",
       "0                         NaN   \n",
       "\n",
       "                                          Фотографии  \n",
       "0  https://ptk-svarka.ru/storage/app/uploads/publ...  "
      ]
     },
     "execution_count": 46,
     "metadata": {},
     "output_type": "execute_result"
    }
   ],
   "source": [
    "df_ptk= df_ptk.rename(columns = {'Артикул' : 'art'})\n",
    "df_ptk.head(1)"
   ]
  },
  {
   "cell_type": "code",
   "execution_count": 47,
   "metadata": {},
   "outputs": [
    {
     "data": {
      "text/html": [
       "<div>\n",
       "<style scoped>\n",
       "    .dataframe tbody tr th:only-of-type {\n",
       "        vertical-align: middle;\n",
       "    }\n",
       "\n",
       "    .dataframe tbody tr th {\n",
       "        vertical-align: top;\n",
       "    }\n",
       "\n",
       "    .dataframe thead th {\n",
       "        text-align: right;\n",
       "    }\n",
       "</style>\n",
       "<table border=\"1\" class=\"dataframe\">\n",
       "  <thead>\n",
       "    <tr style=\"text-align: right;\">\n",
       "      <th></th>\n",
       "      <th>art</th>\n",
       "      <th>Unnamed: 1</th>\n",
       "      <th>Unnamed: 2</th>\n",
       "      <th>Unnamed: 3</th>\n",
       "      <th>Unnamed: 4</th>\n",
       "      <th>Unnamed: 5</th>\n",
       "      <th>Unnamed: 6</th>\n",
       "      <th>Unnamed: 7</th>\n",
       "      <th>Unnamed: 8</th>\n",
       "      <th>test</th>\n",
       "      <th>Unnamed: 10</th>\n",
       "      <th>Unnamed: 11</th>\n",
       "      <th>Unnamed: 12</th>\n",
       "      <th>Unnamed: 13</th>\n",
       "      <th>Unnamed: 14</th>\n",
       "      <th>Unnamed: 15</th>\n",
       "      <th>Unnamed: 16</th>\n",
       "      <th>Unnamed: 17</th>\n",
       "      <th>Unnamed: 18</th>\n",
       "    </tr>\n",
       "  </thead>\n",
       "  <tbody>\n",
       "    <tr>\n",
       "      <th>0</th>\n",
       "      <td>0</td>\n",
       "      <td>0.0</td>\n",
       "      <td>0.0</td>\n",
       "      <td>0.0</td>\n",
       "      <td>0</td>\n",
       "      <td>0.0</td>\n",
       "      <td>0.0</td>\n",
       "      <td>0.0</td>\n",
       "      <td>0.0</td>\n",
       "      <td>0.0</td>\n",
       "      <td>0.0</td>\n",
       "      <td>0.0</td>\n",
       "      <td>0.0</td>\n",
       "      <td>0</td>\n",
       "      <td>0</td>\n",
       "      <td>0</td>\n",
       "      <td>0</td>\n",
       "      <td>0</td>\n",
       "      <td>0</td>\n",
       "    </tr>\n",
       "  </tbody>\n",
       "</table>\n",
       "</div>"
      ],
      "text/plain": [
       "  art  Unnamed: 1  Unnamed: 2  Unnamed: 3 Unnamed: 4  Unnamed: 5  Unnamed: 6  \\\n",
       "0   0         0.0         0.0         0.0          0         0.0         0.0   \n",
       "\n",
       "   Unnamed: 7  Unnamed: 8  test  Unnamed: 10  Unnamed: 11  Unnamed: 12  \\\n",
       "0         0.0         0.0   0.0          0.0          0.0          0.0   \n",
       "\n",
       "  Unnamed: 13 Unnamed: 14 Unnamed: 15 Unnamed: 16 Unnamed: 17 Unnamed: 18  \n",
       "0           0           0           0           0           0           0  "
      ]
     },
     "execution_count": 47,
     "metadata": {},
     "output_type": "execute_result"
    }
   ],
   "source": [
    "df_1c = pd.read_excel('/mnt/HC_Volume_18315164/home-jupyter/jupyter-v-gavristov/allweld/1с.xls')\n",
    "df_1c = df_1c.fillna(0)\n",
    "df_1c= df_1c.rename(columns = {'Прайс-лист на 29 сентября 2024 г.' : 'art', 'Unnamed: 9' : 'test'})\n",
    "df_1c.head(1)\n"
   ]
  },
  {
   "cell_type": "markdown",
   "metadata": {},
   "source": [
    "df_1c= df_1c.rename(columns={'Прайс-лист на 29 сентября 2024 г.' : 'art})"
   ]
  },
  {
   "cell_type": "code",
   "execution_count": 51,
   "metadata": {},
   "outputs": [],
   "source": [
    "df = df_ptk.merge(df_1c, on='art', how='left')\n",
    "df = df.loc[df.test.isnull()]"
   ]
  },
  {
   "cell_type": "code",
   "execution_count": 53,
   "metadata": {},
   "outputs": [],
   "source": [
    "df.to_excel(\"ptk_new.xlsx\")"
   ]
  },
  {
   "cell_type": "code",
   "execution_count": null,
   "metadata": {},
   "outputs": [],
   "source": []
  },
  {
   "cell_type": "code",
   "execution_count": null,
   "metadata": {},
   "outputs": [],
   "source": []
  }
 ],
 "metadata": {
  "kernelspec": {
   "display_name": "Python 3",
   "language": "python",
   "name": "python3"
  },
  "language_info": {
   "codemirror_mode": {
    "name": "ipython",
    "version": 3
   },
   "file_extension": ".py",
   "mimetype": "text/x-python",
   "name": "python",
   "nbconvert_exporter": "python",
   "pygments_lexer": "ipython3",
   "version": "3.7.3"
  }
 },
 "nbformat": 4,
 "nbformat_minor": 4
}
