{
 "cells": [
  {
   "cell_type": "markdown",
   "metadata": {},
   "source": [
    "Шаблон статистического исследования"
   ]
  },
  {
   "cell_type": "code",
   "execution_count": 5,
   "metadata": {},
   "outputs": [],
   "source": [
    "import pandas as pd\n",
    "import numpy as np\n",
    "import seaborn as sns\n",
    "import matplotlib.pyplot as plt\n",
    "import pingouin as pg\n",
    "from datetime import timedelta\n",
    "from datetime import datetime\n",
    "sns.set(rc={'figure.figsize' : (12, 5)}, font='verdana')\n",
    "plt.style.use('dark_background')"
   ]
  },
  {
   "cell_type": "code",
   "execution_count": 6,
   "metadata": {},
   "outputs": [],
   "source": [
    "url='https://drive.google.com/file/d/1ZnhQzDliRiOlrADRJV_ZTlxOqqsMo4sc/view?usp=sharing'\n",
    "url='https://drive.google.com/uc?id=' + url.split('/')[-2]\n",
    "df = pd.read_csv(url,sep = ';')\n",
    "df_a = df[df.testgroup == 'a']\n",
    "df_b = df[df.testgroup == 'b']"
   ]
  },
  {
   "cell_type": "markdown",
   "metadata": {},
   "source": [
    "Проверяем параметры выборок"
   ]
  },
  {
   "cell_type": "code",
   "execution_count": 7,
   "metadata": {},
   "outputs": [
    {
     "name": "stdout",
     "output_type": "stream",
     "text": [
      "Группа А: \n",
      "Клиентов всего:       202103\n",
      "Заплативших клиентов: 1928    \n",
      "СR в оплату:          0.0095 \n",
      "Средний чек:          2664.0 \n",
      "Самый большой заказ:  37433\n",
      "    \n"
     ]
    }
   ],
   "source": [
    "print(f'Группа А: \\n\\\n",
    "Клиентов всего:       {len(df_a)}\\n\\\n",
    "Заплативших клиентов: {len(df_a[df_a.revenue > 0])}    \\n\\\n",
    "СR в оплату:          {round(len(df_a[df_a.revenue > 0]) / len(df_a), 4)} \\n\\\n",
    "Средний чек:          {round(df_a[df_a.revenue > 0].revenue.sum() / len(df_a[df_a.revenue > 0]),1)} \\n\\\n",
    "Самый большой заказ:  {df_a.revenue.max()}\\n\\\n",
    "    ')"
   ]
  },
  {
   "cell_type": "code",
   "execution_count": 8,
   "metadata": {},
   "outputs": [
    {
     "name": "stdout",
     "output_type": "stream",
     "text": [
      "Группа B: \n",
      "Клиентов всего:       202667\n",
      "Заплативших клиентов: 1805    \n",
      "СR в оплату:          0.0089 \n",
      "Средний чек:          3003.7 \n",
      "Самый большой заказ:  4000\n",
      "    \n"
     ]
    }
   ],
   "source": [
    "print(f'Группа B: \\n\\\n",
    "Клиентов всего:       {len(df_b)}\\n\\\n",
    "Заплативших клиентов: {len(df_b[df_b.revenue > 0])}    \\n\\\n",
    "СR в оплату:          {round(len(df_b[df_b.revenue > 0]) / len(df_b), 4)} \\n\\\n",
    "Средний чек:          {round(df_b[df_b.revenue > 0].revenue.sum() / len(df_b[df_b.revenue > 0]),1)} \\n\\\n",
    "Самый большой заказ:  {df_b.revenue.max()}\\n\\\n",
    "    ')"
   ]
  },
  {
   "cell_type": "markdown",
   "metadata": {},
   "source": [
    "Посмотрим на распределения"
   ]
  },
  {
   "cell_type": "code",
   "execution_count": 19,
   "metadata": {},
   "outputs": [
    {
     "data": {
      "text/plain": [
       "<Figure size 1300x600 with 0 Axes>"
      ]
     },
     "metadata": {},
     "output_type": "display_data"
    },
    {
     "data": {
      "image/png": "[encoded data removed]",
      "text/plain": [
       "<Figure size 1200x500 with 2 Axes>"
      ]
     },
     "metadata": {},
     "output_type": "display_data"
    }
   ],
   "source": [
    "plt.figure(figsize=(13,6))\n",
    "fig, ax = plt.subplots(2, 1, sharex=True)\n",
    "plt.subplots_adjust(wspace= 0.2, \n",
    "                    hspace= 0.4)\n",
    "\n",
    "plt.subplot(2, 1, 1)\n",
    "sns.histplot(df_a[df_a.revenue > 0].revenue, linewidth=0.5,color='#171e2f',bins = 100)\n",
    "plt.tick_params(axis='both', colors='#8b8a84')\n",
    "plt.title('A', fontsize=12, y=1.02,color='#8b8a84')\n",
    "plt.ylabel(\"\", labelpad = 5, fontsize= 11, color='#8b8a84')\n",
    "plt.xlabel(\"\", labelpad = 5, fontsize= 11, color='#8b8a84')\n",
    "\n",
    "\n",
    "for pos in ['right', 'top', 'bottom', 'left']: \n",
    "    plt.gca().spines[pos].set_visible(False)\n",
    "plt.grid(color='darkgray', linestyle='-', linewidth=0.1) \n",
    "\n",
    "plt.subplot(2, 1, 2)\n",
    "sns.histplot(df_b[df_b.revenue > 0].revenue, linewidth=0.5,color='#171e2f',bins = 100)\n",
    "plt.tick_params(axis='both', colors='#8b8a84')\n",
    "plt.title('B', fontsize=12, y=1.02,color='#8b8a84')\n",
    "plt.ylabel(\"\", labelpad = 5, fontsize= 11, color='#8b8a84')\n",
    "plt.xlabel(\"\", labelpad = 5, fontsize= 11, color='#8b8a84')\n",
    "\n",
    "for pos in ['right', 'top', 'bottom', 'left']: \n",
    "    plt.gca().spines[pos].set_visible(False)\n",
    "plt.grid(color='darkgray', linestyle='-', linewidth=0.1) \n",
    "\n",
    "plt.show()"
   ]
  },
  {
   "cell_type": "markdown",
   "metadata": {},
   "source": [
    "Определяем нормальность распределений и размер дисперсий:\n",
    "\n",
    "- Дисперсии обоих распределений должны быть примерно одинаковы (критерий Левена и критерий Фишера)\n",
    "\n",
    "- Оба распределения должны быть нормальными ()\n"
   ]
  },
  {
   "cell_type": "code",
   "execution_count": 18,
   "metadata": {},
   "outputs": [
    {
     "ename": "MemoryError",
     "evalue": "Unable to allocate 305. GiB for an array with shape (202103, 202667) and data type int64",
     "output_type": "error",
     "traceback": [
      "\u001b[1;31m---------------------------------------------------------------------------\u001b[0m",
      "\u001b[1;31mMemoryError\u001b[0m                               Traceback (most recent call last)",
      "Cell \u001b[1;32mIn[18], line 1\u001b[0m\n\u001b[1;32m----> 1\u001b[0m \u001b[43mpg\u001b[49m\u001b[38;5;241;43m.\u001b[39;49m\u001b[43mmwu\u001b[49m\u001b[43m(\u001b[49m\u001b[43mdf_a\u001b[49m\u001b[38;5;241;43m.\u001b[39;49m\u001b[43mrevenue\u001b[49m\u001b[43m,\u001b[49m\u001b[43m \u001b[49m\u001b[43mdf_b\u001b[49m\u001b[38;5;241;43m.\u001b[39;49m\u001b[43mrevenue\u001b[49m\u001b[43m,\u001b[49m\u001b[43m \u001b[49m\u001b[43malternative\u001b[49m\u001b[38;5;241;43m=\u001b[39;49m\u001b[38;5;124;43m'\u001b[39;49m\u001b[38;5;124;43mtwo-sided\u001b[39;49m\u001b[38;5;124;43m'\u001b[39;49m\u001b[43m)\u001b[49m\n",
      "File \u001b[1;32mc:\\Users\\mail\\AppData\\Local\\Programs\\Python\\Python313\\Lib\\site-packages\\pingouin\\nonparametric.py:294\u001b[0m, in \u001b[0;36mmwu\u001b[1;34m(x, y, alternative, **kwargs)\u001b[0m\n\u001b[0;32m    289\u001b[0m uval_x, pval \u001b[38;5;241m=\u001b[39m scipy\u001b[38;5;241m.\u001b[39mstats\u001b[38;5;241m.\u001b[39mmannwhitneyu(x, y, alternative\u001b[38;5;241m=\u001b[39malternative, \u001b[38;5;241m*\u001b[39m\u001b[38;5;241m*\u001b[39mkwargs)\n\u001b[0;32m    291\u001b[0m \u001b[38;5;66;03m# Effect size 1: Common Language Effect Size\u001b[39;00m\n\u001b[0;32m    292\u001b[0m \u001b[38;5;66;03m# CLES is tail-specific and calculated according to the formula given in\u001b[39;00m\n\u001b[0;32m    293\u001b[0m \u001b[38;5;66;03m# Vargha and Delaney 2000 which works with ordinal data.\u001b[39;00m\n\u001b[1;32m--> 294\u001b[0m diff \u001b[38;5;241m=\u001b[39m \u001b[43mx\u001b[49m\u001b[43m[\u001b[49m\u001b[43m:\u001b[49m\u001b[43m,\u001b[49m\u001b[43m \u001b[49m\u001b[38;5;28;43;01mNone\u001b[39;49;00m\u001b[43m]\u001b[49m\u001b[43m \u001b[49m\u001b[38;5;241;43m-\u001b[39;49m\u001b[43m \u001b[49m\u001b[43my\u001b[49m\n\u001b[0;32m    295\u001b[0m \u001b[38;5;66;03m# cles = max((diff < 0).sum(), (diff > 0).sum()) / diff.size\u001b[39;00m\n\u001b[0;32m    296\u001b[0m \u001b[38;5;66;03m# Tail = 'greater', with ties set to 0.5\u001b[39;00m\n\u001b[0;32m    297\u001b[0m \u001b[38;5;66;03m# Note that tail = 'two-sided' gives same output as tail = 'greater'\u001b[39;00m\n\u001b[0;32m    298\u001b[0m cles \u001b[38;5;241m=\u001b[39m np\u001b[38;5;241m.\u001b[39mwhere(diff \u001b[38;5;241m==\u001b[39m \u001b[38;5;241m0\u001b[39m, \u001b[38;5;241m0.5\u001b[39m, diff \u001b[38;5;241m>\u001b[39m \u001b[38;5;241m0\u001b[39m)\u001b[38;5;241m.\u001b[39mmean()\n",
      "\u001b[1;31mMemoryError\u001b[0m: Unable to allocate 305. GiB for an array with shape (202103, 202667) and data type int64"
     ]
    }
   ],
   "source": [
    "pg.mwu(df_a.revenue, df_b.revenue, alternative='two-sided')"
   ]
  },
  {
   "cell_type": "code",
   "execution_count": 18,
   "metadata": {},
   "outputs": [
    {
     "data": {
      "text/plain": [
       "revenue    False\n",
       "Name: normal, dtype: bool"
      ]
     },
     "execution_count": 18,
     "metadata": {},
     "output_type": "execute_result"
    }
   ],
   "source": [
    "t"
   ]
  }
 ],
 "metadata": {
  "kernelspec": {
   "display_name": "Python 3",
   "language": "python",
   "name": "python3"
  },
  "language_info": {
   "codemirror_mode": {
    "name": "ipython",
    "version": 3
   },
   "file_extension": ".py",
   "mimetype": "text/x-python",
   "name": "python",
   "nbconvert_exporter": "python",
   "pygments_lexer": "ipython3",
   "version": "3.13.0"
  }
 },
 "nbformat": 4,
 "nbformat_minor": 2
}
