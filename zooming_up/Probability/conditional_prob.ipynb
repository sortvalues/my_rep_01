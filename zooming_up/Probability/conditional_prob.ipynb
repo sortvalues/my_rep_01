{
 "cells": [
  {
   "cell_type": "markdown",
   "metadata": {},
   "source": [
    "### Условная вероятность \n",
    "\n",
    "P_A_given_B = (P_B_given_A * P_A) / P_B\n",
    "\n",
    "[1. Из 500 компьютеров  180 принадлежат к 1 партии, 170 – ко второй партии, остальные к третьей. В первой партии 3% брака, во второй — 2%, в третьей – 6%. Случайно выбирается один компьютер. Определить вероятность того, что выбранный компьютер – бракованный.](#1)\n",
    "\n",
    "[2. В компании программистов на языке Java пишут в 3 раза больше человек, чем на языке C++. Программистов на языке C++ в 4 раза больше, чем на Python. Вероятность сделать работу за один день для Java-программиста — 0,85, для программиста на языке C++ 0,9, а для Python программиста 0,8. Найти вероятность того, что программист, выбранный наугад, сделает работу за один день.](#2)\n",
    "\n",
    "[3. Из 40 снайперов 18 попадает в цель с вероятностью 0,9, 8 — с вероятностью 0,4 и 14 – с вероятностью 0,7. Случайно выбранный снайпер произвел выстрел, поразив цель. Мы хотим вычислить, снайпер из какой группы наиболее вероятно совершил этот выстрел](#3)\n",
    "\n",
    "[4. Есть 4 кубика. На трех из них окрашена белым половина граней, а на четвертом кубике всего одна грань из шести белая. Наудачу выбранный кубик подбрасывается семь раз. Найти вероятность того, что был выбран четвертый кубик, если при семи подбрасываниях белая грань выпала ровно один раз.](#4)"
   ]
  },
  {
   "cell_type": "code",
   "execution_count": 1,
   "metadata": {},
   "outputs": [],
   "source": [
    "import pandas as pd\n",
    "import numpy as np\n",
    "import seaborn as sns\n",
    "import matplotlib.pyplot as plt\n",
    "\n",
    "from scipy import special\n",
    "plt.style.use('dark_background')"
   ]
  },
  {
   "cell_type": "code",
   "execution_count": 13,
   "metadata": {},
   "outputs": [
    {
     "name": "stdout",
     "output_type": "stream",
     "text": [
      "выше нуля: 3, ниже нуля: 2, равна нулю: 2\n"
     ]
    }
   ],
   "source": [
    "str = [5, -2, 0, 0, 7, 8, -1]\n",
    "def process(input_string: str) -> str:\n",
    "    cnt1 = 0\n",
    "    cnt2 = 0\n",
    "    cnt3 = 0\n",
    "    for i in str:\n",
    "        if i > 0:\n",
    "            cnt1 = cnt1 + 1\n",
    "        elif i == 0:\n",
    "            cnt2 = cnt2 + 1\n",
    "        elif i < 0:\n",
    "            cnt3 = cnt3 + 1\n",
    "    strng = f'выше нуля: {cnt1}, ниже нуля: {cnt3}, равна нулю: {cnt2}'\n",
    "\n",
    "    return strng\n",
    "    \n",
    "\n",
    "input_string = str\n",
    "output_string = process(input_string)\n",
    "print(output_string)"
   ]
  },
  {
   "cell_type": "code",
   "execution_count": 8,
   "metadata": {},
   "outputs": [
    {
     "data": {
      "text/plain": [
       "6    15\n",
       "4     4\n",
       "2     3\n",
       "5     2\n",
       "1     2\n",
       "0     1\n",
       "3     1\n",
       "Name: test, dtype: int64"
      ]
     },
     "execution_count": 8,
     "metadata": {},
     "output_type": "execute_result"
    }
   ],
   "source": [
    "df = pd.DataFrame({'test' : [1, 2, 3,1,4,2,15], 'test2': [5,6,6,1,1,1,1]})\n",
    "df.test.sort_values(ascending = False)"
   ]
  },
  {
   "cell_type": "markdown",
   "metadata": {},
   "source": [
    "<a id=\"1\"></a>\n",
    "Задача: Из 500 компьютеров  180 принадлежат к 1 партии, 170 – ко второй партии, остальные к третьей. \n",
    "\n",
    "В первой партии 3% брака, во второй — 2%, в третьей – 6%. \n",
    "\n",
    "Случайно выбирается один компьютер. Определить вероятность того, что выбранный компьютер – бракованный."
   ]
  },
  {
   "cell_type": "code",
   "execution_count": 3,
   "metadata": {},
   "outputs": [
    {
     "data": {
      "text/plain": [
       "0.03559999999999999"
      ]
     },
     "execution_count": 3,
     "metadata": {},
     "output_type": "execute_result"
    }
   ],
   "source": [
    "# 180 + 170 + 150 : 0.03 - 0.002 - 0.06\n",
    "\n",
    "# Р что бракованный - Р что бракованный И (*) из первой партии или + Р что бракованный И (*) из второй партии или + Р что бракованный И (*) из третьей партии\n",
    "\n",
    "# А - вероятности что компьютер из конкретной партии\n",
    "A1 = 180 / 500\n",
    "A2 = 170 / 500\n",
    "A3 = 150 / 500\n",
    "\n",
    "# B - вероятности что компьютер брак при условии что из партии\n",
    "BA1 = 0.03\n",
    "BA2 = 0.02\n",
    "BA3 = 0.06\n",
    "\n",
    "A1*BA1 + A2*BA2 + A3*BA3\n"
   ]
  },
  {
   "cell_type": "code",
   "execution_count": 20,
   "metadata": {},
   "outputs": [
    {
     "data": {
      "text/plain": [
       "np.float64(0.035626000000000005)"
      ]
     },
     "execution_count": 20,
     "metadata": {},
     "output_type": "execute_result"
    }
   ],
   "source": [
    "x = []\n",
    "for _ in range(1000):\n",
    "    a = np.random.binomial(1,0.03,180).sum()\n",
    "    b = np.random.binomial(1,0.02,170).sum()\n",
    "    c = np.random.binomial(1,0.06,150).sum()\n",
    "    x.append((a + b + c)/500)\n",
    "pd.Series(x).mean()\n",
    "\n"
   ]
  },
  {
   "cell_type": "markdown",
   "metadata": {},
   "source": [
    "<a id=\"2\"></a>\n",
    "Задача: В компании программистов \n",
    "на языке Java (1) пишут в 3 раза больше человек, чем на языке C++. \n",
    "\n",
    "на языке C++  (2) в 4 раза больше, чем на Python (3). \n",
    "\n",
    "Вероятность сделать работу за один день для Java-программиста — 0,85, для программиста на языке C++ 0,9, а для Python программиста 0,8. \n",
    "\n",
    "Найти вероятность того, что программист, выбранный наугад, сделает работу за один день."
   ]
  },
  {
   "cell_type": "code",
   "execution_count": null,
   "metadata": {},
   "outputs": [
    {
     "data": {
      "text/plain": [
       "0.8588235294117648"
      ]
     },
     "execution_count": 21,
     "metadata": {},
     "output_type": "execute_result"
    }
   ],
   "source": [
    "# программист на питоне и сделает или программист на си и сделает или программист на яве и сделает\n",
    "# всего программистов: на питоне х на си 4х на яве 12х. всего 17х\n",
    "\n",
    "# А - вероятности что програмиста на языке\n",
    "A1 =  12 / 17\n",
    "A2 =  4  / 17\n",
    "A3 =  1  / 17\n",
    "\n",
    "# B - вероятности что компьютер брак при условии что из партии\n",
    "BA1 = 0.85\n",
    "BA2 = 0.9\n",
    "BA3 = 0.8\n",
    "\n",
    "A1*BA1 + A2*BA2 + A3*BA3"
   ]
  },
  {
   "cell_type": "code",
   "execution_count": 15,
   "metadata": {},
   "outputs": [
    {
     "data": {
      "text/plain": [
       "np.float64(0.8642352941176472)"
      ]
     },
     "execution_count": 15,
     "metadata": {},
     "output_type": "execute_result"
    }
   ],
   "source": [
    "x = []\n",
    "for _ in range(1000):\n",
    "    a = np.random.binomial(1,0.85,12).sum()\n",
    "    b = np.random.binomial(1,0.9,4).sum()\n",
    "    c = np.random.binomial(1,0.86,1).sum()\n",
    "    x.append((a + b + c)/17)\n",
    "pd.Series(x).mean()"
   ]
  },
  {
   "cell_type": "markdown",
   "metadata": {},
   "source": [
    "<a id=\"3\"></a>\n",
    "Из 40 снайперов 18 попадает в цель с вероятностью 0,9, 8 — с вероятностью 0,4 и 14 – с вероятностью 0,7. \n",
    "\n",
    "Случайно выбранный снайпер произвел выстрел, поразив цель. Мы хотим вычислить, снайпер из какой группы наиболее вероятно совершил этот выстрел. "
   ]
  },
  {
   "cell_type": "code",
   "execution_count": null,
   "metadata": {},
   "outputs": [
    {
     "data": {
      "text/plain": [
       "0.5547945205479452"
      ]
     },
     "execution_count": 9,
     "metadata": {},
     "output_type": "execute_result"
    }
   ],
   "source": [
    "# Р что из группы при условии - поразил: P поразил из группы * Р из группы / Р поразил \n",
    "# P_A_given_B = (P_B_given_A * P_A) / P_B\n",
    "# P_A_given_B = (P_B_given_A * P_A) / P_B\n",
    "# посчитаем для первой группы\n",
    "P_B_given_A = 0.9\n",
    "P_B = (0.9*18/40) + (0.4*8/40) + (0.7*14/40)\n",
    "P_A = 18/40\n",
    "P_A_given_B = (P_B_given_A * P_A) / P_B\n",
    "P_A_given_B"
   ]
  },
  {
   "cell_type": "code",
   "execution_count": 70,
   "metadata": {},
   "outputs": [
    {
     "data": {
      "text/plain": [
       "1    0.559009\n",
       "3    0.331051\n",
       "2    0.109940\n",
       "Name: proportion, dtype: float64"
      ]
     },
     "execution_count": 70,
     "metadata": {},
     "output_type": "execute_result"
    }
   ],
   "source": [
    "snipers = [1] * 18 + [2] * 8 + [3] * 14\n",
    "test = []\n",
    "for _ in range(10000):\n",
    "    shoot = pd.Series(snipers).sample().iloc[0]\n",
    "    res = 0\n",
    "    if shoot == 1:\n",
    "        res = np.random.binomial(1,0.9)\n",
    "        if res == 1:\n",
    "            test.append(1)\n",
    "    elif shoot == 2:\n",
    "        res = np.random.binomial(1,0.4)\n",
    "        if res == 1:\n",
    "            test.append(2)\n",
    "    elif shoot == 3:\n",
    "        res = np.random.binomial(1,0.7)\n",
    "        if res == 1:\n",
    "            test.append(3)\n",
    "pd.Series(test).value_counts(normalize=True)\n"
   ]
  },
  {
   "cell_type": "markdown",
   "metadata": {},
   "source": [
    "<a id=\"4\"></a> Есть 4 кубика. На трех из них окрашена белым половина граней, а на четвертом кубике всего одна грань из шести белая. \n",
    "\n",
    "Наудачу выбранный кубик подбрасывается семь раз. \n",
    "\n",
    "Найти вероятность того, что был выбран четвертый кубик, если при семи подбрасываниях белая грань выпала ровно один раз"
   ]
  },
  {
   "cell_type": "code",
   "execution_count": 14,
   "metadata": {},
   "outputs": [
    {
     "data": {
      "text/plain": [
       "0.7042729649328406"
      ]
     },
     "execution_count": 14,
     "metadata": {},
     "output_type": "execute_result"
    }
   ],
   "source": [
    "# Событие: выбран четвертый кубик\n",
    "# Условие: семь подрабрасываний и белая грань 1 раз\n",
    "# Р_B_given_A - событие белая грань 1 раз из семи, условие четвертый кубик\n",
    "# P_A_given_B = (P_B_given_A * P_A) / P_B\n",
    "\n",
    "P_B_given_A = 7*1/6*(1-1/6)**6\n",
    "P_A = 1/4\n",
    "# ОШИБКА!!!!\n",
    "P_B_wrong = (7*1/6*(1-1/6)**6) + (7*1/2*(1-1/2)**6) + (7*1/2*(1-1/2)**6) + (7*1/2*(1-1/2)**6)\n",
    "# ВОТ ПРАВИЛЬНЫЙ РАСЧЕТ ПОЛНОЙ ВЕРОЯТНОСТИ\n",
    "P_B = 1/4 * 7*1/6*(1-1/6)**6 + 3/4*7*1/2*(1-1/2)**6\n",
    "(P_B_given_A * P_A) / P_B"
   ]
  },
  {
   "cell_type": "code",
   "execution_count": null,
   "metadata": {},
   "outputs": [
    {
     "data": {
      "text/plain": [
       "4    0.183\n",
       "6    0.179\n",
       "3    0.168\n",
       "1    0.165\n",
       "5    0.158\n",
       "2    0.147\n",
       "Name: proportion, dtype: float64"
      ]
     },
     "execution_count": 129,
     "metadata": {},
     "output_type": "execute_result"
    }
   ],
   "source": [
    "# просто бросаем кубик\n",
    "dice = pd.Series([1,2,3,4,5,6])\n",
    "a = [dice.sample(1).values[0] for _ in range(1000)]\n",
    "pd.Series(a).value_counts(normalize=True)"
   ]
  },
  {
   "cell_type": "code",
   "execution_count": 152,
   "metadata": {},
   "outputs": [
    {
     "data": {
      "text/plain": [
       "np.int64(5)"
      ]
     },
     "execution_count": 152,
     "metadata": {},
     "output_type": "execute_result"
    }
   ],
   "source": [
    "dice = pd.Series([1,2,3,4,5,6])\n",
    "dice.sample(1).values[0]\n",
    "dice.sample(1).iloc[0]"
   ]
  },
  {
   "cell_type": "code",
   "execution_count": 236,
   "metadata": {},
   "outputs": [
    {
     "data": {
      "text/plain": [
       "np.float64(0.531)"
      ]
     },
     "execution_count": 236,
     "metadata": {},
     "output_type": "execute_result"
    }
   ],
   "source": [
    "# какие шансы что у 21 человека в комнате совпадут ДР  \n",
    "bd = pd.Series(range(365))\n",
    "a = [bd.sample(23, replace = True).duplicated().max() for _ in range(1000)] \n",
    "pd.Series(a).mean()"
   ]
  },
  {
   "cell_type": "code",
   "execution_count": 232,
   "metadata": {},
   "outputs": [
    {
     "data": {
      "text/plain": [
       "np.float64(0.66661)"
      ]
     },
     "execution_count": 232,
     "metadata": {},
     "output_type": "execute_result"
    }
   ],
   "source": [
    "# Студент знает 20 билетов из 30 и тащит первый билет, какие шансы вытащить тот что знает\n",
    "tickets = list(range(1,31))\n",
    "student = list(range(1,21))\n",
    "\n",
    "res = []\n",
    "\n",
    "for _ in range(1000000):\n",
    "    np.random.shuffle(tickets)\n",
    "    res.append(tickets[0] in student)\n",
    "\n",
    "np.mean(res)"
   ]
  },
  {
   "cell_type": "code",
   "execution_count": 235,
   "metadata": {},
   "outputs": [
    {
     "data": {
      "text/plain": [
       "np.float64(0.666361)"
      ]
     },
     "execution_count": 235,
     "metadata": {},
     "output_type": "execute_result"
    }
   ],
   "source": [
    "# тащит второй билет\n",
    "\n",
    "tickets = list(range(1,31))\n",
    "student = list(range(1,21))\n",
    "\n",
    "res = []\n",
    "\n",
    "for _ in range(1000000):\n",
    "    np.random.shuffle(tickets)\n",
    "    res.append(tickets[1] in student)\n",
    "\n",
    "np.mean(res)"
   ]
  },
  {
   "cell_type": "code",
   "execution_count": null,
   "metadata": {},
   "outputs": [],
   "source": [
    "# Произошло ДТП с такси две конторы синие - 15% такси и зеленые - 85%. Свидетель говорит что синие, вероятность его ошибики 80%. Какова вероятрость что такси принадлежало синие\n",
    "# вероятнсть что синие\n",
    "\n"
   ]
  },
  {
   "cell_type": "code",
   "execution_count": null,
   "metadata": {},
   "outputs": [],
   "source": []
  }
 ],
 "metadata": {
  "kernelspec": {
   "display_name": "Python 3",
   "language": "python",
   "name": "python3"
  },
  "language_info": {
   "codemirror_mode": {
    "name": "ipython",
    "version": 3
   },
   "file_extension": ".py",
   "mimetype": "text/x-python",
   "name": "python",
   "nbconvert_exporter": "python",
   "pygments_lexer": "ipython3",
   "version": "3.13.0"
  }
 },
 "nbformat": 4,
 "nbformat_minor": 2
}
