{
 "cells": [
  {
   "cell_type": "markdown",
   "metadata": {},
   "source": [
    "### Формула Бернулли\n",
    "\n",
    "[1. ](#1)\n",
    "\n",
    "[2. ](#2)\n",
    "\n",
    "[3. ](#3)\n",
    "\n",
    "[4. ](#4)\n",
    "\n",
    "[5. ](#5)\n",
    "\n",
    "[6. ](#6)\n",
    "\n",
    "[7. ](#7)\n",
    "\n",
    "[8. ](#8)\n",
    "\n",
    "[9. ](#9)"
   ]
  },
  {
   "cell_type": "code",
   "execution_count": null,
   "metadata": {},
   "outputs": [],
   "source": [
    "import pandas as pd\n",
    "import numpy as np\n",
    "import seaborn as sns\n",
    "import matplotlib.pyplot as plt\n",
    "from scipy import special\n",
    "plt.style.use('dark_background')\n",
    "df_customers  = pd.read_csv('') "
   ]
  },
  {
   "cell_type": "markdown",
   "metadata": {},
   "source": [
    "<a id=\"1\"></a>\n",
    "Задача: "
   ]
  }
 ],
 "metadata": {
  "language_info": {
   "name": "python"
  }
 },
 "nbformat": 4,
 "nbformat_minor": 2
}
