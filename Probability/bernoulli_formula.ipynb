{
 "cells": [
  {
   "cell_type": "markdown",
   "metadata": {},
   "source": [
    "### Формула Бернулли\n",
    "\n",
    "p = 0.3\n",
    "\n",
    "k = 1\n",
    "\n",
    "n = 8\n",
    "\n",
    "special.comb(n, k) * (p ** k) * (1- p) ** (n-k)\n",
    "\n",
    "[1. Устройство, состоящее из пяти независимо работающих элементов, включается за время Т. Вероятность отказа каждого из них за это время равна 0,4. Найти вероятность того, что откажут три элемента.](#1)\n",
    "\n",
    "[2. Устройство, состоящее из пяти независимо работающих элементов, включается за время Т. Вероятность отказа каждого из них за это время равна 0,4. Найдите вероятность того, что хотя бы один элемент откажет.](#2)\n",
    "\n",
    "[3. Производится 8 выстрелов по цели, в каждом из которых вероятность попадания равна 0,3. Найти вероятность того, что цель будет поражена хотя бы два раза.](#3)\n",
    "\n",
    "[4. В магазине 7 покупателей. Каждый может совершить покупку с вероятностью 0,4. Найти вероятность того, что не более двух человек совершат покупку.](#4)\n",
    "\n",
    "[5. В телеателье имеется 7 телевизоров. Для каждого телевизора вероятность того, что в данный момент он включен, равна 0,5. Найти вероятность того, что в данный момент включены не менее трех телевизоров.](#5)\n",
    "\n",
    "[6. Пусть вероятность того, что покупателю необходим компьютер с операционной системой Linux, равна 0.25. Найдите вероятность того, что из шести покупателей по крайней мере двум необходим компьютер с операционной системой Linux.](#6)\n",
    "\n",
    "[7. Для нормальной работы отдела по дата-аналитике необходимо, чтобы в офисе было не менее восьми программистов, а всего в штате 10 программистов. Вероятность того, что программист заболеет, равна 0.1. Найдите вероятность нормальной работы отдела по дата-аналитике.](#7)\n",
    "\n",
    "[8. Среди всех скриптов, которые пишет программист, с 10%-ой вероятностью скрипт будет с ошибкой. Найдем вероятность того, что среди 30 скриптов два не будут работать.](#8)\n",
    "\n",
    "[9. В урне 20 шаров: 15 белых и 5 чёрных. Вынули подряд 5 шаров, причём каждый вынутый шар возвращается в урну и перед извлечением следующего шары в урне тщательно перемешиваются. Найдите вероятность того, что из пяти вынутых шаров будет 2 белых.](#9)"
   ]
  },
  {
   "cell_type": "code",
   "execution_count": 1,
   "metadata": {},
   "outputs": [],
   "source": [
    "import pandas as pd\n",
    "import numpy as np\n",
    "import seaborn as sns\n",
    "import matplotlib.pyplot as plt\n",
    "from scipy import special\n",
    "plt.style.use('dark_background')"
   ]
  },
  {
   "cell_type": "markdown",
   "metadata": {},
   "source": [
    "<a id=\"1\"></a>\n",
    "Задача: Устройство, состоящее из пяти независимо работающих элементов, включается за время Т. \n",
    "\n",
    "Вероятность отказа каждого из них за это время равна 0,4. \n",
    "\n",
    "Найти вероятность того, что откажут три элемента."
   ]
  },
  {
   "cell_type": "code",
   "execution_count": 16,
   "metadata": {},
   "outputs": [
    {
     "data": {
      "text/plain": [
       "np.float64(0.23040000000000005)"
      ]
     },
     "execution_count": 16,
     "metadata": {},
     "output_type": "execute_result"
    }
   ],
   "source": [
    "#special.comb(n, k)\n",
    "p = 0.4\n",
    "q = 1- p\n",
    "k = 3\n",
    "n = 5\n",
    "\n",
    "special.comb(n, k) * (p**k) * ((1- p)**(n-k))\n"
   ]
  },
  {
   "cell_type": "code",
   "execution_count": 86,
   "metadata": {},
   "outputs": [
    {
     "data": {
      "text/plain": [
       "np.float64(0.22875999999999996)"
      ]
     },
     "execution_count": 86,
     "metadata": {},
     "output_type": "execute_result"
    }
   ],
   "source": [
    "def test(n):\n",
    "    cnt = 0\n",
    "    for _ in range(n):\n",
    "        elements = np.random.binomial(1,0.4,5)\n",
    "        if pd.Series(elements).sum() ==3:\n",
    "            cnt = cnt + 1\n",
    "    cnt = cnt / n\n",
    "    return cnt\n",
    "\n",
    "res = []\n",
    "\n",
    "[res.append(test(1000)) for _ in range(100)]\n",
    "pd.Series(res).mean()\n",
    "\n",
    "\n"
   ]
  },
  {
   "cell_type": "code",
   "execution_count": 52,
   "metadata": {},
   "outputs": [
    {
     "data": {
      "text/plain": [
       "<Axes: >"
      ]
     },
     "execution_count": 52,
     "metadata": {},
     "output_type": "execute_result"
    },
    {
     "data": {
      "image/png": "[encoded data removed]",
      "text/plain": [
       "<Figure size 640x480 with 1 Axes>"
      ]
     },
     "metadata": {},
     "output_type": "display_data"
    }
   ],
   "source": [
    "pd.Series(res).hist(bins = 15)"
   ]
  },
  {
   "cell_type": "markdown",
   "metadata": {},
   "source": [
    "<a id=\"2\"></a>\n",
    "Задача: Устройство, состоящее из пяти независимо работающих элементов, включается за время Т. \n",
    "\n",
    "Вероятность отказа каждого из них за это время равна 0,4. \n",
    "\n",
    "Найдите вероятность того, что хотя бы один элемент откажет."
   ]
  },
  {
   "cell_type": "code",
   "execution_count": 56,
   "metadata": {},
   "outputs": [
    {
     "data": {
      "text/plain": [
       "0.9222400000000001"
      ]
     },
     "execution_count": 56,
     "metadata": {},
     "output_type": "execute_result"
    }
   ],
   "source": [
    "#Хотя бы один откажет - обратное от ни один не отказал\n",
    "1-0.6**5"
   ]
  },
  {
   "cell_type": "code",
   "execution_count": null,
   "metadata": {},
   "outputs": [
    {
     "data": {
      "text/plain": [
       "np.float64(0.9213400000000002)"
      ]
     },
     "execution_count": 89,
     "metadata": {},
     "output_type": "execute_result"
    }
   ],
   "source": [
    "def test2(n):\n",
    "    cnt = 0\n",
    "    for _ in range(n):\n",
    "        elements = np.random.binomial(1,0.4,5)\n",
    "        if pd.Series(elements).sum() > 0:\n",
    "            cnt = cnt + 1\n",
    "    cnt = cnt / n\n",
    "    return cnt\n",
    "\n",
    "res = []\n",
    "\n",
    "[res.append(test2(1000)) for _ in range(100)]\n",
    "pd.Series(res).mean()"
   ]
  },
  {
   "cell_type": "markdown",
   "metadata": {},
   "source": [
    "<a id=\"3\"></a>\n",
    "Задача: Производится 8 выстрелов по цели, в каждом из которых вероятность попадания равна 0,3.\n",
    "\n",
    "Найти вероятность того, что цель будет поражена хотя бы два раза."
   ]
  },
  {
   "cell_type": "code",
   "execution_count": 79,
   "metadata": {},
   "outputs": [
    {
     "data": {
      "text/plain": [
       "0.7447016700000001"
      ]
     },
     "execution_count": 79,
     "metadata": {},
     "output_type": "execute_result"
    }
   ],
   "source": [
    "# Хотя бы два раза - обратное от поражена 1 раз (0.3*0.7*8) или не поражена ни разу ()\n",
    "\n",
    "#поражена 1 раз - 8 вариантов 0,3*0,7**7 или то есть восесь раз сложить, то есть 8*0.3*0.7**7\n",
    "#восемь промахов = 0.7**8\n",
    "\n",
    "1 - (8*0.3*0.7**7 + 0.7**8)"
   ]
  },
  {
   "cell_type": "code",
   "execution_count": 83,
   "metadata": {},
   "outputs": [
    {
     "data": {
      "text/plain": [
       "np.float64(0.7447016700000001)"
      ]
     },
     "execution_count": 83,
     "metadata": {},
     "output_type": "execute_result"
    }
   ],
   "source": [
    "# через формулу можно посчитать вроетяноть 1 попадания из 8\n",
    "p = 0.3\n",
    "q = 1- p\n",
    "k = 1\n",
    "n = 8\n",
    "\n",
    "1 - (special.comb(n, k) * (p**k) * ((1- p)**(n-k)) + 0.7**8)"
   ]
  },
  {
   "cell_type": "code",
   "execution_count": 91,
   "metadata": {},
   "outputs": [
    {
     "data": {
      "text/plain": [
       "np.float64(0.74512)"
      ]
     },
     "execution_count": 91,
     "metadata": {},
     "output_type": "execute_result"
    }
   ],
   "source": [
    "def test3(n):\n",
    "    cnt = 0\n",
    "    for _ in range(n):\n",
    "        elements = np.random.binomial(1,0.3,8)\n",
    "        if pd.Series(elements).sum() > 1:\n",
    "            cnt = cnt + 1\n",
    "    cnt = cnt / n\n",
    "    return cnt\n",
    "\n",
    "res = []\n",
    "\n",
    "[res.append(test3(1000)) for _ in range(100)]\n",
    "pd.Series(res).mean()"
   ]
  },
  {
   "cell_type": "markdown",
   "metadata": {},
   "source": [
    "<a id=\"4\"></a>\n",
    "Задача: В магазине 7 покупателей. \n",
    "\n",
    "Каждый может совершить покупку с вероятностью 0,4. \n",
    "\n",
    "Найти вероятность того, что не более двух человек совершат покупку."
   ]
  },
  {
   "cell_type": "code",
   "execution_count": null,
   "metadata": {},
   "outputs": [
    {
     "data": {
      "text/plain": [
       "np.float64(0.419904)"
      ]
     },
     "execution_count": 93,
     "metadata": {},
     "output_type": "execute_result"
    }
   ],
   "source": [
    "# Не более 2 покупок - значит 0 или 1 или 2 покупки\n",
    "\n",
    "# 0 покупок - 0.6**7\n",
    "# 1 покупка - 7*0,4*0,6**6\n",
    "# 2 покупки - \n",
    "p = 0.4\n",
    "q = 1-  p\n",
    "k = 2\n",
    "n = 7\n",
    "\n",
    "special.comb(n, k) * (p**k) * ((1- p)**(n-k)) + 7 * 0.4 * 0.6**6 + 0.6**7"
   ]
  },
  {
   "cell_type": "code",
   "execution_count": 92,
   "metadata": {},
   "outputs": [
    {
     "data": {
      "text/plain": [
       "np.float64(0.42256000000000005)"
      ]
     },
     "execution_count": 92,
     "metadata": {},
     "output_type": "execute_result"
    }
   ],
   "source": [
    "def test4(n):\n",
    "    cnt = 0\n",
    "    for _ in range(n):\n",
    "        elements = np.random.binomial(1,0.4,7)\n",
    "        if pd.Series(elements).sum() <= 2:\n",
    "            cnt = cnt + 1\n",
    "    cnt = cnt / n\n",
    "    return cnt\n",
    "\n",
    "res = []\n",
    "\n",
    "[res.append(test4(1000)) for _ in range(100)]\n",
    "pd.Series(res).mean()"
   ]
  },
  {
   "cell_type": "markdown",
   "metadata": {},
   "source": [
    "<a id=\"5\"></a>\n",
    "Задача: В телеателье имеется 7 телевизоров. \n",
    "\n",
    "Для каждого телевизора вероятность того, что в данный момент он включен, равна 0,5.\n",
    "\n",
    "Найти вероятность того, что в данный момент включены не менее трех телевизоров."
   ]
  },
  {
   "cell_type": "code",
   "execution_count": 59,
   "metadata": {},
   "outputs": [
    {
     "data": {
      "text/plain": [
       "np.float64(0.7734375)"
      ]
     },
     "execution_count": 59,
     "metadata": {},
     "output_type": "execute_result"
    }
   ],
   "source": [
    "# Не менее трех включены значит включено 3 или 4 или 5 или 6 или 7 \n",
    "res = []\n",
    "for i in range(3,8):\n",
    "    p = 0.5\n",
    "    q = 1- p\n",
    "    k = i\n",
    "    n = 7\n",
    "    res.append(special.comb(n, k) * (p**k) * ((1- p)**(n-k)))\n",
    "pd.Series(res).sum()"
   ]
  },
  {
   "cell_type": "code",
   "execution_count": 85,
   "metadata": {},
   "outputs": [
    {
     "data": {
      "text/plain": [
       "np.float64(0.7735)"
      ]
     },
     "execution_count": 85,
     "metadata": {},
     "output_type": "execute_result"
    }
   ],
   "source": [
    "def tele_test(n):\n",
    "    x = []\n",
    "    res = []\n",
    "    cnt = 0\n",
    "    for _ in range(n):\n",
    "        x = np.random.binomial(1,0.5,7)\n",
    "        if x.sum() > 2:\n",
    "            cnt = cnt + 1\n",
    "    return cnt/n\n",
    "\n",
    "r = []\n",
    "[r.append(tele_test(10)) for _ in range(1000)]\n",
    "pd.Series(r).mean()\n",
    "\n"
   ]
  },
  {
   "cell_type": "markdown",
   "metadata": {},
   "source": [
    "<a id=\"6\"></a>\n",
    "Задача: Пусть вероятность того, что покупателю необходим компьютер с операционной системой Linux, равна 0.25.\n",
    "\n",
    "Найдите вероятность того, что из шести покупателей по крайней мере двум необходим компьютер с операционной системой Linux."
   ]
  },
  {
   "cell_type": "code",
   "execution_count": 97,
   "metadata": {},
   "outputs": [
    {
     "data": {
      "text/plain": [
       "np.float64(0.466064453125)"
      ]
     },
     "execution_count": 97,
     "metadata": {},
     "output_type": "execute_result"
    }
   ],
   "source": [
    "# Хотя бы двум - двум и больше - все 1 кроме - \"одному\" + \"никому\"\n",
    "\n",
    "p = 0.25\n",
    "q = 1 - p\n",
    "k = 1\n",
    "n = 6\n",
    "\n",
    "1 - (special.comb(n, k) * (p**k) * ((1- p)**(n-k)) + 0.75**6)"
   ]
  },
  {
   "cell_type": "code",
   "execution_count": 134,
   "metadata": {},
   "outputs": [
    {
     "data": {
      "text/plain": [
       "46.02"
      ]
     },
     "execution_count": 134,
     "metadata": {},
     "output_type": "execute_result"
    }
   ],
   "source": [
    "cnt = 1\n",
    "for _ in range(10000):\n",
    "    if np.random.binomial(1,0.25,6).sum () > 1: cnt = cnt + 1\n",
    "cnt / 100\n",
    "\n"
   ]
  },
  {
   "cell_type": "markdown",
   "metadata": {},
   "source": [
    "<a id=\"7\"></a>\n",
    "Задача: Для нормальной работы отдела по дата-аналитике необходимо, чтобы в офисе было не менее 8 программистов, а всего в штате 10 программистов. \n",
    "\n",
    "Вероятность того, что программист заболеет, равна 0.1. \n",
    "\n",
    "Найдите вероятность нормальной работы отдела по дата-аналитике."
   ]
  },
  {
   "cell_type": "code",
   "execution_count": 139,
   "metadata": {},
   "outputs": [
    {
     "data": {
      "text/plain": [
       "np.float64(0.9298091736)"
      ]
     },
     "execution_count": 139,
     "metadata": {},
     "output_type": "execute_result"
    }
   ],
   "source": [
    "# не менее 8 - 8 или больше: 8 или 9 или 10\n",
    "\n",
    "p = 1-0.1\n",
    "q = 1 - p\n",
    "k = 8\n",
    "n = 10\n",
    "\n",
    "p8 = special.comb(n, k) * (p**k) * ((1- p)**(n-k))\n",
    "\n",
    "p = 1-0.1\n",
    "q = 1 - p\n",
    "k = 9\n",
    "n = 10\n",
    "\n",
    "p9 = special.comb(n, k) * (p**k) * ((1- p)**(n-k))\n",
    "\n",
    "p8 + p9 + 0.9**10"
   ]
  },
  {
   "cell_type": "markdown",
   "metadata": {},
   "source": [
    "<a id=\"8\"></a> Среди всех скриптов, которые пишет программист, с 10%-ой вероятностью скрипт будет с ошибкой.\n",
    "\n",
    " Найдем вероятность того, что среди 30 скриптов два не будут работать."
   ]
  },
  {
   "cell_type": "code",
   "execution_count": 188,
   "metadata": {},
   "outputs": [
    {
     "data": {
      "text/plain": [
       "np.float64(0.22765622036690203)"
      ]
     },
     "execution_count": 188,
     "metadata": {},
     "output_type": "execute_result"
    }
   ],
   "source": [
    "p = 0.1\n",
    "q = 1 - p\n",
    "k = 2\n",
    "n = 30\n",
    "\n",
    "special.comb(n, k) * (p**k) * ((1- p)**(n-k))"
   ]
  },
  {
   "cell_type": "code",
   "execution_count": 196,
   "metadata": {},
   "outputs": [
    {
     "data": {
      "text/plain": [
       "np.float64(0.22816)"
      ]
     },
     "execution_count": 196,
     "metadata": {},
     "output_type": "execute_result"
    }
   ],
   "source": [
    "t = []\n",
    "[t.append(1) for _ in range(100000) if np.random.binomial(1,0.1,30).sum() == 2]\n",
    "pd.Series(t).sum()/100000"
   ]
  },
  {
   "cell_type": "markdown",
   "metadata": {},
   "source": [
    "<a id=\"9\"></a> В урне 20 шаров: 15 белых и 5 чёрных. \n",
    "\n",
    "Вынули подряд 5 шаров, причём каждый вынутый шар возвращается в урну и перед извлечением следующего шары в урне тщательно перемешиваются. \n",
    "\n",
    "Найдите вероятность того, что из пяти вынутых шаров будет 2 белых."
   ]
  },
  {
   "cell_type": "code",
   "execution_count": 296,
   "metadata": {},
   "outputs": [
    {
     "data": {
      "text/plain": [
       "np.float64(0.087890625)"
      ]
     },
     "execution_count": 296,
     "metadata": {},
     "output_type": "execute_result"
    }
   ],
   "source": [
    "p = 15/20\n",
    "q = 1 - p\n",
    "k = 2\n",
    "n = 5\n",
    "\n",
    "special.comb(n, k) * (p**k) * ((1- p)**(n-k))"
   ]
  }
 ],
 "metadata": {
  "kernelspec": {
   "display_name": "Python 3",
   "language": "python",
   "name": "python3"
  },
  "language_info": {
   "codemirror_mode": {
    "name": "ipython",
    "version": 3
   },
   "file_extension": ".py",
   "mimetype": "text/x-python",
   "name": "python",
   "nbconvert_exporter": "python",
   "pygments_lexer": "ipython3",
   "version": "3.13.0"
  }
 },
 "nbformat": 4,
 "nbformat_minor": 2
}
